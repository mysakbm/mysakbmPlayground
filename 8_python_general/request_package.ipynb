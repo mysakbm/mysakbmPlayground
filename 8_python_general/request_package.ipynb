{
 "cells": [
  {
   "metadata": {},
   "cell_type": "markdown",
   "source": "# Balicek Reuqest",
   "id": "6b89952a8837190c"
  },
  {
   "metadata": {},
   "cell_type": "markdown",
   "source": "## Make a Request",
   "id": "abe200134061a53"
  },
  {
   "metadata": {},
   "cell_type": "code",
   "outputs": [],
   "execution_count": null,
   "source": "import requests",
   "id": "4911e91fe23440a4"
  },
  {
   "metadata": {},
   "cell_type": "code",
   "outputs": [],
   "execution_count": null,
   "source": "r = requests.get('https://api.github.com/events')",
   "id": "3c8a5594e3cf7a7a"
  },
  {
   "metadata": {},
   "cell_type": "markdown",
   "source": "Now, we have a Response object called r. We can get all the information we need from this object.",
   "id": "e99c2a4aac7b11f"
  },
  {
   "metadata": {},
   "cell_type": "markdown",
   "source": "this is how you make an HTTP POST request:",
   "id": "47ba6a38ac9dfb0d"
  },
  {
   "metadata": {},
   "cell_type": "code",
   "outputs": [],
   "execution_count": null,
   "source": "r = requests.post('https://httpbin.org/post', data={'key': 'value'})",
   "id": "c069d3e0fc9ca5c1"
  },
  {
   "metadata": {},
   "cell_type": "markdown",
   "source": "What about the other HTTP request types: PUT, DELETE, HEAD and OPTIONS? These are all just as simple:",
   "id": "ddd3844bbaf4a97b"
  },
  {
   "metadata": {},
   "cell_type": "code",
   "outputs": [],
   "execution_count": null,
   "source": [
    "r = requests.put('https://httpbin.org/put', data={'key': 'value'})\n",
    "r = requests.delete('https://httpbin.org/delete')\n",
    "r = requests.head('https://httpbin.org/get')\n",
    "r = requests.options('https://httpbin.org/get')"
   ],
   "id": "763c8fb90817d39b"
  },
  {
   "metadata": {},
   "cell_type": "markdown",
   "source": "## Passing Parameters In URLs",
   "id": "19f9f4ef8299549d"
  },
  {
   "metadata": {},
   "cell_type": "markdown",
   "source": "You often want to send some sort of data in the URL’s query string. If you were constructing the URL by hand, this data would be given as key/value pairs in the URL after a question mark, e.g. httpbin.org/get?key=val. Requests allows you to provide these arguments as a dictionary of strings, using the params keyword argument. As an example, if you wanted to pass key1=value1 and key2=value2 to httpbin.org/get, you would use the following code:",
   "id": "554a4c857448918b"
  },
  {
   "metadata": {},
   "cell_type": "code",
   "outputs": [],
   "execution_count": null,
   "source": [
    "payload = {'key1': 'value1', 'key2': 'value2'}\n",
    "r = requests.get('https://httpbin.org/get', params=payload)"
   ],
   "id": "404cb6e6cc3eda1"
  },
  {
   "metadata": {},
   "cell_type": "markdown",
   "source": "You can see that the URL has been correctly encoded by printing the URL:",
   "id": "dae95071af1e1690"
  },
  {
   "metadata": {},
   "cell_type": "code",
   "outputs": [],
   "execution_count": null,
   "source": [
    "print(r.url)\n",
    "# https://httpbin.org/get?key2=value2&key1=value1"
   ],
   "id": "359531a55f8afc6b"
  },
  {
   "metadata": {},
   "cell_type": "markdown",
   "source": [
    "Note that any dictionary key whose value is None will not be added to the URL’s query string.\n",
    "\n",
    "You can also pass a list of items as a value:"
   ],
   "id": "9d84d92bbf8432d7"
  },
  {
   "metadata": {},
   "cell_type": "code",
   "outputs": [],
   "execution_count": null,
   "source": [
    "payload = {'key1': 'value1', 'key2': ['value2', 'value3']}\n",
    "\n",
    "r = requests.get('https://httpbin.org/get', params=payload)\n",
    "print(r.url)\n",
    "# https://httpbin.org/get?key1=value1&key2=value2&key2=value3"
   ],
   "id": "6268190d076ceaa4"
  },
  {
   "metadata": {},
   "cell_type": "markdown",
   "source": "## Response Content",
   "id": "6d6095d0758f0a45"
  },
  {
   "metadata": {},
   "cell_type": "markdown",
   "source": "We can read the content of the server’s response. Consider the GitHub timeline again:",
   "id": "a9e2a7f1771baa87"
  },
  {
   "metadata": {},
   "cell_type": "code",
   "outputs": [],
   "execution_count": null,
   "source": [
    "import requests\n",
    "\n",
    "r = requests.get('https://api.github.com/events')\n",
    "r.text\n",
    "# '[{\"repository\":{\"open_issues\":0,\"url\":\"https://github.com/..."
   ],
   "id": "c9c4735f6626bf7f"
  },
  {
   "metadata": {},
   "cell_type": "markdown",
   "source": [
    "Requests will automatically decode content from the server. Most unicode charsets are seamlessly decoded.\n",
    "\n",
    "When you make a request, Requests makes educated guesses about the encoding of the response based on the HTTP headers. The text encoding guessed by Requests is used when you access r.text. You can find out what encoding Requests is using, and change it, using the r.encoding property:"
   ],
   "id": "cc95e8e3cd110374"
  },
  {
   "metadata": {},
   "cell_type": "code",
   "outputs": [],
   "execution_count": null,
   "source": [
    "r.encoding\n",
    "# 'utf-8'\n",
    "r.encoding = 'ISO-8859-1'"
   ],
   "id": "cbba3d9f0cd9cbb4"
  },
  {
   "metadata": {},
   "cell_type": "markdown",
   "source": "## Binary Response Content",
   "id": "cf046d94e03fd132"
  },
  {
   "metadata": {},
   "cell_type": "markdown",
   "source": "You can also access the response body as bytes, for non-text requests:",
   "id": "cc4371fda04afbdb"
  },
  {
   "metadata": {},
   "cell_type": "code",
   "outputs": [],
   "execution_count": null,
   "source": [
    "r.content\n",
    "# b'[{\"repository\":{\"open_issues\":0,\"url\":\"https://github.com/..."
   ],
   "id": "74749a56a19c7cd1"
  },
  {
   "metadata": {},
   "cell_type": "markdown",
   "source": [
    "The gzip and deflate transfer-encodings are automatically decoded for you.\n",
    "\n",
    "The br transfer-encoding is automatically decoded for you if a Brotli library like brotli or brotlicffi is installed.\n",
    "\n",
    "For example, to create an image from binary data returned by a request, you can use the following code:"
   ],
   "id": "aaa02bb3dc9e8d59"
  },
  {
   "metadata": {},
   "cell_type": "code",
   "outputs": [],
   "execution_count": null,
   "source": [
    "from PIL import Image\n",
    "from io import BytesIO\n",
    "\n",
    "i = Image.open(BytesIO(r.content))"
   ],
   "id": "c67675b1d855a1ae"
  },
  {
   "metadata": {},
   "cell_type": "markdown",
   "source": [
    "## JSON Response Content\n",
    "There’s also a builtin JSON decoder, in case you’re dealing with JSON data:"
   ],
   "id": "7b0e852ddf934a76"
  },
  {
   "metadata": {},
   "cell_type": "code",
   "outputs": [],
   "execution_count": null,
   "source": [
    "import requests\n",
    "\n",
    "r = requests.get('https://api.github.com/events')\n",
    "r.json()\n",
    "# [{'repository': {'open_issues': 0, 'url': 'https://github.com/..."
   ],
   "id": "633af9e58e3cbf82"
  },
  {
   "metadata": {},
   "cell_type": "markdown",
   "source": [
    "In case the JSON decoding fails, r.json() raises an exception. For example, if the response gets a 204 (No Content), or if the response contains invalid JSON, attempting r.json() raises requests.exceptions.JSONDecodeError. This wrapper exception provides interoperability for multiple exceptions that may be thrown by different python versions and json serialization libraries.\n",
    "\n",
    "It should be noted that the success of the call to r.json() does not indicate the success of the response. Some servers may return a JSON object in a failed response (e.g. error details with HTTP 500). Such JSON will be decoded and returned. To check that a request is successful, use r.raise_for_status() or check r.status_code is what you expect."
   ],
   "id": "a41f68a09acb1a7d"
  },
  {
   "metadata": {},
   "cell_type": "markdown",
   "source": "## Custom Headers",
   "id": "677907d1e9681537"
  },
  {
   "metadata": {},
   "cell_type": "markdown",
   "source": [
    "If you’d like to add HTTP headers to a request, simply pass in a dict to the headers parameter.\n",
    "\n",
    "For example, we didn’t specify our user-agent in the previous example:"
   ],
   "id": "7d2faf5f2ef657a3"
  },
  {
   "metadata": {},
   "cell_type": "code",
   "outputs": [],
   "execution_count": null,
   "source": [
    "url = 'https://api.github.com/some/endpoint'\n",
    "headers = {'user-agent': 'my-app/0.0.1'}\n",
    "\n",
    "r = requests.get(url, headers=headers)"
   ],
   "id": "f41d5fe32fcbfbc6"
  },
  {
   "metadata": {},
   "cell_type": "markdown",
   "source": [
    "Note: Custom headers are given less precedence than more specific sources of information. For instance:\n",
    "\n",
    "Authorization headers set with headers= will be overridden if credentials are specified in .netrc, which in turn will be overridden by the auth= parameter. Requests will search for the netrc file at ~/.netrc, ~/_netrc, or at the path specified by the NETRC environment variable.\n",
    "Authorization headers will be removed if you get redirected off-host.\n",
    "Proxy-Authorization headers will be overridden by proxy credentials provided in the URL.\n",
    "Content-Length headers will be overridden when we can determine the length of the content.\n",
    "Furthermore, Requests does not change its behavior at all based on which custom headers are specified. The headers are simply passed on into the final request.\n",
    "\n",
    "Note: All header values must be a string, bytestring, or unicode. While permitted, it’s advised to avoid passing unicode header values."
   ],
   "id": "3c56ee42da0e30b"
  },
  {
   "metadata": {},
   "cell_type": "markdown",
   "source": "## More complicated POST requests",
   "id": "6ce8fcde3a34db9f"
  },
  {
   "metadata": {},
   "cell_type": "markdown",
   "source": "Typically, you want to send some form-encoded data — much like an HTML form. To do this, simply pass a dictionary to the data argument. Your dictionary of data will automatically be form-encoded when the request is made:",
   "id": "821f48c830fb81b3"
  },
  {
   "metadata": {},
   "cell_type": "code",
   "outputs": [],
   "execution_count": null,
   "source": [
    "payload = {'key1': 'value1', 'key2': 'value2'}\n",
    "\n",
    "r = requests.post('https://httpbin.org/post', data=payload)\n",
    "print(r.text)\n",
    "# {\n",
    "#   ...\n",
    "#   \"form\": {\n",
    "#     \"key2\": \"value2\",\n",
    "#     \"key1\": \"value1\"\n",
    "#   },\n",
    "#   ...\n",
    "# }"
   ],
   "id": "e300e533e957e2a9"
  },
  {
   "metadata": {},
   "cell_type": "markdown",
   "source": "The data argument can also have multiple values for each key. This can be done by making data either a list of tuples or a dictionary with lists as values. This is particularly useful when the form has multiple elements that use the same key:",
   "id": "e43314a54c72ff56"
  },
  {
   "metadata": {},
   "cell_type": "code",
   "outputs": [],
   "execution_count": null,
   "source": [
    "payload_tuples = [('key1', 'value1'), ('key1', 'value2')]\n",
    "r1 = requests.post('https://httpbin.org/post', data=payload_tuples)\n",
    "payload_dict = {'key1': ['value1', 'value2']}\n",
    "r2 = requests.post('https://httpbin.org/post', data=payload_dict)\n",
    "print(r1.text)\n",
    "{\n",
    "  ...\n",
    "  \"form\": {\n",
    "    \"key1\": [\n",
    "      \"value1\",\n",
    "      \"value2\"\n",
    "    ]\n",
    "  },\n",
    "  ...\n",
    "}\n",
    "r1.text == r2.text"
   ],
   "id": "ddf62c67115b1993"
  },
  {
   "metadata": {},
   "cell_type": "markdown",
   "source": [
    "There are times that you may want to send data that is not form-encoded. If you pass in a string instead of a dict, that data will be posted directly.\n",
    "\n",
    "For example, the GitHub API v3 accepts JSON-Encoded POST/PATCH data:"
   ],
   "id": "f9c03c441a9db76e"
  },
  {
   "metadata": {},
   "cell_type": "code",
   "outputs": [],
   "execution_count": null,
   "source": [
    "import json\n",
    "\n",
    "url = 'https://api.github.com/some/endpoint'\n",
    "payload = {'some': 'data'}\n",
    "\n",
    "r = requests.post(url, data=json.dumps(payload))"
   ],
   "id": "2d5ddac121b1051d"
  },
  {
   "metadata": {},
   "cell_type": "markdown",
   "source": [
    "Please note that the above code will NOT add the Content-Type header (so in particular it will NOT set it to application/json).\n",
    "\n",
    "If you need that header set and you don’t want to encode the dict yourself, you can also pass it directly using the json parameter (added in version 2.4.2) and it will be encoded automatically:"
   ],
   "id": "60cbd68fb9416f2"
  },
  {
   "metadata": {},
   "cell_type": "code",
   "outputs": [],
   "execution_count": null,
   "source": [
    "url = 'https://api.github.com/some/endpoint'\n",
    "payload = {'some': 'data'}\n",
    "r = requests.post(url, json=payload)"
   ],
   "id": "43ba1afa8a374212"
  },
  {
   "metadata": {},
   "cell_type": "markdown",
   "source": "## Response Status Codes",
   "id": "9ead1efe8a708ef9"
  },
  {
   "metadata": {},
   "cell_type": "code",
   "outputs": [],
   "execution_count": null,
   "source": [
    "r = requests.get('https://httpbin.org/get')\n",
    "r.status_code\n",
    "# 200"
   ],
   "id": "56d73b63f2a9f38d"
  },
  {
   "metadata": {},
   "cell_type": "code",
   "outputs": [],
   "execution_count": null,
   "source": [
    "r.status_code == requests.codes.ok\n",
    "# True"
   ],
   "id": "4e14d3b5c8189497"
  },
  {
   "metadata": {},
   "cell_type": "markdown",
   "source": "If we made a bad request (a 4XX client error or 5XX server error response), we can raise it with Response.raise_for_status():",
   "id": "ce6ecbc84a93f309"
  },
  {
   "metadata": {},
   "cell_type": "code",
   "outputs": [],
   "execution_count": null,
   "source": [
    "bad_r = requests.get('https://httpbin.org/status/404')\n",
    "bad_r.status_code\n",
    "# 404\n",
    "\n",
    "bad_r.raise_for_status()\n",
    "# Traceback (most recent call last):\n",
    "#   File \"requests/models.py\", line 832, in raise_for_status\n",
    "#     raise http_error\n",
    "# requests.exceptions.HTTPError: 404 Client Error"
   ],
   "id": "657e9dbeb68208a8"
  },
  {
   "metadata": {},
   "cell_type": "markdown",
   "source": "But, since our status_code for r was 200, when we call raise_for_status() we get:",
   "id": "c161eed0c591d35"
  },
  {
   "metadata": {
    "ExecuteTime": {
     "end_time": "2024-10-19T12:48:39.746Z",
     "start_time": "2024-10-19T12:48:39.722790Z"
    }
   },
   "cell_type": "code",
   "source": [
    "r.raise_for_status()\n",
    "# None"
   ],
   "id": "e4cf5b9af4d99a2a",
   "outputs": [
    {
     "ename": "NameError",
     "evalue": "name 'r' is not defined",
     "output_type": "error",
     "traceback": [
      "\u001B[0;31m---------------------------------------------------------------------------\u001B[0m",
      "\u001B[0;31mNameError\u001B[0m                                 Traceback (most recent call last)",
      "Cell \u001B[0;32mIn[29], line 1\u001B[0m\n\u001B[0;32m----> 1\u001B[0m \u001B[43mr\u001B[49m\u001B[38;5;241m.\u001B[39mraise_for_status()\n\u001B[1;32m      2\u001B[0m \u001B[38;5;66;03m# None\u001B[39;00m\n",
      "\u001B[0;31mNameError\u001B[0m: name 'r' is not defined"
     ]
    }
   ],
   "execution_count": 29
  },
  {
   "metadata": {},
   "cell_type": "markdown",
   "source": [
    "## Response Headers\n",
    "We can view the server’s response headers using a Python dictionary:"
   ],
   "id": "1e6c0652b53956b"
  },
  {
   "metadata": {},
   "cell_type": "code",
   "outputs": [],
   "execution_count": null,
   "source": [
    "r.headers\n",
    "# {\n",
    "#     'content-encoding': 'gzip',\n",
    "#     'transfer-encoding': 'chunked',\n",
    "#     'connection': 'close',\n",
    "#     'server': 'nginx/1.0.4',\n",
    "#     'x-runtime': '148ms',\n",
    "#     'etag': '\"e1ca502697e5c9317743dc078f67693f\"',\n",
    "#     'content-type': 'application/json'\n",
    "# }"
   ],
   "id": "531eb19233731348"
  },
  {
   "metadata": {},
   "cell_type": "markdown",
   "source": "## Redirection and History",
   "id": "41f24a0ccd010d59"
  },
  {
   "metadata": {},
   "cell_type": "markdown",
   "source": [
    "By default Requests will perform location redirection for all verbs except HEAD.\n",
    "\n",
    "We can use the history property of the Response object to track redirection.\n",
    "\n",
    "The Response.history list contains the Response objects that were created in order to complete the request. The list is sorted from the oldest to the most recent response.\n",
    "\n",
    "For example, GitHub redirects all HTTP requests to HTTPS:"
   ],
   "id": "31c2641bd2d4c8f1"
  },
  {
   "metadata": {},
   "cell_type": "code",
   "outputs": [],
   "execution_count": null,
   "source": [
    "r = requests.get('http://github.com/')\n",
    "\n",
    "r.url\n",
    "# 'https://github.com/'\n",
    "\n",
    "r.status_code\n",
    "# 200\n",
    "\n",
    "r.history\n",
    "# [<Response [301]>]"
   ],
   "id": "8c27e34b76c08f20"
  },
  {
   "metadata": {},
   "cell_type": "markdown",
   "source": "If you’re using GET, OPTIONS, POST, PUT, PATCH or DELETE, you can disable redirection handling with the allow_redirects parameter:",
   "id": "afa645f27ae19961"
  },
  {
   "metadata": {},
   "cell_type": "code",
   "outputs": [],
   "execution_count": null,
   "source": [
    "r = requests.get('http://github.com/', allow_redirects=False)\n",
    "\n",
    "r.status_code\n",
    "# 301\n",
    "\n",
    "r.history\n",
    "# []"
   ],
   "id": "546b2306bc1bf060"
  },
  {
   "metadata": {},
   "cell_type": "markdown",
   "source": "If you’re using HEAD, you can enable redirection as well:",
   "id": "dbe593fc7c86d40b"
  },
  {
   "metadata": {},
   "cell_type": "code",
   "outputs": [],
   "execution_count": null,
   "source": [
    "r = requests.head('http://github.com/', allow_redirects=True)\n",
    "\n",
    "r.url\n",
    "# 'https://github.com/'\n",
    "\n",
    "r.history\n",
    "# [<Response [301]>]"
   ],
   "id": "63f7602e1ec898d7"
  },
  {
   "metadata": {},
   "cell_type": "markdown",
   "source": [
    "## Timeouts\n",
    "You can tell Requests to stop waiting for a response after a given number of seconds with the timeout parameter. Nearly all production code should use this parameter in nearly all requests. Failure to do so can cause your program to hang indefinitely:"
   ],
   "id": "e5f3510bc56344ea"
  },
  {
   "metadata": {},
   "cell_type": "code",
   "outputs": [],
   "execution_count": null,
   "source": [
    "requests.get('https://github.com/', timeout=0.001)\n",
    "# Traceback (most recent call last):\n",
    "#   File \"<stdin>\", line 1, in <module>\n",
    "# requests.exceptions.Timeout: HTTPConnectionPool(host='github.com', port=80): Request timed out. (timeout=0.001)"
   ],
   "id": "36855f50e4fad467"
  },
  {
   "metadata": {},
   "cell_type": "code",
   "outputs": [],
   "execution_count": null,
   "source": "",
   "id": "19c76ab21cf51414"
  },
  {
   "metadata": {},
   "cell_type": "code",
   "outputs": [],
   "execution_count": null,
   "source": "",
   "id": "afe38ece70b6cd04"
  },
  {
   "metadata": {},
   "cell_type": "code",
   "outputs": [],
   "execution_count": null,
   "source": "",
   "id": "312db299b2668228"
  },
  {
   "metadata": {},
   "cell_type": "code",
   "outputs": [],
   "execution_count": null,
   "source": "",
   "id": "85120a9046568259"
  },
  {
   "metadata": {},
   "cell_type": "code",
   "outputs": [],
   "execution_count": null,
   "source": "",
   "id": "a633d599d620e3f6"
  },
  {
   "metadata": {},
   "cell_type": "code",
   "outputs": [],
   "execution_count": null,
   "source": "",
   "id": "dc98b52008e1eceb"
  },
  {
   "metadata": {},
   "cell_type": "code",
   "outputs": [],
   "execution_count": null,
   "source": "",
   "id": "520a7a2d293fb21d"
  },
  {
   "metadata": {},
   "cell_type": "code",
   "outputs": [],
   "execution_count": null,
   "source": "",
   "id": "42a6f3022c93a3bb"
  }
 ],
 "metadata": {
  "kernelspec": {
   "display_name": "Python 3",
   "language": "python",
   "name": "python3"
  },
  "language_info": {
   "codemirror_mode": {
    "name": "ipython",
    "version": 2
   },
   "file_extension": ".py",
   "mimetype": "text/x-python",
   "name": "python",
   "nbconvert_exporter": "python",
   "pygments_lexer": "ipython2",
   "version": "2.7.6"
  }
 },
 "nbformat": 4,
 "nbformat_minor": 5
}
