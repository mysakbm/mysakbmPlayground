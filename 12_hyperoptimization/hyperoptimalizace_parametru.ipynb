{
 "cells": [
  {
   "cell_type": "markdown",
   "id": "f8b0fb57-018f-4f67-98f1-e2e14e061a07",
   "metadata": {
    "ExecuteTime": {
     "end_time": "2024-04-13T21:09:30.631879Z",
     "start_time": "2024-04-13T21:09:30.628765Z"
    }
   },
   "source": [
    "# Hyper-optimalizace Parametru Modelu"
   ]
  },
  {
   "metadata": {},
   "cell_type": "markdown",
   "source": [
    "V tomto textu se podivame na nekolik moznosti, jak optimalizovat vykonnost modelu na datech. \n",
    "Proc vlastne delame hyperoptimalizaci parametru? Protoze defaultni parametry nemusi byt vzdy vhodny. Nebo jsou suboptimalni pro vykon modelu. \n",
    "Kdyz mame data a rozhodli jsme se na ne pouzit nejaky model, dejme tomu regressni model s regularizaci, tak vnitrni parametry modelu jsou koeficienty, ktery nam vypadnou, kdyz model budeme trenovat na datech. "
   ],
   "id": "8fe0bea35c99adec"
  },
  {
   "metadata": {},
   "cell_type": "markdown",
   "source": [
    "Nicmene, jak zvolit treba regularizacni parametr $\\alpha$, ktery nastavuje vůli regularizace? \n",
    "A co kdyz chceme pouzit L1 i L2 regularizaci? \n",
    "Jake hodnoty pro parametry $\\alpha$ a $\\beta$ mame zvolit? \n",
    "Tyhle dva parametry definuji celou rodinu modelů pro data data a samozrejme, jejich nastavenim se meni i vnitrni parametry modelu, i.e. koeficienty u promennych. "
   ],
   "id": "fd9eeb1c53743a09"
  },
  {
   "metadata": {},
   "cell_type": "markdown",
   "source": "Hyper-parametry se stejne jako vnitrni parametry modelu trenuji. A protoze se na soustavu $\\textit{data-model}$ divame jako na jeden objekt, potrebujeme pro trenovani hyper-parametru \"data\". Toho se docili napriklad pomoci cross-validace, ktera data rozdeli do nahodne skupiny a pro nejaka nastaveni hyper-parametru data natrenuje. ",
   "id": "a09178b8b73fccef"
  },
  {
   "metadata": {},
   "cell_type": "markdown",
   "source": "Nicemen, i v pripade trenovani hyper-parametru muze dojit k over-fittingu a je treba otestovat, zda model funguje. Toho docilime tim, ze model vypustime na data, ktera nebyla pouzita ani pri trenovani vnitrnich parametru, ani pri trenovani hyper-parametru. ",
   "id": "bb117b289a65012"
  },
  {
   "metadata": {},
   "cell_type": "markdown",
   "source": [
    "I vlastni vyber modelu je hyper-parametr. Tj. jestli zvolit regressi, xgboost, catboost, etc. je parametr, ktery se \n",
    "musi natrenovat."
   ],
   "id": "119a7ad96363ab8d"
  },
  {
   "metadata": {},
   "cell_type": "markdown",
   "source": [
    "A jak takove trenovani hyper-parametru probiha?\n",
    "Jsou tri mozne bezne techniky: gird search, random search a bayesian optimization. Grid search je nejbeznejsi, ale neefektivni. Random search je efektivnejsi, ale bayesian optimization je nejefektivnejsi."
   ],
   "id": "540dca6445839733"
  },
  {
   "metadata": {},
   "cell_type": "markdown",
   "source": "## Grid-Search",
   "id": "fd1e95e82904dcc5"
  },
  {
   "metadata": {},
   "cell_type": "markdown",
   "source": "V pripade Grid Search se prochazi veskere kombinace hyper-parametru a pro kazdou kombinaci se natrenuje model.",
   "id": "8b1d59e8c46a3526"
  },
  {
   "metadata": {},
   "cell_type": "markdown",
   "source": "## Random Search",
   "id": "c7879d9518ec86ff"
  },
  {
   "metadata": {},
   "cell_type": "markdown",
   "source": "V pripade Random Search se prochazi nahodne vybrany kombinace hyper-parametru a pro kazdou kombinaci se natrenuje model.",
   "id": "dad51f3bec31cb55"
  },
  {
   "metadata": {},
   "cell_type": "markdown",
   "source": "## Bayesovska Optimalizace",
   "id": "23932f1e7dd24a3"
  },
  {
   "metadata": {},
   "cell_type": "markdown",
   "source": "Bayesovská optimalizace je metoda pro hledání globálního optima black boxu nebo funkce, která je výpočetně náročná na vyhodnocení. ",
   "id": "ce2cf1aa849a6cc8"
  },
  {
   "metadata": {},
   "cell_type": "markdown",
   "source": [
    "- Bayesovská optimalizace kombinuje apriorní znalosti o hledané funkci a evidence získané z pozorování pro konstrukci surrogátního modelu funkce.\n",
    "- Surrogátní model, obvykle Gaussovský proces, se používá k aproximaci skutečné funkce. Model se aktualizuje s každým novým pozorováním.\n",
    "Akvizičních funkcí, jako je očekávané zlepšení (EI) nebo horní interval spolehlivosti (UCB), se používají k inteligentnímu výběru dalších bodů k vyhodnocení.\n",
    "- Maximum akviziční funkce se obvykle hledá pomocí diskretizace nebo pomocí optimalizátoru.\n",
    "- Akviziční funkce jsou maximalizovány pomocí numerické optimalizační techniky, jako je Newtonova metoda nebo kvazi-Newtonovy metody jako algoritmus Broyden–Fletcher–Goldfarb–Shanno."
   ],
   "id": "9e3bded6e8dfda99"
  },
  {
   "metadata": {},
   "cell_type": "markdown",
   "source": "![bayes](https://upload.wikimedia.org/wikipedia/commons/thumb/0/02/GpParBayesAnimationSmall.gif/532px-GpParBayesAnimationSmall.gif \"bayes\")",
   "id": "31f709bfdaad327d"
  },
  {
   "metadata": {},
   "cell_type": "markdown",
   "source": "## Prakticka Ukazka",
   "id": "c3fd0f230317995c"
  },
  {
   "metadata": {
    "ExecuteTime": {
     "end_time": "2024-04-14T10:49:18.552847Z",
     "start_time": "2024-04-14T10:49:18.550252Z"
    }
   },
   "cell_type": "code",
   "source": [
    "from hyperopt import hp, fmin, tpe, Trials, space_eval\n",
    "from sklearn.model_selection import cross_val_score\n",
    "from sklearn.ensemble import RandomForestClassifier\n",
    "from sklearn.datasets import make_classification\n",
    "from sklearn.model_selection import cross_val_score\n",
    "from sklearn.model_selection import train_test_split\n",
    "import numpy as np\n",
    "import warnings\n",
    "warnings.filterwarnings(\"ignore\")"
   ],
   "id": "635c24aa78ab2361",
   "outputs": [],
   "execution_count": 54
  },
  {
   "metadata": {
    "ExecuteTime": {
     "end_time": "2024-04-14T10:22:13.355789Z",
     "start_time": "2024-04-14T10:22:13.333602Z"
    }
   },
   "cell_type": "code",
   "source": [
    "samples = 20000\n",
    "dummy = make_classification(n_samples=samples)\n",
    "\n",
    "# splitting the data into train and test set\n",
    "X_train, X_test, y_train, y_test = train_test_split(dummy[0],\n",
    "                                                    dummy[1],\n",
    "                                                    test_size=0.2,\n",
    "                                                    stratify=dummy[1],\n",
    "                                                    random_state=42)"
   ],
   "id": "57bd87846cad19ec",
   "outputs": [],
   "execution_count": 2
  },
  {
   "metadata": {
    "ExecuteTime": {
     "end_time": "2024-04-14T10:22:14.678430Z",
     "start_time": "2024-04-14T10:22:14.675215Z"
    }
   },
   "cell_type": "code",
   "source": "X_train.shape, X_test.shape",
   "id": "10611bb34657ed45",
   "outputs": [
    {
     "data": {
      "text/plain": [
       "((16000, 20), (4000, 20))"
      ]
     },
     "execution_count": 3,
     "metadata": {},
     "output_type": "execute_result"
    }
   ],
   "execution_count": 3
  },
  {
   "metadata": {},
   "cell_type": "markdown",
   "source": "### Hyperopt",
   "id": "44898e268c21058d"
  },
  {
   "metadata": {},
   "cell_type": "markdown",
   "source": "Hyperopt je knihovna pro Python, která umožňuje optimalizaci hyperparametrů modelu pomocí bayesovské optimalizace.",
   "id": "31b042fc9dd6d534"
  },
  {
   "metadata": {
    "ExecuteTime": {
     "end_time": "2024-04-14T10:26:11.076119Z",
     "start_time": "2024-04-14T10:26:11.073918Z"
    }
   },
   "cell_type": "code",
   "source": [
    "space = {\n",
    "    'max_depth': hp.quniform('max_depth', 10, 120, 10),\n",
    "    'n_estimators': hp.quniform('n_estimators', 10, 120, 10),\n",
    "    'criterion': hp.choice('criterion', ['gini', 'entropy']),\n",
    "    'min_samples_leaf': hp.quniform('min_samples_leaf', 1, 10, 2),\n",
    "    'bootstrap': hp.choice('bootstrap', [True, False])\n",
    "}"
   ],
   "id": "217af220cbc4938f",
   "outputs": [],
   "execution_count": 29
  },
  {
   "metadata": {
    "ExecuteTime": {
     "end_time": "2024-04-14T10:26:11.253185Z",
     "start_time": "2024-04-14T10:26:11.250597Z"
    }
   },
   "cell_type": "code",
   "source": [
    "def objective(params):\n",
    "    params[\"max_depth\"] = int(params[\"max_depth\"])\n",
    "    params[\"min_samples_leaf\"] = int(params[\"min_samples_leaf\"])\n",
    "    params[\"n_estimators\"] = int(params[\"n_estimators\"])\n",
    "    \n",
    "    clf = RandomForestClassifier(**params)\n",
    "    score = -cross_val_score(clf, X_train, y_train, cv=5, scoring='roc_auc').mean()\n",
    "    return score"
   ],
   "id": "5bc0ba0a854cdad",
   "outputs": [],
   "execution_count": 30
  },
  {
   "metadata": {
    "ExecuteTime": {
     "end_time": "2024-04-14T10:26:11.459734Z",
     "start_time": "2024-04-14T10:26:11.457896Z"
    }
   },
   "cell_type": "code",
   "source": "trials = Trials()",
   "id": "86347717ba71930e",
   "outputs": [],
   "execution_count": 31
  },
  {
   "metadata": {
    "ExecuteTime": {
     "end_time": "2024-04-14T10:28:32.791785Z",
     "start_time": "2024-04-14T10:26:41.417812Z"
    }
   },
   "cell_type": "code",
   "source": [
    "best = fmin(fn=objective,\n",
    "            space=space,\n",
    "            algo=tpe.suggest,\n",
    "            max_evals=10,\n",
    "            trials=trials)"
   ],
   "id": "1943ea0e5c3e34c1",
   "outputs": [
    {
     "name": "stdout",
     "output_type": "stream",
     "text": [
      " 90%|█████████ | 9/10 [01:51<00:15, 15.91s/trial, best loss: -0.977374047940186] \n"
     ]
    }
   ],
   "execution_count": 33
  },
  {
   "metadata": {
    "ExecuteTime": {
     "end_time": "2024-04-14T10:35:50.148723Z",
     "start_time": "2024-04-14T10:35:50.145519Z"
    }
   },
   "cell_type": "code",
   "source": "best",
   "id": "bbc21a17658b27be",
   "outputs": [
    {
     "data": {
      "text/plain": [
       "{'bootstrap': 0,\n",
       " 'criterion': 1,\n",
       " 'max_depth': 110.0,\n",
       " 'min_samples_leaf': 4.0,\n",
       " 'n_estimators': 110.0}"
      ]
     },
     "execution_count": 34,
     "metadata": {},
     "output_type": "execute_result"
    }
   ],
   "execution_count": 34
  },
  {
   "metadata": {
    "ExecuteTime": {
     "end_time": "2024-04-14T10:36:24.323396Z",
     "start_time": "2024-04-14T10:36:24.320810Z"
    }
   },
   "cell_type": "code",
   "source": "best_params = space_eval(space, best)",
   "id": "387715d12f94e1dd",
   "outputs": [],
   "execution_count": 38
  },
  {
   "metadata": {
    "ExecuteTime": {
     "end_time": "2024-04-14T10:37:11.742879Z",
     "start_time": "2024-04-14T10:37:11.740542Z"
    }
   },
   "cell_type": "code",
   "source": "best_params",
   "id": "550840f70ea197a0",
   "outputs": [
    {
     "data": {
      "text/plain": [
       "{'bootstrap': True,\n",
       " 'criterion': 'entropy',\n",
       " 'max_depth': 110.0,\n",
       " 'min_samples_leaf': 4.0,\n",
       " 'n_estimators': 110.0}"
      ]
     },
     "execution_count": 42,
     "metadata": {},
     "output_type": "execute_result"
    }
   ],
   "execution_count": 42
  },
  {
   "metadata": {
    "ExecuteTime": {
     "end_time": "2024-04-14T10:37:46.283470Z",
     "start_time": "2024-04-14T10:37:46.281612Z"
    }
   },
   "cell_type": "code",
   "source": [
    "best_params[\"max_depth\"] = int(best_params[\"max_depth\"])\n",
    "best_params[\"min_samples_leaf\"] = int(best_params[\"min_samples_leaf\"])\n",
    "best_params[\"n_estimators\"] = int(best_params[\"n_estimators\"])"
   ],
   "id": "1e4c386ccf1bfbf7",
   "outputs": [],
   "execution_count": 43
  },
  {
   "metadata": {
    "ExecuteTime": {
     "end_time": "2024-04-14T10:37:46.606300Z",
     "start_time": "2024-04-14T10:37:46.603487Z"
    }
   },
   "cell_type": "code",
   "source": "clf = RandomForestClassifier(**best_params)",
   "id": "ed04f9581f0a47",
   "outputs": [],
   "execution_count": 44
  },
  {
   "metadata": {
    "ExecuteTime": {
     "end_time": "2024-04-14T10:37:54.851536Z",
     "start_time": "2024-04-14T10:37:47.057366Z"
    }
   },
   "cell_type": "code",
   "source": "clf.fit(X_train, y_train)",
   "id": "a8971cca008865fd",
   "outputs": [
    {
     "data": {
      "text/plain": [
       "RandomForestClassifier(criterion='entropy', max_depth=110, min_samples_leaf=4,\n",
       "                       n_estimators=110)"
      ],
      "text/html": [
       "<style>#sk-container-id-1 {color: black;}#sk-container-id-1 pre{padding: 0;}#sk-container-id-1 div.sk-toggleable {background-color: white;}#sk-container-id-1 label.sk-toggleable__label {cursor: pointer;display: block;width: 100%;margin-bottom: 0;padding: 0.3em;box-sizing: border-box;text-align: center;}#sk-container-id-1 label.sk-toggleable__label-arrow:before {content: \"▸\";float: left;margin-right: 0.25em;color: #696969;}#sk-container-id-1 label.sk-toggleable__label-arrow:hover:before {color: black;}#sk-container-id-1 div.sk-estimator:hover label.sk-toggleable__label-arrow:before {color: black;}#sk-container-id-1 div.sk-toggleable__content {max-height: 0;max-width: 0;overflow: hidden;text-align: left;background-color: #f0f8ff;}#sk-container-id-1 div.sk-toggleable__content pre {margin: 0.2em;color: black;border-radius: 0.25em;background-color: #f0f8ff;}#sk-container-id-1 input.sk-toggleable__control:checked~div.sk-toggleable__content {max-height: 200px;max-width: 100%;overflow: auto;}#sk-container-id-1 input.sk-toggleable__control:checked~label.sk-toggleable__label-arrow:before {content: \"▾\";}#sk-container-id-1 div.sk-estimator input.sk-toggleable__control:checked~label.sk-toggleable__label {background-color: #d4ebff;}#sk-container-id-1 div.sk-label input.sk-toggleable__control:checked~label.sk-toggleable__label {background-color: #d4ebff;}#sk-container-id-1 input.sk-hidden--visually {border: 0;clip: rect(1px 1px 1px 1px);clip: rect(1px, 1px, 1px, 1px);height: 1px;margin: -1px;overflow: hidden;padding: 0;position: absolute;width: 1px;}#sk-container-id-1 div.sk-estimator {font-family: monospace;background-color: #f0f8ff;border: 1px dotted black;border-radius: 0.25em;box-sizing: border-box;margin-bottom: 0.5em;}#sk-container-id-1 div.sk-estimator:hover {background-color: #d4ebff;}#sk-container-id-1 div.sk-parallel-item::after {content: \"\";width: 100%;border-bottom: 1px solid gray;flex-grow: 1;}#sk-container-id-1 div.sk-label:hover label.sk-toggleable__label {background-color: #d4ebff;}#sk-container-id-1 div.sk-serial::before {content: \"\";position: absolute;border-left: 1px solid gray;box-sizing: border-box;top: 0;bottom: 0;left: 50%;z-index: 0;}#sk-container-id-1 div.sk-serial {display: flex;flex-direction: column;align-items: center;background-color: white;padding-right: 0.2em;padding-left: 0.2em;position: relative;}#sk-container-id-1 div.sk-item {position: relative;z-index: 1;}#sk-container-id-1 div.sk-parallel {display: flex;align-items: stretch;justify-content: center;background-color: white;position: relative;}#sk-container-id-1 div.sk-item::before, #sk-container-id-1 div.sk-parallel-item::before {content: \"\";position: absolute;border-left: 1px solid gray;box-sizing: border-box;top: 0;bottom: 0;left: 50%;z-index: -1;}#sk-container-id-1 div.sk-parallel-item {display: flex;flex-direction: column;z-index: 1;position: relative;background-color: white;}#sk-container-id-1 div.sk-parallel-item:first-child::after {align-self: flex-end;width: 50%;}#sk-container-id-1 div.sk-parallel-item:last-child::after {align-self: flex-start;width: 50%;}#sk-container-id-1 div.sk-parallel-item:only-child::after {width: 0;}#sk-container-id-1 div.sk-dashed-wrapped {border: 1px dashed gray;margin: 0 0.4em 0.5em 0.4em;box-sizing: border-box;padding-bottom: 0.4em;background-color: white;}#sk-container-id-1 div.sk-label label {font-family: monospace;font-weight: bold;display: inline-block;line-height: 1.2em;}#sk-container-id-1 div.sk-label-container {text-align: center;}#sk-container-id-1 div.sk-container {/* jupyter's `normalize.less` sets `[hidden] { display: none; }` but bootstrap.min.css set `[hidden] { display: none !important; }` so we also need the `!important` here to be able to override the default hidden behavior on the sphinx rendered scikit-learn.org. See: https://github.com/scikit-learn/scikit-learn/issues/21755 */display: inline-block !important;position: relative;}#sk-container-id-1 div.sk-text-repr-fallback {display: none;}</style><div id=\"sk-container-id-1\" class=\"sk-top-container\"><div class=\"sk-text-repr-fallback\"><pre>RandomForestClassifier(criterion=&#x27;entropy&#x27;, max_depth=110, min_samples_leaf=4,\n",
       "                       n_estimators=110)</pre><b>In a Jupyter environment, please rerun this cell to show the HTML representation or trust the notebook. <br />On GitHub, the HTML representation is unable to render, please try loading this page with nbviewer.org.</b></div><div class=\"sk-container\" hidden><div class=\"sk-item\"><div class=\"sk-estimator sk-toggleable\"><input class=\"sk-toggleable__control sk-hidden--visually\" id=\"sk-estimator-id-1\" type=\"checkbox\" checked><label for=\"sk-estimator-id-1\" class=\"sk-toggleable__label sk-toggleable__label-arrow\">RandomForestClassifier</label><div class=\"sk-toggleable__content\"><pre>RandomForestClassifier(criterion=&#x27;entropy&#x27;, max_depth=110, min_samples_leaf=4,\n",
       "                       n_estimators=110)</pre></div></div></div></div></div>"
      ]
     },
     "execution_count": 45,
     "metadata": {},
     "output_type": "execute_result"
    }
   ],
   "execution_count": 45
  },
  {
   "metadata": {
    "ExecuteTime": {
     "end_time": "2024-04-14T10:37:54.893637Z",
     "start_time": "2024-04-14T10:37:54.852568Z"
    }
   },
   "cell_type": "code",
   "source": "clf.score(X_test, y_test)",
   "id": "947c9252f5895c66",
   "outputs": [
    {
     "data": {
      "text/plain": [
       "0.9285"
      ]
     },
     "execution_count": 46,
     "metadata": {},
     "output_type": "execute_result"
    }
   ],
   "execution_count": 46
  },
  {
   "metadata": {},
   "cell_type": "markdown",
   "source": "### Optuna",
   "id": "fe34ebfeb015b42a"
  },
  {
   "metadata": {},
   "cell_type": "markdown",
   "source": "Optuna je knihovna pro Python, která umožňuje optimalizaci hyperparametrů modelu pomocí bayesovské optimalizace.",
   "id": "46821216928928c2"
  },
  {
   "metadata": {
    "ExecuteTime": {
     "end_time": "2024-04-14T10:40:33.619083Z",
     "start_time": "2024-04-14T10:40:33.616924Z"
    }
   },
   "cell_type": "code",
   "source": "import optuna as optuna",
   "id": "767c40218c41de47",
   "outputs": [],
   "execution_count": 48
  },
  {
   "metadata": {
    "ExecuteTime": {
     "end_time": "2024-04-14T10:43:47.049958Z",
     "start_time": "2024-04-14T10:43:47.047246Z"
    }
   },
   "cell_type": "code",
   "source": [
    "def objective(trial):\n",
    "    max_depth = trial.suggest_int('max_depth', 10, 120, 10)\n",
    "    n_estimators = trial.suggest_int('n_estimators', 10, 120, 10)\n",
    "    criterion = trial.suggest_categorical('criterion', ['gini', 'entropy'])\n",
    "    min_samples_leaf = trial.suggest_int('min_samples_leaf', 1, 10, 2)\n",
    "    bootstrap = trial.suggest_categorical('bootstrap', [True, False])\n",
    "    \n",
    "    clf = RandomForestClassifier(max_depth=max_depth,\n",
    "                                 n_estimators=n_estimators,\n",
    "                                 criterion=criterion,\n",
    "                                 min_samples_leaf=min_samples_leaf,\n",
    "                                 bootstrap=bootstrap)\n",
    "    \n",
    "    score = -cross_val_score(clf, X_train, y_train, cv=5, scoring='roc_auc').mean()\n",
    "    return score"
   ],
   "id": "b87dc3b4ba2a4416",
   "outputs": [],
   "execution_count": 49
  },
  {
   "metadata": {
    "ExecuteTime": {
     "end_time": "2024-04-14T10:49:24.803403Z",
     "start_time": "2024-04-14T10:49:24.800413Z"
    }
   },
   "cell_type": "code",
   "source": "study = optuna.create_study(direction='minimize')",
   "id": "f93a4cfcdf095536",
   "outputs": [
    {
     "name": "stderr",
     "output_type": "stream",
     "text": [
      "[I 2024-04-14 12:49:24,801] A new study created in memory with name: no-name-b19d7e14-23e2-4d29-b69d-de6f73cbc2bc\n"
     ]
    }
   ],
   "execution_count": 55
  },
  {
   "metadata": {
    "ExecuteTime": {
     "end_time": "2024-04-14T10:52:41.339988Z",
     "start_time": "2024-04-14T10:49:25.807821Z"
    }
   },
   "cell_type": "code",
   "source": "study.optimize(objective, n_trials=10)",
   "id": "494431b9deeb0044",
   "outputs": [
    {
     "name": "stderr",
     "output_type": "stream",
     "text": [
      "[I 2024-04-14 12:49:47,325] Trial 0 finished with value: -0.9768249459403993 and parameters: {'max_depth': 40, 'n_estimators': 100, 'criterion': 'gini', 'min_samples_leaf': 7, 'bootstrap': True}. Best is trial 0 with value: -0.9768249459403993.\n",
      "[I 2024-04-14 12:49:59,739] Trial 1 finished with value: -0.9755222500333401 and parameters: {'max_depth': 100, 'n_estimators': 60, 'criterion': 'gini', 'min_samples_leaf': 1, 'bootstrap': True}. Best is trial 0 with value: -0.9768249459403993.\n",
      "[I 2024-04-14 12:50:03,271] Trial 2 finished with value: -0.971790646555235 and parameters: {'max_depth': 20, 'n_estimators': 10, 'criterion': 'entropy', 'min_samples_leaf': 1, 'bootstrap': False}. Best is trial 0 with value: -0.9768249459403993.\n",
      "[I 2024-04-14 12:50:16,433] Trial 3 finished with value: -0.9775940870084388 and parameters: {'max_depth': 90, 'n_estimators': 70, 'criterion': 'entropy', 'min_samples_leaf': 9, 'bootstrap': True}. Best is trial 3 with value: -0.9775940870084388.\n",
      "[I 2024-04-14 12:51:00,640] Trial 4 finished with value: -0.9758346720555113 and parameters: {'max_depth': 70, 'n_estimators': 120, 'criterion': 'gini', 'min_samples_leaf': 1, 'bootstrap': False}. Best is trial 3 with value: -0.9775940870084388.\n",
      "[I 2024-04-14 12:51:16,663] Trial 5 finished with value: -0.9767931102318425 and parameters: {'max_depth': 40, 'n_estimators': 80, 'criterion': 'entropy', 'min_samples_leaf': 3, 'bootstrap': True}. Best is trial 3 with value: -0.9775940870084388.\n",
      "[I 2024-04-14 12:51:35,749] Trial 6 finished with value: -0.9763516646953129 and parameters: {'max_depth': 90, 'n_estimators': 60, 'criterion': 'gini', 'min_samples_leaf': 3, 'bootstrap': False}. Best is trial 3 with value: -0.9775940870084388.\n",
      "[I 2024-04-14 12:52:13,079] Trial 7 finished with value: -0.9774733450870221 and parameters: {'max_depth': 100, 'n_estimators': 120, 'criterion': 'entropy', 'min_samples_leaf': 9, 'bootstrap': False}. Best is trial 3 with value: -0.9775940870084388.\n",
      "[I 2024-04-14 12:52:21,332] Trial 8 finished with value: -0.9754580312868193 and parameters: {'max_depth': 70, 'n_estimators': 40, 'criterion': 'entropy', 'min_samples_leaf': 1, 'bootstrap': True}. Best is trial 3 with value: -0.9775940870084388.\n",
      "[I 2024-04-14 12:52:41,338] Trial 9 finished with value: -0.9770196728094946 and parameters: {'max_depth': 70, 'n_estimators': 70, 'criterion': 'gini', 'min_samples_leaf': 9, 'bootstrap': False}. Best is trial 3 with value: -0.9775940870084388.\n"
     ]
    }
   ],
   "execution_count": 56
  },
  {
   "metadata": {
    "ExecuteTime": {
     "end_time": "2024-04-14T10:52:41.343384Z",
     "start_time": "2024-04-14T10:52:41.341108Z"
    }
   },
   "cell_type": "code",
   "source": "print('Best hyperparameters:', study.best_params)",
   "id": "246aa1492603568e",
   "outputs": [
    {
     "name": "stdout",
     "output_type": "stream",
     "text": [
      "Best hyperparameters: {'max_depth': 90, 'n_estimators': 70, 'criterion': 'entropy', 'min_samples_leaf': 9, 'bootstrap': True}\n"
     ]
    }
   ],
   "execution_count": 57
  },
  {
   "metadata": {
    "ExecuteTime": {
     "end_time": "2024-04-14T10:52:41.345953Z",
     "start_time": "2024-04-14T10:52:41.343979Z"
    }
   },
   "cell_type": "code",
   "source": "print('Best AUC:', study.best_value)",
   "id": "93438904051308c",
   "outputs": [
    {
     "name": "stdout",
     "output_type": "stream",
     "text": [
      "Best AUC: -0.9775940870084388\n"
     ]
    }
   ],
   "execution_count": 58
  },
  {
   "metadata": {
    "ExecuteTime": {
     "end_time": "2024-04-14T10:52:41.350025Z",
     "start_time": "2024-04-14T10:52:41.347377Z"
    }
   },
   "cell_type": "code",
   "source": "study.best_trial",
   "id": "9ff6c9f7a217032f",
   "outputs": [
    {
     "data": {
      "text/plain": [
       "FrozenTrial(number=3, state=TrialState.COMPLETE, values=[-0.9775940870084388], datetime_start=datetime.datetime(2024, 4, 14, 12, 50, 3, 271420), datetime_complete=datetime.datetime(2024, 4, 14, 12, 50, 16, 433043), params={'max_depth': 90, 'n_estimators': 70, 'criterion': 'entropy', 'min_samples_leaf': 9, 'bootstrap': True}, user_attrs={}, system_attrs={}, intermediate_values={}, distributions={'max_depth': IntDistribution(high=120, log=False, low=10, step=10), 'n_estimators': IntDistribution(high=120, log=False, low=10, step=10), 'criterion': CategoricalDistribution(choices=('gini', 'entropy')), 'min_samples_leaf': IntDistribution(high=9, log=False, low=1, step=2), 'bootstrap': CategoricalDistribution(choices=(True, False))}, trial_id=3, value=None)"
      ]
     },
     "execution_count": 59,
     "metadata": {},
     "output_type": "execute_result"
    }
   ],
   "execution_count": 59
  },
  {
   "metadata": {},
   "cell_type": "markdown",
   "source": "Reference:",
   "id": "a9baed2a058f9983"
  },
  {
   "metadata": {},
   "cell_type": "markdown",
   "source": [
    "- https://forecastegy.com/posts/catboost-hyperparameter-tuning-guide-with-optuna/\n",
    "- https://optuna.readthedocs.io/en/stable/reference/trial.html\n",
    "- https://github.com/catboost/tutorials/blob/master/hyperparameters_tuning/hyperparameters_tuning_using_optuna_and_hyperopt.ipynb\n",
    "- https://neptune.ai/blog/optuna-vs-hyperopt"
   ],
   "id": "e2817ba13b435524"
  },
  {
   "metadata": {},
   "cell_type": "code",
   "outputs": [],
   "execution_count": null,
   "source": "",
   "id": "a807e0817de2c694"
  }
 ],
 "metadata": {
  "kernelspec": {
   "display_name": "Python 3 (ipykernel)",
   "language": "python",
   "name": "python3"
  },
  "language_info": {
   "codemirror_mode": {
    "name": "ipython",
    "version": 3
   },
   "file_extension": ".py",
   "mimetype": "text/x-python",
   "name": "python",
   "nbconvert_exporter": "python",
   "pygments_lexer": "ipython3",
   "version": "3.9.18"
  }
 },
 "nbformat": 4,
 "nbformat_minor": 5
}
