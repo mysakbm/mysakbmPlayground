{
 "cells": [
  {
   "cell_type": "markdown",
   "metadata": {},
   "source": [
    "# WIP\n",
    "# Pytorch\n",
    "Na předchozích workshopech (resp. ve vedlejších noteboocích, pokud toto čtete na Githubu) jsme se věnovali základním technikám a algoritmům strojového učení. Ty měli výhodu nepříliš velkých hardwarových nároků a vcelku solidnímu výkonu na tabulkoidních datech. Nezmínili jsme tehdy ale neuronové sítě a deep learning. V povídání o textu jsem se o tyto termíny už trochu otřeli, nicméně na danou problematiku se pořádně podíváme až nyní.  \n",
    "Technicky vzato jsou neuronové sítě jen podmnožinou strojového učení. Fakticky se ale jedná o velice důležitou podmnožinu, která s přehledem dokázala vyřešit problémy, na které klasické postupy nestačily - zmiňme třeba klasifikaci objektů na obrázcích či složitější práci s textem. Daní za tento výkon je větší složitost problematiky a hlavně větší doba trénování a hardwarové nároky.  \n",
    "V současné době jsou v pythonu etablovány dva frameworky spojené s neuronovými sítěmi - TensorFlow (i s nadstavbou Keras) a PyTorch. Existují sice mezi nimi určité technické rozdíly, nicméně ty pro naše dnešní úvodní povídání nejsou zase až tak podstatné a navíc s v průběhu času postupně stírají. Když se podíváte na můj GitHub, uvidíte pár věcí založených na TensorFlowu a koneckonců nultou iteraci tohoto workshopu jsem ukazoval též na něm. Proč tedy v nadpisu vidíte PyTorch? Inu, důvod je dosti přizemní - Tensorflow 2.X není kompatibilní s grafickou kartou na mém notebooku, tudíž by i příprava ukázkových příkladů trvala příliš dlouho. No a ukazovat Vám příklady pro starou verzi Tensorflowu mi nepřijde jako úplně dobrý nápad. \n",
    "\n",
    "## Obsah"
   ]
  },
  {
   "cell_type": "markdown",
   "metadata": {},
   "source": [
    "## Manipulace s tenzory  \n",
    "Stejně jako balíček Pandas přináší dataframe (a sérii), na kterém poté staví celou svou činnost, nese s sebou Pytorch tenzor. Co to vlastně tenzor je? Tento termín se vyskytuje i mimo Pytorch a označuje se jím (matematici pominou zjednodušení) zobecnění skalárů, vektrorů a matic do vyšších dimenzí. Člověk by si mohl myslet, že stejnou funkčnost zastanou stávající pythoní objekty a není třeba vymýšlet něco nového. Bohužel je ale situace komplikovanější. V Pythonu je totiž každá věc včetně integerů či floatů objekt. To znamená, že tyto konstrukce obsahují krom číslené informace i něco navíc. Tohle \"něco\" sice přináší dodatečnou funkčnost, ale také to zabírá víc paměti. U pár čísel to nevadí, jenomže při práci s neuronovými sítěmi s pouhými několika čísli pracovat nebudeme. No a výhodou tenzoru je to, že čísla v něm obsažená jsou opravdu jen čísla bez čehokoli dalšího. Jinak pytorchí tenzory mohou obsahovat pouze čísla (pokud booleany budeme brát také za čísla), nikoli ale textové řetězce.  \n",
    "No a jelikož jsou tenzory základním stavebním kamenem Pytorche, měli bychom se s nimi naučit pracovat, než budeme dělat cokoli komplikovanějšího.  \n",
    "\n",
    "Z historických důvodů se importovaný balíček nejmenuje pytorch, nýbrž torch."
   ]
  },
  {
   "cell_type": "code",
   "execution_count": 1,
   "metadata": {
    "ExecuteTime": {
     "end_time": "2021-04-11T18:24:24.682064Z",
     "start_time": "2021-04-11T18:23:36.499177Z"
    }
   },
   "outputs": [],
   "source": [
    "import torch\n",
    "from sklearn.datasets import load_iris\n",
    "from sklearn.preprocessing import OneHotEncoder\n",
    "from sklearn.preprocessing import StandardScaler\n",
    "from sklearn.model_selection import train_test_split\n",
    "import pandas as pd\n",
    "import matplotlib.pyplot as plt"
   ]
  },
  {
   "cell_type": "markdown",
   "metadata": {},
   "source": [
    "Asi nejpřímočařejší je vytvoření 1D tenzorů obsahující pouze jedničky či nuly. Parametr funkcí *ones* a *zeros* udává počet těchto čísel."
   ]
  },
  {
   "cell_type": "code",
   "execution_count": 5,
   "metadata": {
    "ExecuteTime": {
     "end_time": "2021-04-04T18:16:24.010863Z",
     "start_time": "2021-04-04T18:16:23.574367Z"
    }
   },
   "outputs": [
    {
     "name": "stdout",
     "output_type": "stream",
     "text": [
      "Tensor of ones:\n",
      "tensor([1., 1., 1., 1., 1.])\n",
      "Tensor of zeros:\n",
      "tensor([0., 0., 0., 0., 0., 0., 0.])\n"
     ]
    }
   ],
   "source": [
    "tensor_of_ones = torch.ones(5)\n",
    "print(\"Tensor of ones:\")\n",
    "print(tensor_of_ones)\n",
    "\n",
    "tensor_of_zeros = torch.zeros(7)\n",
    "print (\"Tensor of zeros:\")\n",
    "print(tensor_of_zeros)"
   ]
  },
  {
   "cell_type": "markdown",
   "metadata": {},
   "source": [
    "Lze vytvořit i tenzor obsahující náhodná čísla:"
   ]
  },
  {
   "cell_type": "code",
   "execution_count": 3,
   "metadata": {
    "ExecuteTime": {
     "end_time": "2021-04-04T18:14:59.367881Z",
     "start_time": "2021-04-04T18:14:57.380910Z"
    }
   },
   "outputs": [
    {
     "data": {
      "text/plain": [
       "tensor([0.2395, 0.2264, 0.5841, 0.7670, 0.4245])"
      ]
     },
     "execution_count": 3,
     "metadata": {},
     "output_type": "execute_result"
    }
   ],
   "source": [
    "torch.rand(5)"
   ]
  },
  {
   "cell_type": "markdown",
   "metadata": {},
   "source": [
    "K elementům tenzoru můžeme přistupovat \"normálně\", tj přes index. Za pozornost asi stojí zmínka, že i když chceme jen jeden element tenzoru, nevrátí se nám číslo, ale tenzor."
   ]
  },
  {
   "cell_type": "code",
   "execution_count": 6,
   "metadata": {
    "ExecuteTime": {
     "end_time": "2021-04-04T18:16:24.830621Z",
     "start_time": "2021-04-04T18:16:24.800726Z"
    }
   },
   "outputs": [
    {
     "data": {
      "text/plain": [
       "tensor(1.)"
      ]
     },
     "execution_count": 6,
     "metadata": {},
     "output_type": "execute_result"
    }
   ],
   "source": [
    "tensor_of_ones[0]"
   ]
  },
  {
   "cell_type": "markdown",
   "metadata": {},
   "source": [
    "Pokud opravdu potřebujeme číslo, musíme použít metodu *item*."
   ]
  },
  {
   "cell_type": "code",
   "execution_count": 7,
   "metadata": {
    "ExecuteTime": {
     "end_time": "2021-04-04T18:16:35.070478Z",
     "start_time": "2021-04-04T18:16:35.050650Z"
    }
   },
   "outputs": [
    {
     "data": {
      "text/plain": [
       "1.0"
      ]
     },
     "execution_count": 7,
     "metadata": {},
     "output_type": "execute_result"
    }
   ],
   "source": [
    "tensor_of_ones[0].item()"
   ]
  },
  {
   "cell_type": "markdown",
   "metadata": {},
   "source": [
    "Tenzory nejsou immutable, nýbrž se čísla v nich dají měnit:"
   ]
  },
  {
   "cell_type": "code",
   "execution_count": 4,
   "metadata": {
    "ExecuteTime": {
     "end_time": "2021-04-03T18:50:24.159251Z",
     "start_time": "2021-04-03T18:50:23.904104Z"
    }
   },
   "outputs": [
    {
     "data": {
      "text/plain": [
       "tensor([  1.,   1.,   1.,   1., 999.])"
      ]
     },
     "execution_count": 4,
     "metadata": {},
     "output_type": "execute_result"
    }
   ],
   "source": [
    "tensor_of_ones[-1] = 999\n",
    "tensor_of_ones"
   ]
  },
  {
   "cell_type": "markdown",
   "metadata": {},
   "source": [
    "Pokud chceme mít tenzor jedniček/nul o více rozměrech, napíšeme zkrátka do funkce více parametrů."
   ]
  },
  {
   "cell_type": "code",
   "execution_count": 5,
   "metadata": {
    "ExecuteTime": {
     "end_time": "2021-04-03T18:50:24.345241Z",
     "start_time": "2021-04-03T18:50:24.159251Z"
    }
   },
   "outputs": [
    {
     "data": {
      "text/plain": [
       "tensor([[0., 0., 0.],\n",
       "        [0., 0., 0.]])"
      ]
     },
     "execution_count": 5,
     "metadata": {},
     "output_type": "execute_result"
    }
   ],
   "source": [
    "torch.zeros(2,3)"
   ]
  },
  {
   "cell_type": "code",
   "execution_count": 6,
   "metadata": {
    "ExecuteTime": {
     "end_time": "2021-04-03T18:50:24.460655Z",
     "start_time": "2021-04-03T18:50:24.345241Z"
    }
   },
   "outputs": [
    {
     "data": {
      "text/plain": [
       "tensor([[[0., 0., 0., 0.],\n",
       "         [0., 0., 0., 0.],\n",
       "         [0., 0., 0., 0.]],\n",
       "\n",
       "        [[0., 0., 0., 0.],\n",
       "         [0., 0., 0., 0.],\n",
       "         [0., 0., 0., 0.]]])"
      ]
     },
     "execution_count": 6,
     "metadata": {},
     "output_type": "execute_result"
    }
   ],
   "source": [
    "torch.zeros(2,3, 4)"
   ]
  },
  {
   "cell_type": "markdown",
   "metadata": {},
   "source": [
    "Obecný tenzor se dá vyrobit například pomocí listu"
   ]
  },
  {
   "cell_type": "code",
   "execution_count": 7,
   "metadata": {
    "ExecuteTime": {
     "end_time": "2021-04-03T18:50:24.577089Z",
     "start_time": "2021-04-03T18:50:24.460655Z"
    }
   },
   "outputs": [
    {
     "data": {
      "text/plain": [
       "tensor([1, 2, 3, 4, 5, 6])"
      ]
     },
     "execution_count": 7,
     "metadata": {},
     "output_type": "execute_result"
    }
   ],
   "source": [
    "tensor_of_numbers = torch.tensor([1,2,3,4,5,6])\n",
    "tensor_of_numbers"
   ]
  },
  {
   "cell_type": "markdown",
   "metadata": {},
   "source": [
    "Takto lze vytvořit i vícedimenzionální tenzory - v listu musí být podlisty"
   ]
  },
  {
   "cell_type": "code",
   "execution_count": 8,
   "metadata": {
    "ExecuteTime": {
     "end_time": "2021-04-03T18:50:24.690110Z",
     "start_time": "2021-04-03T18:50:24.577089Z"
    }
   },
   "outputs": [
    {
     "data": {
      "text/plain": [
       "tensor([[1, 2],\n",
       "        [3, 4],\n",
       "        [5, 6]])"
      ]
     },
     "execution_count": 8,
     "metadata": {},
     "output_type": "execute_result"
    }
   ],
   "source": [
    "tensor_more_dims = torch.tensor([\n",
    "    [1, 2],\n",
    "    [3, 4],\n",
    "    [5, 6]\n",
    "])\n",
    "tensor_more_dims"
   ]
  },
  {
   "cell_type": "markdown",
   "metadata": {},
   "source": [
    "Upozorněme, že nelze vytvořit \"pilovitý tenzor\", tj. něco v duchu\n",
    "```python\n",
    "tensor_bad = torch.tensor([\n",
    "    [1, 2],\n",
    "    [3],\n",
    "    [5, 6]\n",
    "])\n",
    "```\n",
    "Tvar (velikost tenzoru v jednotlivých dimenzích) se získá pomocí atributu shape"
   ]
  },
  {
   "cell_type": "code",
   "execution_count": 9,
   "metadata": {
    "ExecuteTime": {
     "end_time": "2021-04-03T18:50:24.824319Z",
     "start_time": "2021-04-03T18:50:24.690110Z"
    }
   },
   "outputs": [
    {
     "name": "stdout",
     "output_type": "stream",
     "text": [
      "Shape of 1D tensor: torch.Size([6])\n",
      "Shape of 2D tensor: torch.Size([3, 2])\n"
     ]
    }
   ],
   "source": [
    "print(f\"Shape of 1D tensor: {tensor_of_numbers.shape}\")\n",
    "print(f\"Shape of 2D tensor: {tensor_more_dims.shape}\")"
   ]
  },
  {
   "cell_type": "markdown",
   "metadata": {},
   "source": [
    "Když hovoříme o dimenzích, asi bychom měli zmínit funkce squeeze a unsqueeze. Squeeze z tenzoru odstraní všechny dimenze o velikosti 1."
   ]
  },
  {
   "cell_type": "code",
   "execution_count": 10,
   "metadata": {
    "ExecuteTime": {
     "end_time": "2021-04-03T18:50:24.946882Z",
     "start_time": "2021-04-03T18:50:24.824319Z"
    }
   },
   "outputs": [
    {
     "name": "stdout",
     "output_type": "stream",
     "text": [
      "Tensor before squeze:\n",
      "tensor([[1.],\n",
      "        [1.]])\n",
      "Shape of tensor before squeeze: torch.Size([2, 1])\n",
      "\n",
      "Tensor after squeeze:\n",
      "tensor([1., 1.])\n",
      "Shape of tensor after squeeze: torch.Size([2])\n",
      "\n"
     ]
    }
   ],
   "source": [
    "tensor_before_squeeze = torch.ones(2,1)\n",
    "print(\"Tensor before squeze:\")\n",
    "print(tensor_before_squeeze)\n",
    "print(f\"Shape of tensor before squeeze: {tensor_before_squeeze.shape}\\n\")\n",
    "\n",
    "tensor_after_squeeze = tensor_before_squeeze.squeeze()\n",
    "print(\"Tensor after squeeze:\")\n",
    "print(tensor_after_squeeze)\n",
    "print(f\"Shape of tensor after squeeze: {tensor_after_squeeze.shape}\\n\")"
   ]
  },
  {
   "cell_type": "markdown",
   "metadata": {},
   "source": [
    "Unsqueeze naopak na místo určené uživatelem dimenzi o velikosti jedna přidá. Typické užití je v převedení jednoho tenzoru do stejného rozměru, jako má tenzor jiný, aby se s oběma součaasně dalo pracovat."
   ]
  },
  {
   "cell_type": "code",
   "execution_count": 11,
   "metadata": {
    "ExecuteTime": {
     "end_time": "2021-04-03T18:50:25.263823Z",
     "start_time": "2021-04-03T18:50:24.946882Z"
    }
   },
   "outputs": [
    {
     "name": "stdout",
     "output_type": "stream",
     "text": [
      "Tensor before unsqueze:\n",
      "tensor([[1., 1.],\n",
      "        [1., 1.]])\n",
      "Shape of tensor before unsqueeze: torch.Size([2, 2])\n",
      "\n",
      "Tensor after unsqueeze:\n",
      "tensor([[[1., 1.]],\n",
      "\n",
      "        [[1., 1.]]])\n",
      "Shape of tensor after unsqueeze: torch.Size([2, 1, 2])\n",
      "\n"
     ]
    }
   ],
   "source": [
    "tensor_before_unsqueeze = torch.ones(2,2)\n",
    "print(\"Tensor before unsqueze:\")\n",
    "print(tensor_before_unsqueeze)\n",
    "print(f\"Shape of tensor before unsqueeze: {tensor_before_unsqueeze.shape}\\n\")\n",
    "\n",
    "tensor_after_unsqueeze = tensor_before_unsqueeze.unsqueeze(1)\n",
    "print(\"Tensor after unsqueeze:\")\n",
    "print(tensor_after_unsqueeze)\n",
    "print(f\"Shape of tensor after unsqueeze: {tensor_after_unsqueeze.shape}\\n\")"
   ]
  },
  {
   "cell_type": "markdown",
   "metadata": {},
   "source": [
    "Výše jsme si ukázali, jak se dostat k číslu v 1D tenzoru. U vícedimenzionálních tenzorů přistupujeme k jednotlivým číslům pomocí n indexů, kde n je počet dimenzí."
   ]
  },
  {
   "cell_type": "code",
   "execution_count": 12,
   "metadata": {
    "ExecuteTime": {
     "end_time": "2021-04-03T18:50:25.279450Z",
     "start_time": "2021-04-03T18:50:25.263823Z"
    }
   },
   "outputs": [
    {
     "data": {
      "text/plain": [
       "tensor(3)"
      ]
     },
     "execution_count": 12,
     "metadata": {},
     "output_type": "execute_result"
    }
   ],
   "source": [
    "tensor_more_dims[1,0]"
   ]
  },
  {
   "cell_type": "markdown",
   "metadata": {},
   "source": [
    "Případně můžeme vzít celý řádek"
   ]
  },
  {
   "cell_type": "code",
   "execution_count": 13,
   "metadata": {
    "ExecuteTime": {
     "end_time": "2021-04-03T18:50:25.411127Z",
     "start_time": "2021-04-03T18:50:25.279450Z"
    }
   },
   "outputs": [
    {
     "data": {
      "text/plain": [
       "tensor([3, 4])"
      ]
     },
     "execution_count": 13,
     "metadata": {},
     "output_type": "execute_result"
    }
   ],
   "source": [
    "row = tensor_more_dims[1]\n",
    "row"
   ]
  },
  {
   "cell_type": "markdown",
   "metadata": {},
   "source": [
    "Či sloupec"
   ]
  },
  {
   "cell_type": "code",
   "execution_count": 14,
   "metadata": {
    "ExecuteTime": {
     "end_time": "2021-04-03T18:50:25.527019Z",
     "start_time": "2021-04-03T18:50:25.411127Z"
    }
   },
   "outputs": [
    {
     "data": {
      "text/plain": [
       "tensor([2, 4, 6])"
      ]
     },
     "execution_count": 14,
     "metadata": {},
     "output_type": "execute_result"
    }
   ],
   "source": [
    "column = tensor_more_dims[:,1]\n",
    "column"
   ]
  },
  {
   "cell_type": "markdown",
   "metadata": {},
   "source": [
    "Bacha ale, takhle se nevyrání nové tenzory, pouze se na původní data koukáme jiným způsobem."
   ]
  },
  {
   "cell_type": "code",
   "execution_count": 15,
   "metadata": {
    "ExecuteTime": {
     "end_time": "2021-04-03T18:50:25.627262Z",
     "start_time": "2021-04-03T18:50:25.527019Z"
    }
   },
   "outputs": [
    {
     "data": {
      "text/plain": [
       "tensor([[ 1, 20],\n",
       "        [ 3,  4],\n",
       "        [ 5,  6]])"
      ]
     },
     "execution_count": 15,
     "metadata": {},
     "output_type": "execute_result"
    }
   ],
   "source": [
    "column[0] = 20\n",
    "tensor_more_dims"
   ]
  },
  {
   "cell_type": "markdown",
   "metadata": {},
   "source": [
    "Fakticky to funguje tak, že jsou data v tzv storagi - vždy jednorozměrném poli. Tenzory jsou pak jenom pohledem na toto pole. Narozdíl od tenzoru nemá storage parametr shape."
   ]
  },
  {
   "cell_type": "code",
   "execution_count": 16,
   "metadata": {
    "ExecuteTime": {
     "end_time": "2021-04-03T18:50:25.781428Z",
     "start_time": "2021-04-03T18:50:25.627262Z"
    }
   },
   "outputs": [
    {
     "data": {
      "text/plain": [
       " 1\n",
       " 20\n",
       " 3\n",
       " 4\n",
       " 5\n",
       " 6\n",
       "[torch.LongStorage of size 6]"
      ]
     },
     "execution_count": 16,
     "metadata": {},
     "output_type": "execute_result"
    }
   ],
   "source": [
    "tensor_more_dims.storage()"
   ]
  },
  {
   "cell_type": "markdown",
   "metadata": {},
   "source": [
    "Funkce storage_offset() vrací index, od kterého ve storagi začíná první prvek příslušného tenzoru."
   ]
  },
  {
   "cell_type": "code",
   "execution_count": 17,
   "metadata": {
    "ExecuteTime": {
     "end_time": "2021-04-03T18:50:25.897461Z",
     "start_time": "2021-04-03T18:50:25.781428Z"
    }
   },
   "outputs": [
    {
     "data": {
      "text/plain": [
       "0"
      ]
     },
     "execution_count": 17,
     "metadata": {},
     "output_type": "execute_result"
    }
   ],
   "source": [
    "tensor_more_dims.storage_offset()"
   ]
  },
  {
   "cell_type": "code",
   "execution_count": 18,
   "metadata": {
    "ExecuteTime": {
     "end_time": "2021-04-03T18:50:26.028977Z",
     "start_time": "2021-04-03T18:50:25.897461Z"
    }
   },
   "outputs": [
    {
     "data": {
      "text/plain": [
       "1"
      ]
     },
     "execution_count": 18,
     "metadata": {},
     "output_type": "execute_result"
    }
   ],
   "source": [
    "column.storage_offset()"
   ]
  },
  {
   "cell_type": "code",
   "execution_count": 19,
   "metadata": {
    "ExecuteTime": {
     "end_time": "2021-04-03T18:50:26.152228Z",
     "start_time": "2021-04-03T18:50:26.028977Z"
    }
   },
   "outputs": [
    {
     "data": {
      "text/plain": [
       "2"
      ]
     },
     "execution_count": 19,
     "metadata": {},
     "output_type": "execute_result"
    }
   ],
   "source": [
    "row.storage_offset()"
   ]
  },
  {
   "cell_type": "markdown",
   "metadata": {
    "ExecuteTime": {
     "end_time": "2021-04-03T15:16:05.265191Z",
     "start_time": "2021-04-03T15:16:05.250349Z"
    }
   },
   "source": [
    "Stride zase říká, kolik prvků se musí ve storagi přeskočit, když se v tenzoru přesuneme o jednu pozici. Výsledný tuple ukazuje stride pro každou dimenzi."
   ]
  },
  {
   "cell_type": "code",
   "execution_count": 20,
   "metadata": {
    "ExecuteTime": {
     "end_time": "2021-04-03T18:50:26.268073Z",
     "start_time": "2021-04-03T18:50:26.152228Z"
    }
   },
   "outputs": [
    {
     "data": {
      "text/plain": [
       "(2, 1)"
      ]
     },
     "execution_count": 20,
     "metadata": {},
     "output_type": "execute_result"
    }
   ],
   "source": [
    "tensor_more_dims.stride()"
   ]
  },
  {
   "cell_type": "code",
   "execution_count": 21,
   "metadata": {
    "ExecuteTime": {
     "end_time": "2021-04-03T18:50:26.383904Z",
     "start_time": "2021-04-03T18:50:26.268073Z"
    }
   },
   "outputs": [
    {
     "data": {
      "text/plain": [
       "(2,)"
      ]
     },
     "execution_count": 21,
     "metadata": {},
     "output_type": "execute_result"
    }
   ],
   "source": [
    "column.stride()"
   ]
  },
  {
   "cell_type": "code",
   "execution_count": 22,
   "metadata": {
    "ExecuteTime": {
     "end_time": "2021-04-03T18:50:26.515327Z",
     "start_time": "2021-04-03T18:50:26.383904Z"
    }
   },
   "outputs": [
    {
     "data": {
      "text/plain": [
       "(1,)"
      ]
     },
     "execution_count": 22,
     "metadata": {},
     "output_type": "execute_result"
    }
   ],
   "source": [
    "row.stride()"
   ]
  },
  {
   "cell_type": "markdown",
   "metadata": {},
   "source": [
    "Proč vůbec o těchto věcech mluvíme? Díky nim jsou mnohé operace s tenzory výpočetně nenáročné - nedochází totiž k přeuspořádání dat, pouze se změní několik málo metadat. Příkladem takovéto operace může být transpozice, tj. prohození sloupců a řádků. Realizujeme ji pomocí metody *t*."
   ]
  },
  {
   "cell_type": "code",
   "execution_count": 23,
   "metadata": {
    "ExecuteTime": {
     "end_time": "2021-04-03T18:50:26.631401Z",
     "start_time": "2021-04-03T18:50:26.515327Z"
    }
   },
   "outputs": [
    {
     "name": "stdout",
     "output_type": "stream",
     "text": [
      "Original tensor\n",
      "tensor([[1, 2],\n",
      "        [3, 4],\n",
      "        [5, 6]])\n",
      "Original tensor metadata -  offset: 0, stride: (2, 1)\n",
      "\n",
      "Transponed tensor\n",
      "tensor([[1, 3, 5],\n",
      "        [2, 4, 6]])\n",
      "Transponed tensor metadata -  offset: 0, stride: (1, 2)\n",
      "\n"
     ]
    }
   ],
   "source": [
    "original_tensor = torch.tensor([\n",
    "    [1, 2],\n",
    "    [3, 4],\n",
    "    [5, 6],\n",
    "])\n",
    "print(\"Original tensor\")\n",
    "print(original_tensor)\n",
    "print(f\"Original tensor metadata -  offset: {original_tensor.storage_offset()}, stride: {original_tensor.stride()}\\n\")\n",
    "print(\"Transponed tensor\")\n",
    "transponed_tensor = original_tensor.t()\n",
    "print(transponed_tensor)\n",
    "print(f\"Transponed tensor metadata -  offset: {transponed_tensor.storage_offset()}, stride: {transponed_tensor.stride()}\\n\")"
   ]
  },
  {
   "cell_type": "markdown",
   "metadata": {},
   "source": [
    "Transpozici lze realizovat i na tenzorech o vyšších dimenzích. Tehdy se musí použít funkce *transpose*, která přebírá dva parametry - indexy prohazovaných os. Tj. pro 2D tenzory je metodě *t* ekvivaletní *transpose(0,1)*."
   ]
  },
  {
   "cell_type": "code",
   "execution_count": 24,
   "metadata": {
    "ExecuteTime": {
     "end_time": "2021-04-03T18:50:26.754218Z",
     "start_time": "2021-04-03T18:50:26.631401Z"
    }
   },
   "outputs": [
    {
     "name": "stdout",
     "output_type": "stream",
     "text": [
      "torch.Size([2, 3, 4])\n",
      "torch.Size([2, 4, 3])\n"
     ]
    }
   ],
   "source": [
    "many_dim_tensor = torch.zeros(2,3,4)\n",
    "print(many_dim_tensor.shape)\n",
    "transponed_many_dim_tensor = many_dim_tensor.transpose(1,2)\n",
    "print(transponed_many_dim_tensor.shape)"
   ]
  },
  {
   "cell_type": "markdown",
   "metadata": {},
   "source": [
    "Existuje ale ještě jedna, asi dokonce častěji používaná funkcionalita - pohledy. O co se jedná? Dalo by se říci, že pohled se má k tenzoru jako tenzor ke storagi. Jinými slovy jedná se o způsob, jak přespořádat elementy tenzoru. Z hlediska technického je view metoda tenzoru, která přebírá n argumentů. Ty popořadě specifikují velikost dimenze, jejíž index odpovídá pořadí argumentu. Pokud člověk na nějaké místo (nejen na konec, jako v příkladu, ale i kamkoli jinam) napíše mínus jedničku, dopočítá se velikost dimenze z ostatních dimenzí a počtu dat v původním tenzoru."
   ]
  },
  {
   "cell_type": "code",
   "execution_count": 25,
   "metadata": {
    "ExecuteTime": {
     "end_time": "2021-04-03T18:50:26.886441Z",
     "start_time": "2021-04-03T18:50:26.754218Z"
    }
   },
   "outputs": [
    {
     "name": "stdout",
     "output_type": "stream",
     "text": [
      "Original tensor:\n",
      "tensor([[ 1,  2,  3,  4,  5,  6],\n",
      "        [ 7,  8,  9, 10, 11, 12]])\n",
      "First tensor:\n",
      "tensor([[ 1,  2,  3,  4],\n",
      "        [ 5,  6,  7,  8],\n",
      "        [ 9, 10, 11, 12]])\n",
      "Second tensor:\n",
      "tensor([[[ 1,  2],\n",
      "         [ 3,  4],\n",
      "         [ 5,  6]],\n",
      "\n",
      "        [[ 7,  8],\n",
      "         [ 9, 10],\n",
      "         [11, 12]]])\n"
     ]
    }
   ],
   "source": [
    "normal_tensor = torch.tensor([\n",
    "    [1,2,3,4,5,6],\n",
    "    [7,8,9,10,11,12]\n",
    "])\n",
    "\n",
    "first_view = normal_tensor.view(3,4)\n",
    "second_view = normal_tensor.view(2,3,-1)\n",
    "\n",
    "print(\"Original tensor:\")\n",
    "print(normal_tensor)\n",
    "print(\"First tensor:\")\n",
    "print(first_view)\n",
    "print(\"Second tensor:\")\n",
    "print(second_view)"
   ]
  },
  {
   "cell_type": "markdown",
   "metadata": {},
   "source": [
    "Tenzor je objekt obsahující čísla, vyvstává tak otázka, jak s tenzory (ve správných dimenzích maticemi či vektory) vlastně počítat."
   ]
  },
  {
   "cell_type": "code",
   "execution_count": 19,
   "metadata": {
    "ExecuteTime": {
     "end_time": "2021-04-04T18:32:05.740224Z",
     "start_time": "2021-04-04T18:32:05.719992Z"
    }
   },
   "outputs": [],
   "source": [
    "first_tensor = torch.Tensor([\n",
    "    [1,1,1],\n",
    "    [2,2,2],\n",
    "    [3,3,3]\n",
    "])\n",
    "second_tensor = torch.Tensor([\n",
    "    [10,1,0],\n",
    "    [0,10,1],\n",
    "    [-1,-1,-1]\n",
    "])"
   ]
  },
  {
   "cell_type": "markdown",
   "metadata": {
    "ExecuteTime": {
     "end_time": "2021-04-04T18:31:08.900306Z",
     "start_time": "2021-04-04T18:31:08.870283Z"
    }
   },
   "source": [
    "Přičítání/odečítání/násobení/dělení tenzoru číslem je přímočaré:"
   ]
  },
  {
   "cell_type": "code",
   "execution_count": 13,
   "metadata": {
    "ExecuteTime": {
     "end_time": "2021-04-04T18:30:11.280119Z",
     "start_time": "2021-04-04T18:30:11.240666Z"
    }
   },
   "outputs": [
    {
     "data": {
      "text/plain": [
       "tensor([[0.3333, 0.3333, 0.3333],\n",
       "        [0.6667, 0.6667, 0.6667],\n",
       "        [1.0000, 1.0000, 1.0000]])"
      ]
     },
     "execution_count": 13,
     "metadata": {},
     "output_type": "execute_result"
    }
   ],
   "source": [
    "first_tensor/3"
   ]
  },
  {
   "cell_type": "markdown",
   "metadata": {},
   "source": [
    "Sčítání a odčítání tenzorů mezi sebou také (jen tedy tenzory musí mít stejný tvar)."
   ]
  },
  {
   "cell_type": "code",
   "execution_count": 20,
   "metadata": {
    "ExecuteTime": {
     "end_time": "2021-04-04T18:32:06.710399Z",
     "start_time": "2021-04-04T18:32:06.690090Z"
    }
   },
   "outputs": [
    {
     "data": {
      "text/plain": [
       "tensor([[-9.,  0.,  1.],\n",
       "        [ 2., -8.,  1.],\n",
       "        [ 4.,  4.,  4.]])"
      ]
     },
     "execution_count": 20,
     "metadata": {},
     "output_type": "execute_result"
    }
   ],
   "source": [
    "first_tensor-second_tensor"
   ]
  },
  {
   "cell_type": "markdown",
   "metadata": {},
   "source": [
    "Násobení tenzorů po elementech (myšleno, že dejme tomu ve  2D bude ij-tý element výsledku roven ij-tému elementu prvního tenzoru a ij-tému elementu druhého tenzoru) realizujeme hvězdičkou..."
   ]
  },
  {
   "cell_type": "code",
   "execution_count": 8,
   "metadata": {
    "ExecuteTime": {
     "end_time": "2021-04-04T18:24:38.180323Z",
     "start_time": "2021-04-04T18:24:36.901004Z"
    }
   },
   "outputs": [
    {
     "data": {
      "text/plain": [
       "tensor([[10.,  1.,  0.],\n",
       "        [ 0., 20.,  2.],\n",
       "        [-3., -3., -3.]])"
      ]
     },
     "execution_count": 8,
     "metadata": {},
     "output_type": "execute_result"
    }
   ],
   "source": [
    "first_tensor*second_tensor"
   ]
  },
  {
   "cell_type": "markdown",
   "metadata": {},
   "source": [
    "... či metodou *mul*."
   ]
  },
  {
   "cell_type": "code",
   "execution_count": 9,
   "metadata": {
    "ExecuteTime": {
     "end_time": "2021-04-04T18:26:50.138328Z",
     "start_time": "2021-04-04T18:26:50.120171Z"
    }
   },
   "outputs": [
    {
     "data": {
      "text/plain": [
       "tensor([[10.,  1.,  0.],\n",
       "        [ 0., 20.,  2.],\n",
       "        [-3., -3., -3.]])"
      ]
     },
     "execution_count": 9,
     "metadata": {},
     "output_type": "execute_result"
    }
   ],
   "source": [
    "first_tensor.mul(second_tensor)"
   ]
  },
  {
   "cell_type": "markdown",
   "metadata": {},
   "source": [
    "Klasické maticové násobení provedeme zavináčem..."
   ]
  },
  {
   "cell_type": "code",
   "execution_count": 10,
   "metadata": {
    "ExecuteTime": {
     "end_time": "2021-04-04T18:27:54.800486Z",
     "start_time": "2021-04-04T18:27:53.260236Z"
    }
   },
   "outputs": [
    {
     "data": {
      "text/plain": [
       "tensor([[ 9., 10.,  0.],\n",
       "        [18., 20.,  0.],\n",
       "        [27., 30.,  0.]])"
      ]
     },
     "execution_count": 10,
     "metadata": {},
     "output_type": "execute_result"
    }
   ],
   "source": [
    "first_tensor@second_tensor"
   ]
  },
  {
   "cell_type": "markdown",
   "metadata": {},
   "source": [
    "... či metodou *matmul*."
   ]
  },
  {
   "cell_type": "code",
   "execution_count": 11,
   "metadata": {
    "ExecuteTime": {
     "end_time": "2021-04-04T18:28:49.400526Z",
     "start_time": "2021-04-04T18:28:49.380327Z"
    }
   },
   "outputs": [
    {
     "data": {
      "text/plain": [
       "tensor([[ 9., 10.,  0.],\n",
       "        [18., 20.,  0.],\n",
       "        [27., 30.,  0.]])"
      ]
     },
     "execution_count": 11,
     "metadata": {},
     "output_type": "execute_result"
    }
   ],
   "source": [
    "first_tensor.matmul(second_tensor)"
   ]
  },
  {
   "cell_type": "markdown",
   "metadata": {},
   "source": [
    "Někdy potřebujeme udělat kopii tenzoru, která nebude s originálem sdílet data ve storagi. Tehdy musíme použít metodu *clone*."
   ]
  },
  {
   "cell_type": "code",
   "execution_count": 26,
   "metadata": {
    "ExecuteTime": {
     "end_time": "2021-04-03T18:50:26.987375Z",
     "start_time": "2021-04-03T18:50:26.886441Z"
    }
   },
   "outputs": [
    {
     "name": "stdout",
     "output_type": "stream",
     "text": [
      "Original tensor\n",
      "tensor([[1, 2],\n",
      "        [3, 4],\n",
      "        [5, 6]])\n",
      "Cloned tensor\n",
      "tensor([[50,  2],\n",
      "        [ 3,  4],\n",
      "        [ 5,  6]])\n"
     ]
    }
   ],
   "source": [
    "cloned_tensor = original_tensor.clone()\n",
    "cloned_tensor[0,0] = 50\n",
    "print(\"Original tensor\")\n",
    "print(original_tensor)\n",
    "print(\"Cloned tensor\")\n",
    "print(cloned_tensor)"
   ]
  },
  {
   "cell_type": "markdown",
   "metadata": {},
   "source": [
    "Pro porovnání elementů v tenzoru s určitou hodnotou můžeme použít následující funkce:\n",
    "- lt (neboli lower than)\n",
    "- le (neboli lower than or equal)\n",
    "- eq (neboli equal)\n",
    "- ge (neboli greater than or equal)\n",
    "- gt (neboli greather than) \n",
    "\n",
    "Jejich samostatné použití vyústí v tenzor booleanů:"
   ]
  },
  {
   "cell_type": "code",
   "execution_count": 27,
   "metadata": {
    "ExecuteTime": {
     "end_time": "2021-04-03T18:50:27.157431Z",
     "start_time": "2021-04-03T18:50:26.987375Z"
    }
   },
   "outputs": [
    {
     "name": "stdout",
     "output_type": "stream",
     "text": [
      "Original tensor\n",
      "tensor([[ 1,  2,  3],\n",
      "        [ 4,  5,  6],\n",
      "        [ 7,  8,  9],\n",
      "        [10, 11, 12]])\n",
      "Tensor of comparison validity:\n",
      "tensor([[False, False, False],\n",
      "        [False,  True, False],\n",
      "        [False, False, False],\n",
      "        [False, False, False]])\n"
     ]
    }
   ],
   "source": [
    "comparison_tensor = torch.tensor([\n",
    "    [1,2,3],\n",
    "    [4,5,6],\n",
    "    [7,8,9],\n",
    "    [10,11,12]\n",
    "])\n",
    "print(\"Original tensor\")\n",
    "print(comparison_tensor)\n",
    "print(\"Tensor of comparison validity:\")\n",
    "print(comparison_tensor.eq(5))"
   ]
  },
  {
   "cell_type": "markdown",
   "metadata": {},
   "source": [
    "Pro zjištění hodnot podmínku splňující musíme podobně jako v pandách použít hranaté závorky."
   ]
  },
  {
   "cell_type": "code",
   "execution_count": 28,
   "metadata": {
    "ExecuteTime": {
     "end_time": "2021-04-03T18:50:27.389217Z",
     "start_time": "2021-04-03T18:50:27.157431Z"
    }
   },
   "outputs": [
    {
     "data": {
      "text/plain": [
       "tensor([ 5,  6,  7,  8,  9, 10, 11, 12])"
      ]
     },
     "execution_count": 28,
     "metadata": {},
     "output_type": "execute_result"
    }
   ],
   "source": [
    "comparison_tensor[comparison_tensor.ge(5)]"
   ]
  },
  {
   "cell_type": "markdown",
   "metadata": {},
   "source": [
    "Pokud chceme v jeden okamžik použít více podmínek, musíme je svázat pomocí & (má význam *and*) či | (má význam *or*)"
   ]
  },
  {
   "cell_type": "code",
   "execution_count": 29,
   "metadata": {
    "ExecuteTime": {
     "end_time": "2021-04-03T18:50:27.574070Z",
     "start_time": "2021-04-03T18:50:27.389217Z"
    }
   },
   "outputs": [
    {
     "data": {
      "text/plain": [
       "tensor([ 1,  2, 11, 12])"
      ]
     },
     "execution_count": 29,
     "metadata": {},
     "output_type": "execute_result"
    }
   ],
   "source": [
    "comparison_tensor[comparison_tensor.lt(3) | comparison_tensor.gt(10)]"
   ]
  },
  {
   "cell_type": "code",
   "execution_count": 30,
   "metadata": {
    "ExecuteTime": {
     "end_time": "2021-04-03T18:50:27.637124Z",
     "start_time": "2021-04-03T18:50:27.574070Z"
    }
   },
   "outputs": [
    {
     "data": {
      "text/plain": [
       "tensor([4, 5, 6, 7, 8, 9])"
      ]
     },
     "execution_count": 30,
     "metadata": {},
     "output_type": "execute_result"
    }
   ],
   "source": [
    "comparison_tensor[comparison_tensor.gt(3) & comparison_tensor.lt(10)]"
   ]
  },
  {
   "cell_type": "markdown",
   "metadata": {},
   "source": [
    "Další pro obálkoidní objekty (listy, dataframy) typickou úlohou je nalepování jeden na druhý. To se v Pytorchi realizuje funkcí cat. Jejím prvním parametrem je tuple či list s na sebe nalepovanými tenzory, druhý parametr - dim - pak říká, přes jakou osu/dimezi se na sebe tenzory vlastě mají lepit. Platí přitom, že ostatní dimeze tenzorů by měly mít stejný rozměr."
   ]
  },
  {
   "cell_type": "code",
   "execution_count": 31,
   "metadata": {
    "ExecuteTime": {
     "end_time": "2021-04-03T18:50:27.759042Z",
     "start_time": "2021-04-03T18:50:27.637124Z"
    }
   },
   "outputs": [
    {
     "data": {
      "text/plain": [
       "tensor([[ 1,  2,  3,  4],\n",
       "        [ 5,  6,  7,  8],\n",
       "        [ 9, 10, 11, 12]])"
      ]
     },
     "execution_count": 31,
     "metadata": {},
     "output_type": "execute_result"
    }
   ],
   "source": [
    "first_tensor = torch.tensor([\n",
    "    [1,2,3,4],\n",
    "    [5,6,7,8]\n",
    "])\n",
    "second_tensor = torch.tensor([\n",
    "    [9,10,11,12]\n",
    "])\n",
    "concatenated_tensor = torch.cat((first_tensor, second_tensor), dim=0)\n",
    "concatenated_tensor"
   ]
  },
  {
   "cell_type": "markdown",
   "metadata": {
    "ExecuteTime": {
     "end_time": "2021-04-03T09:10:21.624199Z",
     "start_time": "2021-04-03T09:10:21.593970Z"
    }
   },
   "source": [
    "Jakých datových typů vlastně mohou hodnoty v tenzoru nabývat? Máme k dispozici několikero typů floatů a integerů + booleany:\n",
    "- torch.bool  \n",
    "- torch.float16 (alias torch.half)\n",
    "- torch.float32 (alias torch.float) - jedná se o default\n",
    "- torch.float64 (alias torch.double)\n",
    "- torch.int8\n",
    "- torch.uint8\n",
    "- torch.int16 (alias torch.short)\n",
    "- torch.int32 (alias torch.int)\n",
    "- torch.int64 (alias torch.long)  - jedná se default při vložení celých čísel do kontruktoru\n",
    "  \n",
    "Datový typ můžeme nastavit při vytvoření tenzoru s pomocí parametru dtype:"
   ]
  },
  {
   "cell_type": "code",
   "execution_count": 32,
   "metadata": {
    "ExecuteTime": {
     "end_time": "2021-04-03T18:50:27.874751Z",
     "start_time": "2021-04-03T18:50:27.759042Z"
    }
   },
   "outputs": [
    {
     "data": {
      "text/plain": [
       "tensor([1, 2, 3, 4], dtype=torch.int32)"
      ]
     },
     "execution_count": 32,
     "metadata": {},
     "output_type": "execute_result"
    }
   ],
   "source": [
    "tensor_integers = torch.tensor([1,2,3,4], dtype=torch.int32)\n",
    "tensor_integers"
   ]
  },
  {
   "cell_type": "code",
   "execution_count": 33,
   "metadata": {
    "ExecuteTime": {
     "end_time": "2021-04-03T18:50:27.990974Z",
     "start_time": "2021-04-03T18:50:27.874751Z"
    }
   },
   "outputs": [
    {
     "data": {
      "text/plain": [
       "tensor([1., 2., 3., 4.])"
      ]
     },
     "execution_count": 33,
     "metadata": {},
     "output_type": "execute_result"
    }
   ],
   "source": [
    "tensor_floats = torch.tensor([1,2,3,4], dtype=torch.float32)\n",
    "tensor_floats"
   ]
  },
  {
   "cell_type": "markdown",
   "metadata": {},
   "source": [
    "Pro konverzi již existujících tensorů lze použít metody *to* či *type*. Pro jistotu zdůrazněme, že původní tenzor si zachovává svůj datový typ."
   ]
  },
  {
   "cell_type": "code",
   "execution_count": 34,
   "metadata": {
    "ExecuteTime": {
     "end_time": "2021-04-03T18:50:28.107054Z",
     "start_time": "2021-04-03T18:50:27.990974Z"
    }
   },
   "outputs": [
    {
     "data": {
      "text/plain": [
       "tensor([1., 2., 3., 4.], dtype=torch.float64)"
      ]
     },
     "execution_count": 34,
     "metadata": {},
     "output_type": "execute_result"
    }
   ],
   "source": [
    "tensor_float64 = tensor_integers.to(dtype=torch.double)\n",
    "tensor_float64"
   ]
  },
  {
   "cell_type": "code",
   "execution_count": 35,
   "metadata": {
    "ExecuteTime": {
     "end_time": "2021-04-03T18:50:28.344887Z",
     "start_time": "2021-04-03T18:50:28.107054Z"
    }
   },
   "outputs": [
    {
     "data": {
      "text/plain": [
       "tensor([1, 2, 3, 4], dtype=torch.int16)"
      ]
     },
     "execution_count": 35,
     "metadata": {},
     "output_type": "execute_result"
    }
   ],
   "source": [
    "tensor_int16 = tensor_floats.type(torch.short)\n",
    "tensor_int16"
   ]
  },
  {
   "cell_type": "markdown",
   "metadata": {},
   "source": [
    "S pytorchími tenzory a numpoidními poli se pracuje dosti podobně a tak není moc překvapivé, že jedny můžeme konvertovat na druhé. Přeměna tezoru na numpy array se provede pomocí metody *numpy*."
   ]
  },
  {
   "cell_type": "code",
   "execution_count": 36,
   "metadata": {
    "ExecuteTime": {
     "end_time": "2021-04-03T18:50:28.438824Z",
     "start_time": "2021-04-03T18:50:28.344887Z"
    }
   },
   "outputs": [
    {
     "data": {
      "text/plain": [
       "array([1, 2, 3, 4], dtype=int64)"
      ]
     },
     "execution_count": 36,
     "metadata": {},
     "output_type": "execute_result"
    }
   ],
   "source": [
    "some_tensor = torch.tensor([1,2,3,4])\n",
    "some_numpy_array = some_tensor.numpy()\n",
    "some_numpy_array"
   ]
  },
  {
   "cell_type": "markdown",
   "metadata": {},
   "source": [
    "Opačný proces se realizuje funkcí *from_numpy*."
   ]
  },
  {
   "cell_type": "code",
   "execution_count": 37,
   "metadata": {
    "ExecuteTime": {
     "end_time": "2021-04-03T18:50:28.591985Z",
     "start_time": "2021-04-03T18:50:28.438824Z"
    }
   },
   "outputs": [
    {
     "name": "stdout",
     "output_type": "stream",
     "text": [
      "tensor([1, 2, 3, 4])\n",
      "torch.int64\n"
     ]
    }
   ],
   "source": [
    "tensor_from_numpy = torch.from_numpy(some_numpy_array)\n",
    "print(tensor_from_numpy)\n",
    "print(tensor_from_numpy.dtype)"
   ]
  },
  {
   "cell_type": "markdown",
   "metadata": {},
   "source": [
    "V kontextu deep learningu je významný přesun tenzorů z CPU na GPU. Proč vlastně GPU vůbec řešíme? Jeden výpočetní element (jádro) na CPU je silnější než jeden výpočetní element na GPU. Jenomže zatímco jader na CPU máme pár jednotek, na GPU je jich řádově mnohem více. No a vzhledem k tomu, že výpočty spojené s neuronovými sitěmi se dají dobře paralelizovat, trvají operace s použitím GPU mnohem kratší dobu.  \n",
    "Každopádně abychom něco s GPU mohli dělat, musíme si ověřit, že ji Pytorch vůbec vidí:"
   ]
  },
  {
   "cell_type": "code",
   "execution_count": 2,
   "metadata": {
    "ExecuteTime": {
     "end_time": "2021-04-04T18:11:42.180642Z",
     "start_time": "2021-04-04T18:11:39.535767Z"
    }
   },
   "outputs": [
    {
     "data": {
      "text/plain": [
       "True"
      ]
     },
     "execution_count": 2,
     "metadata": {},
     "output_type": "execute_result"
    }
   ],
   "source": [
    "torch.cuda.is_available()"
   ]
  },
  {
   "cell_type": "markdown",
   "metadata": {},
   "source": [
    "Aby nějaký výpočet na GPU mohl probíhat, musíme tam nejprve dostat vstupní data. Jedním ze způsobů, jak toho docílit, je stanovit už v konstruktoru tenzoru, že mají operace probíhat na *device=\"cuda\"*. CUDA (Compute Unified Device Architecture) je platforma pro paralelní výpočty nad grafickými kartami Nvidie. Pozn.: nula v outputu buňky níže označuje index grafické karty."
   ]
  },
  {
   "cell_type": "code",
   "execution_count": 38,
   "metadata": {
    "ExecuteTime": {
     "end_time": "2021-04-03T18:50:47.484100Z",
     "start_time": "2021-04-03T18:50:28.591985Z"
    }
   },
   "outputs": [
    {
     "data": {
      "text/plain": [
       "tensor([1, 2, 3, 4], device='cuda:0')"
      ]
     },
     "execution_count": 38,
     "metadata": {},
     "output_type": "execute_result"
    }
   ],
   "source": [
    "tensor_gpu = torch.tensor([1,2,3,4], device=\"cuda\")\n",
    "tensor_gpu"
   ]
  },
  {
   "cell_type": "markdown",
   "metadata": {},
   "source": [
    "Už vytvořené tenzory zkopírujeme na GPU pomocí metody *to*. Stejná metoda pak zase zkopíruje tenzor z GPU na CPU."
   ]
  },
  {
   "cell_type": "code",
   "execution_count": 39,
   "metadata": {
    "ExecuteTime": {
     "end_time": "2021-04-03T18:50:47.500105Z",
     "start_time": "2021-04-03T18:50:47.484100Z"
    }
   },
   "outputs": [
    {
     "name": "stdout",
     "output_type": "stream",
     "text": [
      "tensor([1, 2, 3, 4])\n",
      "tensor([1, 2, 3, 4], device='cuda:0')\n",
      "tensor([1, 2, 3, 4])\n"
     ]
    }
   ],
   "source": [
    "tensor_cpu = torch.tensor([1,2,3,4])\n",
    "tensor_moved_to_gpu = tensor_cpu.to(device=\"cuda\")\n",
    "tesor_moved_to_cpu = tensor_moved_to_gpu.to(device=\"cpu\")\n",
    "\n",
    "print(tensor_cpu)\n",
    "print(tensor_moved_to_gpu)\n",
    "print(tesor_moved_to_cpu)"
   ]
  },
  {
   "cell_type": "markdown",
   "metadata": {},
   "source": [
    "Zdůrazněme, že se tu opravdu jedná o kopírování, tj. změna v původním objektu nevyvolá změnu v objektu na novém působišti."
   ]
  },
  {
   "cell_type": "code",
   "execution_count": 40,
   "metadata": {
    "ExecuteTime": {
     "end_time": "2021-04-03T18:50:47.722066Z",
     "start_time": "2021-04-03T18:50:47.500105Z"
    }
   },
   "outputs": [
    {
     "name": "stdout",
     "output_type": "stream",
     "text": [
      "tensor([10,  2,  3,  4])\n",
      "tensor([ 1, 20,  3,  4], device='cuda:0')\n",
      "tensor([ 1,  2, 30,  4])\n"
     ]
    }
   ],
   "source": [
    "tensor_cpu[0] = 10\n",
    "tensor_moved_to_gpu[1] = 20\n",
    "tesor_moved_to_cpu[2] = 30\n",
    "\n",
    "print(tensor_cpu)\n",
    "print(tensor_moved_to_gpu)\n",
    "print(tesor_moved_to_cpu)"
   ]
  },
  {
   "cell_type": "markdown",
   "metadata": {},
   "source": [
    "Co dělat, když chceme tenzor uložit na disk? Nejpřímočařejší je využití funkce *save*, která fakticky objekt uloží ve formátu pickle."
   ]
  },
  {
   "cell_type": "code",
   "execution_count": 41,
   "metadata": {
    "ExecuteTime": {
     "end_time": "2021-04-03T18:50:48.038474Z",
     "start_time": "2021-04-03T18:50:47.722066Z"
    }
   },
   "outputs": [],
   "source": [
    "saved_tensor = torch.tensor([1,2,3,4])\n",
    "torch.save(saved_tensor, \"saved_tensor.t\")"
   ]
  },
  {
   "cell_type": "markdown",
   "metadata": {},
   "source": [
    "Nahrát tenzor z disku můžeme pomocí funkce load."
   ]
  },
  {
   "cell_type": "code",
   "execution_count": 42,
   "metadata": {
    "ExecuteTime": {
     "end_time": "2021-04-03T18:50:48.054095Z",
     "start_time": "2021-04-03T18:50:48.038474Z"
    }
   },
   "outputs": [
    {
     "data": {
      "text/plain": [
       "tensor([1, 2, 3, 4])"
      ]
     },
     "execution_count": 42,
     "metadata": {},
     "output_type": "execute_result"
    }
   ],
   "source": [
    "loaded_tensor = torch.load(\"saved_tensor.t\")\n",
    "loaded_tensor"
   ]
  },
  {
   "cell_type": "markdown",
   "metadata": {},
   "source": [
    "Možností pro ukládání je více - například lze použít formát HDF5. To zde ale ukazovat nebudeme."
   ]
  },
  {
   "cell_type": "markdown",
   "metadata": {},
   "source": [
    "## Příprava dat - tabulky"
   ]
  },
  {
   "cell_type": "markdown",
   "metadata": {},
   "source": [
    "### Použití Pytorche\n",
    "Předtím, než se pustíme do vytvoření té nejjednodušší neuronové sítě, si musíme připravit data. V rámci zažití pytorchích operací to zkusme napřed bez použití sklearnovkých utilit. Nicméně jak později uvidíme, s nimi se bude přeci jen pracovat efektivněji.  \n",
    "Co se dat týče, použijme klasický dataset kosatců."
   ]
  },
  {
   "cell_type": "code",
   "execution_count": 2,
   "metadata": {
    "ExecuteTime": {
     "end_time": "2021-04-11T18:24:25.283248Z",
     "start_time": "2021-04-11T18:24:24.728932Z"
    }
   },
   "outputs": [
    {
     "data": {
      "text/html": [
       "<div>\n",
       "<style scoped>\n",
       "    .dataframe tbody tr th:only-of-type {\n",
       "        vertical-align: middle;\n",
       "    }\n",
       "\n",
       "    .dataframe tbody tr th {\n",
       "        vertical-align: top;\n",
       "    }\n",
       "\n",
       "    .dataframe thead th {\n",
       "        text-align: right;\n",
       "    }\n",
       "</style>\n",
       "<table border=\"1\" class=\"dataframe\">\n",
       "  <thead>\n",
       "    <tr style=\"text-align: right;\">\n",
       "      <th></th>\n",
       "      <th>sepal length (cm)</th>\n",
       "      <th>sepal width (cm)</th>\n",
       "      <th>petal length (cm)</th>\n",
       "      <th>petal width (cm)</th>\n",
       "      <th>target</th>\n",
       "    </tr>\n",
       "  </thead>\n",
       "  <tbody>\n",
       "    <tr>\n",
       "      <th>0</th>\n",
       "      <td>5.1</td>\n",
       "      <td>3.5</td>\n",
       "      <td>1.4</td>\n",
       "      <td>0.2</td>\n",
       "      <td>0</td>\n",
       "    </tr>\n",
       "    <tr>\n",
       "      <th>1</th>\n",
       "      <td>4.9</td>\n",
       "      <td>3.0</td>\n",
       "      <td>1.4</td>\n",
       "      <td>0.2</td>\n",
       "      <td>0</td>\n",
       "    </tr>\n",
       "    <tr>\n",
       "      <th>2</th>\n",
       "      <td>4.7</td>\n",
       "      <td>3.2</td>\n",
       "      <td>1.3</td>\n",
       "      <td>0.2</td>\n",
       "      <td>0</td>\n",
       "    </tr>\n",
       "    <tr>\n",
       "      <th>3</th>\n",
       "      <td>4.6</td>\n",
       "      <td>3.1</td>\n",
       "      <td>1.5</td>\n",
       "      <td>0.2</td>\n",
       "      <td>0</td>\n",
       "    </tr>\n",
       "    <tr>\n",
       "      <th>4</th>\n",
       "      <td>5.0</td>\n",
       "      <td>3.6</td>\n",
       "      <td>1.4</td>\n",
       "      <td>0.2</td>\n",
       "      <td>0</td>\n",
       "    </tr>\n",
       "  </tbody>\n",
       "</table>\n",
       "</div>"
      ],
      "text/plain": [
       "   sepal length (cm)  sepal width (cm)  petal length (cm)  petal width (cm)  \\\n",
       "0                5.1               3.5                1.4               0.2   \n",
       "1                4.9               3.0                1.4               0.2   \n",
       "2                4.7               3.2                1.3               0.2   \n",
       "3                4.6               3.1                1.5               0.2   \n",
       "4                5.0               3.6                1.4               0.2   \n",
       "\n",
       "   target  \n",
       "0       0  \n",
       "1       0  \n",
       "2       0  \n",
       "3       0  \n",
       "4       0  "
      ]
     },
     "execution_count": 2,
     "metadata": {},
     "output_type": "execute_result"
    }
   ],
   "source": [
    "iris_data_heap = load_iris()\n",
    "iris_dataframe = pd.DataFrame(iris_data_heap[\"data\"], columns=iris_data_heap[\"feature_names\"])\n",
    "iris_dataframe[\"target\"] = pd.Series(iris_data_heap[\"target\"])\n",
    "iris_dataframe.head()"
   ]
  },
  {
   "cell_type": "markdown",
   "metadata": {
    "ExecuteTime": {
     "end_time": "2021-04-04T13:46:15.263100Z",
     "start_time": "2021-04-04T13:46:15.247479Z"
    }
   },
   "source": [
    "Pytorch dovoluje konvertovat na tenzory numpoidní pole, nikoli dataframy, proto dodatečný převod."
   ]
  },
  {
   "cell_type": "code",
   "execution_count": 31,
   "metadata": {
    "ExecuteTime": {
     "end_time": "2021-04-06T19:54:46.398050Z",
     "start_time": "2021-04-06T19:54:45.668445Z"
    }
   },
   "outputs": [
    {
     "name": "stdout",
     "output_type": "stream",
     "text": [
      "Shape of iris tensor: torch.Size([150, 5])\n"
     ]
    },
    {
     "data": {
      "text/plain": [
       "tensor([[5.1000, 3.5000, 1.4000, 0.2000, 0.0000],\n",
       "        [4.9000, 3.0000, 1.4000, 0.2000, 0.0000],\n",
       "        [4.7000, 3.2000, 1.3000, 0.2000, 0.0000],\n",
       "        [4.6000, 3.1000, 1.5000, 0.2000, 0.0000],\n",
       "        [5.0000, 3.6000, 1.4000, 0.2000, 0.0000]], dtype=torch.float64)"
      ]
     },
     "execution_count": 31,
     "metadata": {},
     "output_type": "execute_result"
    }
   ],
   "source": [
    "iris_tensor = torch.tensor(iris_dataframe.to_numpy())\n",
    "print(f\"Shape of iris tensor: {iris_tensor.shape}\")\n",
    "iris_tensor[0:5,:]"
   ]
  },
  {
   "cell_type": "markdown",
   "metadata": {},
   "source": [
    "Data rozděleme na trénovací a testovací. V Pytorchi na to lze použít funkci random_split, s tím se ale pojí použití několika dalších typů objektů. Na ty přijde řeč až později v textu, proto tady provedeme naivnější postup s pomocí funkce *randperm*. Ta jako parametr přebírá celé číslo n a vytvoří jednorozměrný tenzor s náhodně uspořádánými čísly 0 až n-1 (každé se vyskytuje právě jednou). Tato náhodně přeuspořádaná čísla nám poslouží jako indexy řádků nového tenzoru. Ten bude fakticky stejný jako původní, jen bude mít přeházené řádky. Tento nový tenzor rozdělíme v poměru 80%:20% s tím, že větší část bude sloužit k trénování modelu a menší k jeho testování."
   ]
  },
  {
   "cell_type": "code",
   "execution_count": 32,
   "metadata": {
    "ExecuteTime": {
     "end_time": "2021-04-06T19:54:46.497973Z",
     "start_time": "2021-04-06T19:54:46.458310Z"
    }
   },
   "outputs": [],
   "source": [
    "total_length = iris_tensor.shape[0]\n",
    "train_length = round(total_length*0.8)\n",
    "iris_tensor_row_permutation = iris_tensor[torch.randperm(total_length),:]\n",
    "iris_train = iris_tensor_row_permutation[:train_length,:]\n",
    "iris_test = iris_tensor_row_permutation[train_length:,:]"
   ]
  },
  {
   "cell_type": "markdown",
   "metadata": {},
   "source": [
    "Prediktory musí stát samostatně - vyrobme si tedy nové tenzory, kde sloupeček s targety není."
   ]
  },
  {
   "cell_type": "code",
   "execution_count": 33,
   "metadata": {
    "ExecuteTime": {
     "end_time": "2021-04-06T19:54:47.078247Z",
     "start_time": "2021-04-06T19:54:47.048281Z"
    }
   },
   "outputs": [
    {
     "name": "stdout",
     "output_type": "stream",
     "text": [
      "Shape of iris tensor without target: torch.Size([120, 4])\n"
     ]
    },
    {
     "data": {
      "text/plain": [
       "tensor([[5.0000, 3.4000, 1.6000, 0.4000],\n",
       "        [4.8000, 3.4000, 1.9000, 0.2000],\n",
       "        [5.4000, 3.0000, 4.5000, 1.5000],\n",
       "        [4.5000, 2.3000, 1.3000, 0.3000],\n",
       "        [6.9000, 3.1000, 4.9000, 1.5000]], dtype=torch.float64)"
      ]
     },
     "execution_count": 33,
     "metadata": {},
     "output_type": "execute_result"
    }
   ],
   "source": [
    "iris_train_predictors = iris_train[:,:-1]\n",
    "iris_test_predictors = iris_test[:,:-1]\n",
    "\n",
    "print(f\"Shape of iris tensor without target: {iris_train_predictors.shape}\")\n",
    "iris_train_predictors[0:5,:]"
   ]
  },
  {
   "cell_type": "markdown",
   "metadata": {},
   "source": [
    "Stejně tak si vyrobme i tenzor, kde budou pouze targety. Jelikož Pytorch si s takovýmto formátem targetu poradí (nemusíme provádět one-hot encodování), nemusíme nic dalšího dělat. "
   ]
  },
  {
   "cell_type": "code",
   "execution_count": 34,
   "metadata": {
    "ExecuteTime": {
     "end_time": "2021-04-06T19:54:48.933386Z",
     "start_time": "2021-04-06T19:54:48.918315Z"
    }
   },
   "outputs": [
    {
     "name": "stdout",
     "output_type": "stream",
     "text": [
      "Shape of iris target tensor: torch.Size([120])\n"
     ]
    },
    {
     "data": {
      "text/plain": [
       "tensor([0., 0., 1., 0., 1., 0., 0., 0., 0., 0., 0., 2., 0., 2., 2., 1., 1., 0.,\n",
       "        2., 1., 0., 0., 0., 1., 0., 2., 1., 1., 2., 2., 2., 0., 1., 1., 1., 1.,\n",
       "        2., 0., 2., 2., 0., 1., 1., 2., 2., 0., 2., 1., 0., 1., 0., 0., 0., 1.,\n",
       "        2., 0., 0., 1., 1., 1., 0., 2., 2., 0., 1., 1., 1., 0., 2., 0., 1., 1.,\n",
       "        2., 2., 2., 2., 2., 1., 1., 2., 0., 0., 1., 0., 1., 1., 0., 2., 1., 1.,\n",
       "        1., 0., 2., 2., 1., 0., 1., 2., 0., 0., 2., 2., 0., 2., 2., 2., 0., 1.,\n",
       "        0., 2., 2., 2., 1., 1., 1., 0., 2., 2., 0., 1.], dtype=torch.float64)"
      ]
     },
     "execution_count": 34,
     "metadata": {},
     "output_type": "execute_result"
    }
   ],
   "source": [
    "iris_train_target = iris_train[:,-1]\n",
    "iris_test_target = iris_test[:,-1]\n",
    "\n",
    "print(f\"Shape of iris target tensor: {iris_train_target.shape}\")\n",
    "iris_train_target"
   ]
  },
  {
   "cell_type": "markdown",
   "metadata": {},
   "source": [
    "Z důvodu, který si objasníme za chvíli, jsou neuronové sítě jedním z algoritmů, který vyžaduje nanormovaná data. Opět zkusíme provést normování bez použití utilit z sklearnu."
   ]
  },
  {
   "cell_type": "code",
   "execution_count": 35,
   "metadata": {
    "ExecuteTime": {
     "end_time": "2021-04-06T19:54:51.268160Z",
     "start_time": "2021-04-06T19:54:50.527854Z"
    }
   },
   "outputs": [
    {
     "name": "stdout",
     "output_type": "stream",
     "text": [
      "Tensor with average value of every column: tensor([5.8050, 3.0517, 3.7025, 1.1708], dtype=torch.float64)\n",
      "Tensor with variance of every column: tensor([0.6973, 0.1813, 3.2172, 0.6006], dtype=torch.float64)\n"
     ]
    },
    {
     "data": {
      "text/plain": [
       "tensor([[-0.9640,  0.8180, -1.1722, -0.9947],\n",
       "        [-1.2035,  0.8180, -1.0049, -1.2527],\n",
       "        [-0.4850, -0.1213,  0.4446,  0.4248],\n",
       "        [-1.5628, -1.7651, -1.3394, -1.1237],\n",
       "        [ 1.3113,  0.1135,  0.6676,  0.4248]], dtype=torch.float64)"
      ]
     },
     "execution_count": 35,
     "metadata": {},
     "output_type": "execute_result"
    }
   ],
   "source": [
    "columns_mean = torch.mean(iris_train_predictors, dim=0)\n",
    "print(f\"Tensor with average value of every column: {columns_mean}\")\n",
    "columns_variance = torch.var(iris_train_predictors, dim=0)\n",
    "print(f\"Tensor with variance of every column: {columns_variance}\")\n",
    "\n",
    "iris_train_predictors_normalised = (iris_train_predictors-columns_mean)/torch.sqrt(columns_variance)\n",
    "iris_test_predictors_normalised = (iris_test_predictors-columns_mean)/torch.sqrt(columns_variance)\n",
    "\n",
    "iris_train_predictors_normalised[0:5,:]"
   ]
  },
  {
   "cell_type": "markdown",
   "metadata": {},
   "source": [
    "### Použití scikit-learnu"
   ]
  },
  {
   "cell_type": "markdown",
   "metadata": {},
   "source": [
    "Nyní se pokusíme dosáhnout stejného vysledku s použitím scikit-learnu. Pro zpracování targetu použijeme OneHotEncoder. Jelikož chceme mít na výstupu numpy array a nikoli matici, musíme do konstruktoru vložit sparse=False. No ale jelikož budeme dále používat objekty vyrobené právě s pomocí sklearnu, proběhne tu i rozdělení na trénovací a testovací data."
   ]
  },
  {
   "cell_type": "code",
   "execution_count": 3,
   "metadata": {
    "ExecuteTime": {
     "end_time": "2021-04-11T18:24:25.655178Z",
     "start_time": "2021-04-11T18:24:25.336737Z"
    }
   },
   "outputs": [],
   "source": [
    "train_features, test_features, train_target, test_target = \\\n",
    "    train_test_split(iris_dataframe.drop(\"target\", axis=1), iris_dataframe[[\"target\"]], test_size=0.2, random_state=10)"
   ]
  },
  {
   "cell_type": "code",
   "execution_count": 4,
   "metadata": {
    "ExecuteTime": {
     "end_time": "2021-04-11T18:26:21.661258Z",
     "start_time": "2021-04-11T18:26:19.905524Z"
    }
   },
   "outputs": [
    {
     "data": {
      "text/plain": [
       "tensor([1, 1, 2, 2, 2, 0, 2, 2, 2, 2, 0, 0, 1, 0, 1, 0, 1, 1, 2, 2, 1, 2, 1, 1,\n",
       "        1, 0, 0, 1, 0, 2, 0, 0, 2, 1, 2, 0, 2, 0, 1, 1, 0, 2, 2, 2, 2, 2, 0, 1,\n",
       "        2, 1, 0, 2, 1, 1, 0, 0, 0, 1, 2, 2, 1, 0, 0, 0, 2, 2, 1, 1, 2, 2, 2, 2,\n",
       "        1, 0, 0, 1, 0, 0, 2, 1, 0, 0, 0, 1, 0, 1, 0, 1, 2, 0, 1, 1, 2, 0, 2, 0,\n",
       "        1, 1, 2, 2, 0, 1, 2, 2, 1, 1, 2, 0, 2, 0, 0, 1, 0, 2, 2, 2, 1, 0, 2, 0])"
      ]
     },
     "execution_count": 4,
     "metadata": {},
     "output_type": "execute_result"
    }
   ],
   "source": [
    "target_train_tensor = torch.tensor(train_target.to_numpy(), dtype=torch.int64).squeeze()\n",
    "target_test_tensor = torch.tensor(test_target.to_numpy(), dtype=torch.int64).squeeze()\n",
    "\n",
    "target_train_tensor"
   ]
  },
  {
   "cell_type": "markdown",
   "metadata": {},
   "source": [
    "Ani ke škálování se toho mnoho říci nedá:"
   ]
  },
  {
   "cell_type": "code",
   "execution_count": 5,
   "metadata": {
    "ExecuteTime": {
     "end_time": "2021-04-11T18:26:24.395491Z",
     "start_time": "2021-04-11T18:26:23.235474Z"
    }
   },
   "outputs": [
    {
     "data": {
      "text/plain": [
       "tensor([[ 0.8711, -0.3989,  0.4606,  0.1058],\n",
       "        [ 0.3938, -0.3989,  0.2919,  0.1058],\n",
       "        [ 1.5871, -0.1677,  1.1354,  0.4945],\n",
       "        [-0.0835, -0.6302,  0.7418,  1.5309],\n",
       "        [ 0.5131, -1.3239,  0.6855,  0.8831]], dtype=torch.float64)"
      ]
     },
     "execution_count": 5,
     "metadata": {},
     "output_type": "execute_result"
    }
   ],
   "source": [
    "scaler_standard = StandardScaler()\n",
    "\n",
    "scaled_predictors_train = scaler_standard.fit_transform(train_features)\n",
    "scaled_predictors_train_tensor = torch.tensor(scaled_predictors_train)\n",
    "\n",
    "scaled_predictors_test = scaler_standard.transform(test_features)\n",
    "scaled_predictors_test_tensor = torch.tensor(scaled_predictors_test)\n",
    "\n",
    "scaled_predictors_train_tensor[0:5,:]"
   ]
  },
  {
   "cell_type": "markdown",
   "metadata": {},
   "source": [
    "## Výroba jednoduché neuronové sítě"
   ]
  },
  {
   "cell_type": "markdown",
   "metadata": {},
   "source": [
    "Na úplném začátku si ujasněme, co vlastně jednoduchou (dense) sítí myslíme. Jedná se o strukturu složenou z neuronů, které jsou uspořádány do vrstev (viz obr. 1). Každý neuron v n-té vrstvě je spojen s každým neuronem v n-1 a n+1 vrstvě, s neurony ze své vůastní vrstvy ale žádné spojení nemá. První vrstva se nazývá vrstvou vstupní. Do každého neuronu zde umístěného se bez jakýchkoli dalších transformací dostávají data z jednoho z prediktorů. To tedy například znamená, že neuronová síť zpracovávající kosatcová data by měla mít 4 vstupní neurony. Podobně výstuní vrstva obsahuje to, co by měl model uživateli poskytnout. V případě regresních úloh či binárního klasifikátoru je na výstupu jeden neuron, multiclass klasifikačních úloh by ale na výstupu měl být pro každou třídu alokován jeden neuron. Tyto neuronvy by totiž měly obsahovat pravděpodobnost, že ohodnocovaný záznam do příslušné třídy patří.   \n",
    "![vrstvy](pytorch_images/layers.png)\n",
    "<center>Obrázek 1: Uspořádání neuronů do vrstev.</center>  \n",
    "\n",
    "V předchozím odstavci se pořád mluví o neuronech - jak ale tyto záhadné objekty fungují? Neuron přebírá informace - hodnoty z předešlé vrstvy. Nicméně tyto hodnoty jsou přenásobeny váhami $w_i$. Zdůrazněme, že jelikož váhy NJESOU omezeny na interval [0,1], může se jejich působením přebíraná hodnota i zvětšovat. V obrázku č. 2 vidíme, že do neuronu míří i jakési *b*. Jedná se o bias neboli konstantu, která je pro každný neuron jiná. Když se to dá dohromady, má hodnota např. neuronu C z obrázku velikost $z = w_1A + w_2B + b_C$. Kdyby toto bylo vše, neměla by všam neuronová síť moc smysl. Jednalo by se totiž o řetěz lineárních operací, které by se daly přepsat do podoby jedné jediné lienární operace. Proto se na mezivýsledek *z* v rámci neuronu vypustí nějaká nelineární funkce (obvykle nazývaná aktivační funkcí) a výstupem neuronu je tak  \n",
    "$y = f_{akt}(z) = f_{akt}(w_1A + w_2B + b_C)$.  \n",
    "\n",
    "## Aktivační funkce\n",
    "Aktivační funkce bývají pro jednu vrstvu stejné. Častokrát dokonce bývá aktivační funkce stejná pro celou síť - tedy s čestnou výjimkou výstupní vrstvy. Tam bývá buďto funkce, která hodnoty neuronu převádí do intervalu [0,1] (klasifikační úlohy), anebo aktivační funkce absentuje (regresní úlohy). A jaké funkce se vlastně používají?"
   ]
  },
  {
   "cell_type": "markdown",
   "metadata": {},
   "source": [
    "#### Sigmoid\n",
    "Funkce sigmoid definovaná jako  \n",
    "$f(x) = \\frac{1}{1+exp(-x)}$  \n",
    "bere jako vstup čísla v intervalu [-inf, +inf], aby vyprodukovala výstup z intervalu [0,1]. Díky tomu může být použita jako aktivační funkce pro výstupní vrstvu u binárního klasifikačního problému, kde se její produkt dá interpretovat jako pravděpodobnost. Kdysi se sigmoid používal jako aktivační funkce i u skrytých vrstev, nicméně ukázalo se, že se pro takovou úlohu moc nehodí. Z grafu níže vidíme, že se pro (relativně) velké a malé hodnoty saturuje. Jeho derivace je díky tomu v těchto oblastech velice malá. Níže si u backpropagace ukážeme, že při hledání optimálních hondot vah se mezi sebou přenásobují všelijaké derivace. No a sigmoid takovéto součiny posílal do nuly - tehdy se hovořilo o *vanishing gradientu*."
   ]
  },
  {
   "cell_type": "code",
   "execution_count": 15,
   "metadata": {
    "ExecuteTime": {
     "end_time": "2021-04-09T19:30:41.544737Z",
     "start_time": "2021-04-09T19:30:41.425268Z"
    }
   },
   "outputs": [
    {
     "data": {
      "image/png": "[encoded data removed]",
      "text/plain": [
       "<Figure size 432x288 with 1 Axes>"
      ]
     },
     "metadata": {
      "needs_background": "light"
     },
     "output_type": "display_data"
    }
   ],
   "source": [
    "x = np.arange(-10,10,0.5)\n",
    "y = 1/(1+np.exp(-x))\n",
    "plt.plot(x,y);\n",
    "plt.title(\"Sigmoid function\");"
   ]
  },
  {
   "cell_type": "markdown",
   "metadata": {},
   "source": [
    "#### Softmax  \n",
    "Softmax se používá jako aktivační funkce na výstupní vrstvě pro případ multiclass klasiifikační úlohy. Stejně jako softmax provádí převod intervalu [-inf, +inf] na [0,1], navíc ale provádí normování. To znamená, že pravděpodobnosti všech tříd se po použití softmaxu dají sečíst na jedničku. Matematický předpis nabývá tvaru  \n",
    "$f(x_i)=\\frac{exp(x_i)}{\\sum_{j=1}^{k}exp(x_j)}$\n"
   ]
  },
  {
   "cell_type": "markdown",
   "metadata": {},
   "source": [
    "#### Tanh  \n",
    "Hyperbolický tangent se chová podobně jako sigmoid. Nicméně jeho použití vede k rychlejšímu natrénování sítě (viz Y. Lecun et al.: [Efficient BackProp](https://www.researchgate.net/publication/2811922_Efficient_BackProp), sekce 4.3 a 4.4). Tanh bohužel se sigmoidem sdílí i problém s vanishing gradientem. No a jelikož interval [-inf,+inf] převádí na [-1,1], není tudíž vhodný na použití pro výstupní vrstvu.  \n",
    "$f(x) = \\frac{exp(x) - exp(-x)}{exp(x) + exp(-x)}$ "
   ]
  },
  {
   "cell_type": "code",
   "execution_count": 2,
   "metadata": {
    "ExecuteTime": {
     "end_time": "2021-04-10T09:28:20.626155Z",
     "start_time": "2021-04-10T09:28:19.526290Z"
    }
   },
   "outputs": [
    {
     "data": {
      "image/png": "[encoded data removed]",
      "text/plain": [
       "<Figure size 432x288 with 1 Axes>"
      ]
     },
     "metadata": {
      "needs_background": "light"
     },
     "output_type": "display_data"
    }
   ],
   "source": [
    "x = np.arange(-10,10,0.5)\n",
    "y = (np.exp(x) - np.exp(-x))/(np.exp(x) + np.exp(-x))\n",
    "plt.plot(x,y);\n",
    "plt.title(\"Tanh function\");"
   ]
  },
  {
   "cell_type": "markdown",
   "metadata": {},
   "source": [
    "#### ReLU\n",
    "ReLU (rectified linear unit) je definována jako  \n",
    "\n",
    "$f(x) = max(0,x)$\n",
    "\n",
    "Dnes je asi nejpoužívanější aktivační funkcí. Důvodem tkví ve snížení pravděpodobnosti, že dojde ke gradient vanishing. To je dáno tím, že pro kladné x je gradient konstantní. Drobný bonus jsou i v porovnání se sigmoidem/tanh nižší výpočetní nároky. Trochu problémů může přinést způsob, jakým se do ReLU dostává nelinearita - nulovou hodnotou pro x<0. Pokud by se do této oblasti při trénování dostal větší počet neuronů, byla by jejích výstupem nula trénování by se zastavilo (tzv. dying ReLU problem). Proto se občas používá Leaky ReLU definované vztahem (konstanta pro x<0 je víceméně irrelevantní, pakliže je tedy malá)  \n",
    "\n",
    "$f(x) = x $  pro $x > 0$  \n",
    "$f(x) = 0,01x $ pro $x\\le0$  "
   ]
  },
  {
   "cell_type": "code",
   "execution_count": 17,
   "metadata": {
    "ExecuteTime": {
     "end_time": "2021-04-10T13:37:39.718797Z",
     "start_time": "2021-04-10T13:37:39.588805Z"
    }
   },
   "outputs": [
    {
     "data": {
      "image/png": "[encoded data removed]",
      "text/plain": [
       "<Figure size 432x288 with 1 Axes>"
      ]
     },
     "metadata": {
      "needs_background": "light"
     },
     "output_type": "display_data"
    }
   ],
   "source": [
    "x = np.arange(-10,10,0.5)\n",
    "y = np.where(x < 0, 0, x)\n",
    "plt.plot(x,y)\n",
    "plt.title(\"ReLU\");"
   ]
  },
  {
   "cell_type": "code",
   "execution_count": 16,
   "metadata": {
    "ExecuteTime": {
     "end_time": "2021-04-10T13:37:30.118720Z",
     "start_time": "2021-04-10T13:37:30.003581Z"
    }
   },
   "outputs": [
    {
     "data": {
      "image/png": "[encoded data removed]",
      "text/plain": [
       "<Figure size 432x288 with 1 Axes>"
      ]
     },
     "metadata": {
      "needs_background": "light"
     },
     "output_type": "display_data"
    }
   ],
   "source": [
    "x = np.arange(-10,10,0.5)\n",
    "y = np.where(x < 0, 0.01*x, x)\n",
    "plt.plot(x,y)\n",
    "plt.title(\"Leaky ReLU\");"
   ]
  },
  {
   "cell_type": "markdown",
   "metadata": {},
   "source": [
    "## Ztrátová funkce  \n",
    "Nyní můžeme vzít prediktory pro jeden záznam, umístit je do vstupní vrstvy a postupným počítáním se dobrat až k výstupu poslední vrstvy. Tomu se říká *forward pass*. Nyní bychom rádi věděli, jak moc se takto vypočítaná čísla liší od realných hodnot. K tomu nám poslouží ztrátová funkce (*loss function*) *L*. Obecně platí, že čím je výstup této funkce vyšší, tím horší předpověď neuronové sítě je. Ztrátových funkcí existuje podobně jako aktivačních funkcí mnoho druhů s tím, že na různé úlohy se nejlépe hodí různé z nich.  \n",
    "\n",
    "#### Mean squared error  (MSE)\n",
    "Průměrná hodnota čtverce rozdílu reálné hodnoty $y$ a výstupu sítě $\\hat{y}$ se používá pro regresní úlohy. Nepřekvapí, že akcentuje velikost rozdílu mezi odečítanými hodnotami. Její definice:  \n",
    "\n",
    "$L_{MSE}(y, \\hat{y}) = \\frac{1}{n}\\sum_{i=1}^{n}(y-\\hat{y})^2$  \n",
    "\n",
    "Existují i funce příbuzné, například mean absolute error (MAE)  \n",
    "\n",
    "$L_{MAE}(y, \\hat{y}) = \\frac{1}{n}\\sum_{i=1}^{n}|y-\\hat{y}|$  \n",
    "\n",
    "anebo root mean squared error (RMSE)  \n",
    "\n",
    "$L_{RMSE}(y, \\hat{y}) = \\frac{1}{n}\\sqrt{\\sum_{i=1}^{n}(y-\\hat{y})^2}$  \n",
    "\n",
    "\n",
    "#### Cross-entropy loss\n",
    "Cross-entropy loss je určená pro klasifikační úlohy o X třídách. Je je definovaná jako  \n",
    "\n",
    "$L_{categorical}(y, \\hat{y}) = -\\sum_{i}y_iln(\\hat{y_i})$ \n",
    "\n",
    "Zdůrazněme, že $y_i$ i $\\hat{y_i}$ mají význam pravděpodobnosti. Vidíme, že v optimálním případě bude hodnota ztrátové funkce nulová (pravděpodobnosti stoprocentní), v neideálním (faktické a predikované pravděpodobnosti různé od jedničky a  vzájemně odlišné) kladná. Koneckonců kvůli konzistenci s jinými ztrátovými funkcemi se zde vyskytuje znaménko mínus. Logaritmus hodnoty x pro x menší než základ logaritmu, který je v PyTorchi obvykle Eulerovo číslo, je totiž záporný.  \n",
    "Variací na toto je binary cross-entropy pro úlohy o dvou možných třídách  \n",
    "\n",
    "$L_{binary}(y, \\hat{y}) = -yln(\\hat{y})-(1-y)ln(1-\\hat{y})$  \n",
    "\n",
    "Vidíme, že $L_{categorical}$ se redukuje na $L_{binary}$, pokud *i* může nabývat pouze dvou hodnot a platí, že $y_1 + y_2 = 1$.   \n",
    "Teď ale pár slov o tom, jak je cross-entropy loss implementovaná v Pytorchi. Jednak existuje ve fromě torch.nn.NLLLoss. V takovém případě čeká, že bude ve výstupní vrstvě použit jako aktivační funkce logaritmus softmaxu (nebo spíše funkce LogSoftmax, která ošetřuje problém s logaritmu na exponenciálu a s tím spjaté problémy). Dále zde máme torch.nn.CrossEntropyLoss. Ta v sobě LogSoftmax a NLLLoss spojuje. To mimo jiné znamená, že se ve výstupní vrstvě nesmí použít žádná aktivační funkce. V podobném vztahu jsou i binární cross-entropy ztrátové funkce BCELoss a BCEWithLogitsLoss (= sigmoid na výstupu + BCELoss)."
   ]
  },
  {
   "cell_type": "markdown",
   "metadata": {},
   "source": [
    "## Backpropagace\n",
    "Provedli jsme forward pass a spočítali hodnotu ztrátové funkce. Nyní bychom rádi tuto ztrátovou funkci minimalizovali, aby síť dokázala provádět správné predikce. Onu minimalizaci provedeme vhodnou změnou vah $w_i$. Nicméně jak tuto změnu realizovat? Přeci jen náhodné tipování by asi k cíli nevedlo.  \n",
    "Musíme použít některý z optimizérů. Z nichž asi nejklasičtějším je tzv. *gradient descent*. Jeho definice vypadá následovně:  \n",
    "$w_{i}^{new} = w_{i}^{old} - \\alpha\\frac{\\partial L}{\\partial w_{i}^{old}}$  \n",
    "Co se tady vlastně děje? Nová hodnota váhy se počítá jako stará hodnota váhy opravená o člen beroucí v úvahu to, jak se s touto vahou mění hodnota ztrátové funkce. Proč zde máme znaménko mínus? Snažíme se nalézt minimum L v závislosti na w. Dejme tomu, že předpis pro ztrátovou funkci má podobu $L = w^2$ a my se nacházíme v bodě w = 5. Chceme se dostat do minima, tj. do bodu w = 0. Derivace L podle w činí 2w, tj. po dosazení 10. Pokud bychom desítku k původní hodnotě váhy přičetli, od kýženého cíle bychom se vzdálili. Dobrá, to vysvětluje mínus. Co je ale ono alfa? Jedná se o tzv. learning rate. Pro pochopení jeho významu se vraťme k našemu příkladu. Nyní desítku nebudeme k pětce přičítat, nýbrž odečítat. Výsledkem je -5. Tj. vyrazili jsme sice správným směrem, ale náš cíl - nulu - jsme značně přestřelili. Pro jiné ztrátové funkce by se mohlo dokonce stát, že namísto setrvání na konstatní vzdálenosti bychom se krok po kroku od cíle vzdalovali. Proto musí být derivace zmenšována learning ratem. Samozřejmě se to nesmí přehnat - pokud by byl learning rate přilíš malý, tak bychom k cíli nikdy nedokonvergovali.  \n",
    "No jo, to je všechno sice hezké, ale jak vůbec onu derivaci ztrátové funkce vlastně spočítat? Přeci jen v sekci věnované ztrátovým funkcím se ve vzorcích žádná váha nevyskytovala. Na řešení tohoto problému použijeme proces zvaný backpropagace. Demonstrujeme si ho na příkladu sítě z obrázku č. 1. Předpokládejme, že všechny neurony včetně výstupního maji jako aktivační funkci softmax a že ztrátovou funkcí je MSE (ano, takhle asi normální síť vypadat nebude, ale jako ukázkový příklad je to vyhovující). Pro jednoduchost ignorujme existenci biasů a provádějme backpropagaci poté, co sítí probublal jeden trénovací záznam.  \n",
    "Připomeňme si použité matematické výrazy. Nejprve ztrátová funkce (y je target trénovacího záznamu, jenž se nemění, $\\hat{y_E}$ představuje výstup sítě, který chceme optimalizovat):  \n",
    "\n",
    "$L = (y-\\hat{y_E})^2$  \n",
    "\n",
    "Výstup neuronu, dejme tomu neuronu E:  \n",
    "\n",
    "$\\hat{y_E} = sigmoid(z_E) = \\frac{1}{1+exp(-z_E)}$  \n",
    "\n",
    "No a hodnota v neuronu před použítím aktivační funkce:  \n",
    "\n",
    "$z_E = w_5y_C + w_6y_D$  \n",
    "\n",
    "Proveďme pomocný výpočet, který se nám posléze bude mnohokrát opakovat:  \n",
    "\n",
    "$\\frac{dy_X}{dz_X} = \\frac{d}{dz_X}\\frac{1}{1+exp(-z_X)} = \\frac{-\\frac{d}{dz}(1+exp(-z_X))}{(1+exp(-z_X))^2} = \\frac{exp(-z)}{(1+exp(-z))^2} = \\frac{1}{1+exp(-z_X)} \\frac{exp(-z_X) + 1 - 1}{1+exp(-z_X)} = \\frac{1}{1+exp(-z_X)}(1-\\frac{1}{1+exp(-z_X)}) = y_X(1-y_X)$\n",
    "\n",
    "Jak by tedy vypadá derivace ztrátové funkce podle jednotlivých vah, která se posléze dosadí do vztahu uvedeného na začátku této sekce? Podívejme se nejprve na derivaci podle $w_5$:  \n",
    "\n",
    "$\\frac{\\partial L}{\\partial w_5}=\\frac{\\partial L}{\\partial y_E}\\frac{\\partial y_E}{\\partial z_E}\\frac{\\partial z_E}{\\partial w_5} = [-2(y-y_E)][y_E(1-y_E)][y_C]$\n",
    "\n",
    "V tomto výrazu už všechny proměnné známe (y bez indexu je target z trénovacích dat, y s indexy C a E jsou výstupy neuronů C a E po aplikaci aktivačních funkcí). Derivace podle $w_6$ by byla téměř stejná, pouze by došlo k nahrazení $y_C$ za $y_D$. Obdobně pro váhy s indexy 1 až 4 by se počítalo  \n",
    "\n",
    "$\\frac{\\partial L}{\\partial w_3}=\\frac{\\partial L}{\\partial y_C}\\frac{\\partial y_C}{\\partial z_C}\\frac{\\partial z_C}{\\partial w_3}= [\\frac{\\partial L}{\\partial z_E}\\frac{\\partial z_E}{\\partial y_C}][\\frac{\\partial y_C}{\\partial z_C}][\\frac{\\partial z_C}{\\partial w_3}] = [w_5\\frac{\\partial L}{\\partial z_E}][y_C(1-y_C)][y_B] = [w_5\\frac{\\partial L}{\\partial y_E}\\frac{\\partial y_E}{\\partial z_E}][y_C(1-y_C)][y_B] = [w_5(-2(y-y_E))y_E(1-y_E)][y_C(1-y_C)][y_B]$  "
   ]
  },
  {
   "cell_type": "markdown",
   "metadata": {},
   "source": [
    "#### Optimizéry  \n",
    "V rámci výpočtu v sekci backpropagace jsme upravovali váhy sítě po každém jednotlivém záznamu. Předtím jsme u ztrátových funkcí zase počítali s tím, že se budou vyhodnocovat najednou všechna data. Jaký přístup tedy platí? Inu, platit mohou oba + tu je ještě jeden navíc:  \n",
    "- batch gradient descent - u toho přístupu se ztrátová funkce vypočte jako průměr přes všechny záznamy. Poněkud nepříjemné je, že výpočet má tendenci zaseknout se v některém lokálním minimu ztrátové funkce a nedosáhne tak do nejoptimálnější globálního minima. No a pak tu je drobný technický problém - dost často nebude možné nacpat celý dataset do paměti.\n",
    "- stochastic gradient descent - zde updaty vah probíhají po forward passu každého jednotlivého trénovacího záznamu. Tím je trénování mnohem rychlejší - po 100 záznamech dojde 100x k updatování vah a ne pouze k updatu jednomu, jako tomu bylo v předchozím případě. Díky tomu, že jsou jednotlivé záznamy zašuměné, dochází k vyskakování z lokálních minim (u batch gradient descent k tomu moc nedochází, neboť šum je přes množství záznamů vyprůměrován). Jen se občas vyskakuje i z minima globálního.\n",
    "- mini-batch - jedná se o kombinaci předchozích - updaty vah probíhají po forward passu n záznamů. Takovýto update se nazývá iterace, kterých proběhne pro projití celého datasetu o N záznamech N/n. Tento průchod celým trénovacím datasetem se nazývá epocha.  \n",
    "\n",
    "Toliko teorie. V Pytorchi je zrada v tom, že všechny tyto věci lze realizovat jedním optimizérem nazvaným SGD. Velikost batche se nastavuje jiným způsobem.  \n",
    "Když už mluvíme o optimizérech neboli věcech, které se starají o updatování vah, obyčejný gradient descent ukázaný výše je jen tím nejstarším z mnoha dalších, často mnohem mocnějších."
   ]
  },
  {
   "cell_type": "markdown",
   "metadata": {},
   "source": [
    "TO DO: něco k hybnosti, ADAMovi apod."
   ]
  },
  {
   "cell_type": "markdown",
   "metadata": {},
   "source": [
    "### Dense síť v Pytorchi"
   ]
  },
  {
   "cell_type": "markdown",
   "metadata": {},
   "source": [
    "Přejděme nyní od teorie k praxi. Nejprve si ukážeme výseky kódu umístěné v \"nespustitelném\" textu, spustitelný kód bude následovat až posléze.  \n",
    "Nejprve si vytvoříme architekturu neuronové sítě. To se provede vytvořením nové třídy dědíci od *torch.nn.Module*. V konstruktoru si zadefinujeme jednotlivé prvky sítě coby atributy objektu. Ve funkci forward tyto prvky na sebe navážeme. Nakonec vytvoříme instanci sítě a přesuneme ji na vhodnou výpočetní lokaci.\n",
    "```python\n",
    "class NeuralNetwork(torch.nn.Module):\n",
    "    def __init__(self):\n",
    "        super(NeuralNetwork, self).__init__()\n",
    "        self.first_linear = torch.nn.Linear(4,6)\n",
    "        self.second_linear = torch.nn.Linear(6,3)\n",
    "        self.relu = torch.nn.ReLU()     \n",
    "\n",
    "    def forward(self, x):\n",
    "        x = self.first_linear(x)\n",
    "        x = self.relu(x)\n",
    "        x = self.second_linear(x)\n",
    "        return x\n",
    "\n",
    "device = \"cuda\" if torch.cuda.is_available() else \"cpu\"\n",
    "model = NeuralNetwork().to(device)\n",
    "```\n",
    "Následně zvolíme ztrátovou funkci a optimizér. Do konstruktoru optimizéru vstupuje *model.parameters()*. Tato metoda vrací generátor s věcmi, které bude optimizér ladit - tenzory s váhami a biasy.\n",
    "```python\n",
    "loss_function = torch.nn.CrossEntropyLoss()\n",
    "optimizer = torch.optim.SGD(model.parameters(), lr=1e-2)\n",
    "```\n",
    "Nyní je na čase specifikovat trénovací smyčku. Nejprve pošleme tenzor prediktorů i tenzor targetů do správné výpočetní lokace. Následně vypočteme predikci i ztrátu. Jelikož zde pracujeme v batchovém modu, tj. v rámci jedné iterace probereme celou epochu, je ztráta sumou ztrát přes všechny záznamy. Nyní musíme vynulovat uložené gradienty z předchozího učícího cyklu (*optimizer.zero_grad()*), na základě aktuální ztráty spočítat nové gradienty (*loss.backward()*) a s jejich pomocí aktualizovat váhy (*optimizer.step()*). Nakonec vezmeme ztrátu (z 1x1 tenzoru ji vyjmeme pomocí metody *item()*, vložíme ji do listu s ostatními trnénovacími ztrátami a vytiskneme ji (na 8 platných cifer).\n",
    "```python\n",
    "def training_function(\n",
    "    predictors_train, target_train, model, \n",
    "    loss_function, optimizer, device, training_loss,\n",
    "    print_flag\n",
    "):\n",
    "    predictors_train = predictors_train.to(device) \n",
    "    target_train = target_train.to(device)\n",
    "        \n",
    "    prediction = model(predictors_train.float())\n",
    "    loss = loss_function(prediction, target_train)\n",
    "\n",
    "    optimizer.zero_grad()\n",
    "    loss.backward()\n",
    "    optimizer.step()\n",
    "\n",
    "    loss = loss.item()\n",
    "    training_loss.append(loss)\n",
    "    if print_flag:\n",
    "        print(f\"Training loss: {loss:>8f} \")\n",
    "```\n",
    "Následně si zadefinujeme testovací smyčku. Opět se na začátku přenášejí tenzory prediktorů i targetů na příslušný device. Následně se spočítá predikce, ztráta a počet správně predikovaných záznamů. To vše v kontextovém manageru *with torch.no_grad*. Tato konstrukce slouží k tomu, aby se vypnul výpočet gradientu, díky čemu celá oprerace klade menší nároky na paměť (koneckonců i kdybychm tady nějaký gradient spočítali, v trénovací smyčce se vynuluje). Nakonec si spočítáme accuracy, kterou i se ztrátou vytiskneme.  \n",
    "Pozn.: jelikož máme dataset, kde jsou všechny třídy stejnoměrně zastoupeny, není použití accuracy zas tak problematické. Samozřejmě pro ostré použití by to asi chtělo jinou metriku.\n",
    "```python\n",
    "def testing_function(\n",
    "    predictors_test, target_test, \n",
    "    model, loss_function, device, testing_loss,\n",
    "    print_flag\n",
    "):\n",
    "    predictors_test = predictors_test.to(device)\n",
    "    target_test = target_test.to(device)\n",
    "    \n",
    "    with torch.no_grad():\n",
    "        prediction = model(predictors_test.float())\n",
    "        test_loss = loss_function(prediction, target_test).item()\n",
    "        correct = (prediction.argmax(1) == target_test).type(torch.float).sum().item()\n",
    "\n",
    "    accuracy = correct/len(target_test)\n",
    "    testing_loss.append(test_loss)\n",
    "    if print_flag:\n",
    "        print(f\"Test Error: \\n Accuracy: {(100*accuracy):>0.1f}%, Loss: {test_loss:>8f} \\n\")\n",
    "```\n",
    "Nakonec musíme přidat smyčku, která bude v rámci každé epochy\n",
    "```python\n",
    "epochs = 1000\n",
    "training_loss = []\n",
    "testing_loss = []\n",
    "for epoch_index in range(epochs):\n",
    "    if (epoch_index+1)%100 == 0:\n",
    "        print_flag = True\n",
    "        print(f\"Epoch {epoch_index+1}\\n------------------------------------------------\")\n",
    "    else:\n",
    "        print_flag = False\n",
    "\n",
    "    training_function(\n",
    "        scaled_predictors_train_tensor, target_train_tensor, \n",
    "        model, loss_function, optimizer, device, training_loss,\n",
    "        print_flag\n",
    "    )\n",
    "    testing_function(\n",
    "        scaled_predictors_test_tensor, target_test_tensor, \n",
    "        model, loss_function, device, testing_loss,\n",
    "        print_flag\n",
    "    )\n",
    "print(\"Training has been completed.\")\n",
    "```\n",
    "A neměli bychom zapomenout na vykreslení grafu, abychom viděli, jestli náhodou nedošlo k overfitu.\n",
    "```python\n",
    "plt.plot(training_loss)\n",
    "plt.plot(testing_loss)\n",
    "plt.title(\"Comparison of training and testing loss\")\n",
    "plt.xlabel(\"Epoch number\")\n",
    "plt.ylabel(\"Loss\")\n",
    "plt.legend([\"train\", \"test\"]);\n",
    "```"
   ]
  },
  {
   "cell_type": "code",
   "execution_count": 30,
   "metadata": {
    "ExecuteTime": {
     "end_time": "2021-04-11T19:38:56.266974Z",
     "start_time": "2021-04-11T19:38:54.207057Z"
    }
   },
   "outputs": [
    {
     "name": "stdout",
     "output_type": "stream",
     "text": [
      "Epoch 100\n",
      "------------------------------------------------\n",
      "Training loss: 0.777569 \n",
      "Test Error: \n",
      " Accuracy: 56.7%, Loss: 0.848276\n",
      "\n",
      "Epoch 200\n",
      "------------------------------------------------\n",
      "Training loss: 0.626815 \n",
      "Test Error: \n",
      " Accuracy: 56.7%, Loss: 0.711423\n",
      "\n",
      "Epoch 300\n",
      "------------------------------------------------\n",
      "Training loss: 0.531465 \n",
      "Test Error: \n",
      " Accuracy: 63.3%, Loss: 0.620996\n",
      "\n",
      "Epoch 400\n",
      "------------------------------------------------\n",
      "Training loss: 0.468242 \n",
      "Test Error: \n",
      " Accuracy: 70.0%, Loss: 0.554629\n",
      "\n",
      "Epoch 500\n",
      "------------------------------------------------\n",
      "Training loss: 0.422054 \n",
      "Test Error: \n",
      " Accuracy: 76.7%, Loss: 0.500977\n",
      "\n",
      "Epoch 600\n",
      "------------------------------------------------\n",
      "Training loss: 0.385415 \n",
      "Test Error: \n",
      " Accuracy: 83.3%, Loss: 0.455972\n",
      "\n",
      "Epoch 700\n",
      "------------------------------------------------\n",
      "Training loss: 0.355129 \n",
      "Test Error: \n",
      " Accuracy: 83.3%, Loss: 0.417533\n",
      "\n",
      "Epoch 800\n",
      "------------------------------------------------\n",
      "Training loss: 0.329372 \n",
      "Test Error: \n",
      " Accuracy: 90.0%, Loss: 0.384433\n",
      "\n",
      "Epoch 900\n",
      "------------------------------------------------\n",
      "Training loss: 0.307131 \n",
      "Test Error: \n",
      " Accuracy: 93.3%, Loss: 0.356172\n",
      "\n",
      "Epoch 1000\n",
      "------------------------------------------------\n",
      "Training loss: 0.287590 \n",
      "Test Error: \n",
      " Accuracy: 93.3%, Loss: 0.331398\n",
      "\n",
      "Training has been completed.\n"
     ]
    },
    {
     "data": {
      "image/png": "[encoded data removed]",
      "text/plain": [
       "<Figure size 432x288 with 1 Axes>"
      ]
     },
     "metadata": {
      "needs_background": "light"
     },
     "output_type": "display_data"
    }
   ],
   "source": [
    "class NeuralNetwork(torch.nn.Module):\n",
    "    def __init__(self):\n",
    "        super(NeuralNetwork, self).__init__()\n",
    "        self.first_linear = torch.nn.Linear(4,6)\n",
    "        self.second_linear = torch.nn.Linear(6,3)\n",
    "        self.relu = torch.nn.ReLU()     \n",
    "\n",
    "    def forward(self, x):\n",
    "        x = self.first_linear(x)\n",
    "        x = self.relu(x)\n",
    "        x = self.second_linear(x)\n",
    "        return x\n",
    "\n",
    "def training_function(\n",
    "    predictors_train, target_train, model, \n",
    "    loss_function, optimizer, device, training_loss,\n",
    "    print_flag\n",
    "):\n",
    "    predictors_train = predictors_train.to(device) \n",
    "    target_train = target_train.to(device)\n",
    "        \n",
    "    prediction = model(predictors_train.float())\n",
    "    loss = loss_function(prediction, target_train)\n",
    "\n",
    "    optimizer.zero_grad()\n",
    "    loss.backward()\n",
    "    optimizer.step()\n",
    "\n",
    "    loss = loss.item()\n",
    "    training_loss.append(loss)\n",
    "    if print_flag:\n",
    "        print(f\"Training loss: {loss:>8f} \")\n",
    "\n",
    "def testing_function(\n",
    "    predictors_test, target_test, \n",
    "    model, loss_function, device, testing_loss,\n",
    "    print_flag\n",
    "):\n",
    "    predictors_test = predictors_test.to(device)\n",
    "    target_test = target_test.to(device)\n",
    "    \n",
    "    \n",
    "    with torch.no_grad():\n",
    "        prediction = model(predictors_test.float())\n",
    "        test_loss = loss_function(prediction, target_test).item()\n",
    "        correct = (prediction.argmax(1) == target_test).type(torch.float).sum().item()\n",
    "\n",
    "    accuracy = correct/len(target_test)\n",
    "    testing_loss.append(test_loss)\n",
    "    if print_flag:\n",
    "        print(f\"Test Error: \\n Accuracy: {(100*accuracy):>0.1f}%, Loss: {test_loss:>8f}\\n\")\n",
    "\n",
    "device = \"cuda\" if torch.cuda.is_available() else \"cpu\"\n",
    "model = NeuralNetwork().to(device)\n",
    "loss_function = torch.nn.CrossEntropyLoss()\n",
    "optimizer = torch.optim.SGD(model.parameters(), lr=1e-2)\n",
    "\n",
    "epochs = 1000\n",
    "training_loss = []\n",
    "testing_loss = []\n",
    "for epoch_index in range(epochs):\n",
    "    if (epoch_index+1)%100 == 0:\n",
    "        print_flag = True\n",
    "        print(f\"Epoch {epoch_index+1}\\n------------------------------------------------\")\n",
    "    else:\n",
    "        print_flag = False\n",
    "    training_function(\n",
    "        scaled_predictors_train_tensor, \n",
    "        target_train_tensor, model, \n",
    "        loss_function, optimizer, device, training_loss,\n",
    "        print_flag\n",
    "    )\n",
    "    testing_function(\n",
    "        scaled_predictors_test_tensor, \n",
    "        target_test_tensor, \n",
    "        model, loss_function, device, testing_loss,\n",
    "        print_flag\n",
    "    )\n",
    "print(\"Training has been completed.\")\n",
    "plt.plot(training_loss)\n",
    "plt.plot(testing_loss)\n",
    "plt.title(\"Comparison of training and testing loss\")\n",
    "plt.xlabel(\"Epoch number\")\n",
    "plt.ylabel(\"Loss\")\n",
    "plt.legend([\"train\", \"test\"]);"
   ]
  },
  {
   "cell_type": "markdown",
   "metadata": {},
   "source": [
    "Když budeme chtít separátně predikovat jeden záznam:"
   ]
  },
  {
   "cell_type": "code",
   "execution_count": 138,
   "metadata": {
    "ExecuteTime": {
     "end_time": "2021-04-06T20:17:03.098630Z",
     "start_time": "2021-04-06T20:17:03.083702Z"
    }
   },
   "outputs": [
    {
     "data": {
      "text/plain": [
       "tensor([[9.9962e-01, 3.5742e-04, 2.1419e-05]], grad_fn=<SoftmaxBackward>)"
      ]
     },
     "execution_count": 138,
     "metadata": {},
     "output_type": "execute_result"
    }
   ],
   "source": [
    "one_flower_data = [[5.1, 3.5, 1.4, 0.2]]\n",
    "one_flower_data_scaled = scaler_standard.transform(one_flower_data)\n",
    "model(torch.tensor(one_flower_data_scaled, dtype=torch.float))"
   ]
  },
  {
   "cell_type": "markdown",
   "metadata": {},
   "source": [
    "Vidíme tedy, že záznam patří do třídy nula."
   ]
  },
  {
   "cell_type": "markdown",
   "metadata": {
    "ExecuteTime": {
     "end_time": "2021-04-06T20:19:50.228197Z",
     "start_time": "2021-04-06T20:19:50.218683Z"
    }
   },
   "source": [
    "Pokud chceme vidět hodnoty natrénovaných vah a biasů, musíme iterovat skrze *model.parameters()*. Popořadě vidíme tensor s váhami mezi vstupní a skrytou vrstvou (počet sloupců odpovídá počtu neuronů na vstupu, počet řádků počtu neuronů v skryté vrstvě), biasy neuronů skryté vrstvy, váhy pro přenos dat ze skryté vrstvy do vrstvy výstupní a nakonec biasy neuronů výstupní vrstvy."
   ]
  },
  {
   "cell_type": "code",
   "execution_count": 151,
   "metadata": {
    "ExecuteTime": {
     "end_time": "2021-04-06T20:19:14.405373Z",
     "start_time": "2021-04-06T20:19:14.378352Z"
    }
   },
   "outputs": [
    {
     "name": "stdout",
     "output_type": "stream",
     "text": [
      "tensor([[-0.6802,  0.9106, -1.2377, -0.8025],\n",
      "        [ 0.3611,  0.2494, -1.0059, -1.2421],\n",
      "        [-0.1037, -0.5822,  0.0942, -0.5350],\n",
      "        [-0.3903,  0.2221,  0.0998,  0.4802],\n",
      "        [ 0.4602, -0.5523,  1.1910,  0.9661],\n",
      "        [-0.1081,  0.0972, -0.0771, -0.3260]])\n",
      "tensor([0.5124, 2.1203, 0.2244, 0.2276, 0.7244, 0.0303])\n",
      "tensor([[ 1.2981,  0.6153,  0.0262, -0.3483, -1.2300,  0.2722],\n",
      "        [-1.1254,  1.2054,  0.3833, -0.4465, -0.1897, -0.2362],\n",
      "        [-0.7292, -2.2703, -0.4741,  0.0066,  1.3413, -0.2339]])\n",
      "tensor([-1.2878,  0.6663,  0.2144])\n"
     ]
    }
   ],
   "source": [
    "for param in model.parameters():\n",
    "    print(param.data)"
   ]
  },
  {
   "cell_type": "code",
   "execution_count": null,
   "metadata": {},
   "outputs": [],
   "source": []
  }
 ],
 "metadata": {
  "kernelspec": {
   "display_name": "Python 3",
   "language": "python",
   "name": "python3"
  },
  "varInspector": {
   "cols": {
    "lenName": 16,
    "lenType": 16,
    "lenVar": 40
   },
   "kernels_config": {
    "python": {
     "delete_cmd_postfix": "",
     "delete_cmd_prefix": "del ",
     "library": "var_list.py",
     "varRefreshCmd": "print(var_dic_list())"
    },
    "r": {
     "delete_cmd_postfix": ") ",
     "delete_cmd_prefix": "rm(",
     "library": "var_list.r",
     "varRefreshCmd": "cat(var_dic_list()) "
    }
   },
   "types_to_exclude": [
    "module",
    "function",
    "builtin_function_or_method",
    "instance",
    "_Feature"
   ],
   "window_display": false
  }
 },
 "nbformat": 4,
 "nbformat_minor": 4
}
