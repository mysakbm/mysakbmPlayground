{
 "cells": [
  {
   "cell_type": "markdown",
   "metadata": {},
   "source": [
    "# TOTO JE WORK-IN PROGRESS. Chybí většina plánovaného obsahu a to, co zde je, jsem po sobě ještě nepřečetl. Tudíž zde mohou být jak překlepy, tak zjevné nesmysly."
   ]
  },
  {
   "cell_type": "code",
   "execution_count": 1,
   "metadata": {
    "ExecuteTime": {
     "end_time": "2020-10-29T19:43:30.338903Z",
     "start_time": "2020-10-29T19:43:29.125062Z"
    }
   },
   "outputs": [],
   "source": [
    "import pandas as pd\n",
    "import numpy as np\n",
    "from sklearn.datasets import load_boston, load_iris\n",
    "from sklearn.preprocessing import OneHotEncoder, StandardScaler, MinMaxScaler, RobustScaler, Normalizer\n",
    "from sklearn.model_selection import train_test_split, KFold\n",
    "\n",
    "import matplotlib.pyplot as plt\n",
    "import seaborn as sns"
   ]
  },
  {
   "cell_type": "markdown",
   "metadata": {},
   "source": [
    "# I. Příprava dat"
   ]
  },
  {
   "cell_type": "markdown",
   "metadata": {},
   "source": [
    "## Načtení dat\n",
    "Obvykle bychom data získali z nějakého csv souboru (obvykle s pomocí funkce pd.read_from_csv) anebo z databáze (zde se způsoby získání různí podle typu databáze). Nicméně v rámci zjednodušení celé situace, kdy je cílem mít stejná data k dispozici, ať už tento notebook spouští kdokoli odkudkoli, vypoužijeme data \"na hraní\", která jsou obsažená v balíčku sklearn. K těm se dostaneme pomocí funkcí load_XYZ, konkrétně load_boston a load_iris.  \n",
    "Na následující buňce je vidět, že když chceme dostat pandí dataframe (\"tabulkoidní\" objekt), musíme si s výstupem load funkcí trochu pohrát. Zmíněné load funkce totiž vrací slovník, který obsahuje od sebe oddělené prediktory, jména prediktorů, cílové hodnoty a popis dat.  "
   ]
  },
  {
   "cell_type": "code",
   "execution_count": 2,
   "metadata": {
    "ExecuteTime": {
     "end_time": "2020-10-29T19:43:30.364542Z",
     "start_time": "2020-10-29T19:43:30.338903Z"
    }
   },
   "outputs": [],
   "source": [
    "boston_data_heap = load_boston()\n",
    "boston_dataframe = pd.DataFrame(boston_data_heap[\"data\"], columns=boston_data_heap[\"feature_names\"])\n",
    "boston_dataframe[\"target\"] = pd.Series(boston_data_heap[\"target\"])\n",
    "\n",
    "iris_data_heap = load_iris()\n",
    "iris_dataframe = pd.DataFrame(iris_data_heap[\"data\"], columns=iris_data_heap[\"feature_names\"])\n",
    "iris_dataframe[\"target\"] = pd.Series(iris_data_heap[\"target\"])"
   ]
  },
  {
   "cell_type": "markdown",
   "metadata": {
    "ExecuteTime": {
     "end_time": "2020-10-10T18:23:45.531601Z",
     "start_time": "2020-10-10T18:23:45.491524Z"
    }
   },
   "source": [
    "Podívejme se, co vlastně námi vyrobené dataframy obsahují. Začněme přeci jen jednodušším iris_dataframe. V něm se nalézají \"provařená\" data týkající se delký a šířky ovětních lístků u tří druhů kosatců (viz [wiki](https://en.wikipedia.org/wiki/Iris_flower_data_set)). Pokud si z přírodovědy pamatujete stejně málo jako já, tak sepal je ten zelený lístkoidní obal květu a petal barevný lístek květu samotného. Nula ve sloupci target znamená, že konkrétní exemplář rostliny byl iris setosa, jednička značí iris versicolor a dvojka iris verginica.  "
   ]
  },
  {
   "cell_type": "code",
   "execution_count": 3,
   "metadata": {
    "ExecuteTime": {
     "end_time": "2020-10-29T19:43:30.596469Z",
     "start_time": "2020-10-29T19:43:30.364542Z"
    }
   },
   "outputs": [
    {
     "data": {
      "text/html": [
       "<div>\n",
       "<style scoped>\n",
       "    .dataframe tbody tr th:only-of-type {\n",
       "        vertical-align: middle;\n",
       "    }\n",
       "\n",
       "    .dataframe tbody tr th {\n",
       "        vertical-align: top;\n",
       "    }\n",
       "\n",
       "    .dataframe thead th {\n",
       "        text-align: right;\n",
       "    }\n",
       "</style>\n",
       "<table border=\"1\" class=\"dataframe\">\n",
       "  <thead>\n",
       "    <tr style=\"text-align: right;\">\n",
       "      <th></th>\n",
       "      <th>sepal length (cm)</th>\n",
       "      <th>sepal width (cm)</th>\n",
       "      <th>petal length (cm)</th>\n",
       "      <th>petal width (cm)</th>\n",
       "      <th>target</th>\n",
       "    </tr>\n",
       "  </thead>\n",
       "  <tbody>\n",
       "    <tr>\n",
       "      <th>30</th>\n",
       "      <td>4.8</td>\n",
       "      <td>3.1</td>\n",
       "      <td>1.6</td>\n",
       "      <td>0.2</td>\n",
       "      <td>0</td>\n",
       "    </tr>\n",
       "    <tr>\n",
       "      <th>49</th>\n",
       "      <td>5.0</td>\n",
       "      <td>3.3</td>\n",
       "      <td>1.4</td>\n",
       "      <td>0.2</td>\n",
       "      <td>0</td>\n",
       "    </tr>\n",
       "    <tr>\n",
       "      <th>38</th>\n",
       "      <td>4.4</td>\n",
       "      <td>3.0</td>\n",
       "      <td>1.3</td>\n",
       "      <td>0.2</td>\n",
       "      <td>0</td>\n",
       "    </tr>\n",
       "    <tr>\n",
       "      <th>14</th>\n",
       "      <td>5.8</td>\n",
       "      <td>4.0</td>\n",
       "      <td>1.2</td>\n",
       "      <td>0.2</td>\n",
       "      <td>0</td>\n",
       "    </tr>\n",
       "    <tr>\n",
       "      <th>48</th>\n",
       "      <td>5.3</td>\n",
       "      <td>3.7</td>\n",
       "      <td>1.5</td>\n",
       "      <td>0.2</td>\n",
       "      <td>0</td>\n",
       "    </tr>\n",
       "    <tr>\n",
       "      <th>139</th>\n",
       "      <td>6.9</td>\n",
       "      <td>3.1</td>\n",
       "      <td>5.4</td>\n",
       "      <td>2.1</td>\n",
       "      <td>2</td>\n",
       "    </tr>\n",
       "    <tr>\n",
       "      <th>104</th>\n",
       "      <td>6.5</td>\n",
       "      <td>3.0</td>\n",
       "      <td>5.8</td>\n",
       "      <td>2.2</td>\n",
       "      <td>2</td>\n",
       "    </tr>\n",
       "    <tr>\n",
       "      <th>21</th>\n",
       "      <td>5.1</td>\n",
       "      <td>3.7</td>\n",
       "      <td>1.5</td>\n",
       "      <td>0.4</td>\n",
       "      <td>0</td>\n",
       "    </tr>\n",
       "    <tr>\n",
       "      <th>86</th>\n",
       "      <td>6.7</td>\n",
       "      <td>3.1</td>\n",
       "      <td>4.7</td>\n",
       "      <td>1.5</td>\n",
       "      <td>1</td>\n",
       "    </tr>\n",
       "    <tr>\n",
       "      <th>115</th>\n",
       "      <td>6.4</td>\n",
       "      <td>3.2</td>\n",
       "      <td>5.3</td>\n",
       "      <td>2.3</td>\n",
       "      <td>2</td>\n",
       "    </tr>\n",
       "  </tbody>\n",
       "</table>\n",
       "</div>"
      ],
      "text/plain": [
       "     sepal length (cm)  sepal width (cm)  petal length (cm)  petal width (cm)  \\\n",
       "30                 4.8               3.1                1.6               0.2   \n",
       "49                 5.0               3.3                1.4               0.2   \n",
       "38                 4.4               3.0                1.3               0.2   \n",
       "14                 5.8               4.0                1.2               0.2   \n",
       "48                 5.3               3.7                1.5               0.2   \n",
       "139                6.9               3.1                5.4               2.1   \n",
       "104                6.5               3.0                5.8               2.2   \n",
       "21                 5.1               3.7                1.5               0.4   \n",
       "86                 6.7               3.1                4.7               1.5   \n",
       "115                6.4               3.2                5.3               2.3   \n",
       "\n",
       "     target  \n",
       "30        0  \n",
       "49        0  \n",
       "38        0  \n",
       "14        0  \n",
       "48        0  \n",
       "139       2  \n",
       "104       2  \n",
       "21        0  \n",
       "86        1  \n",
       "115       2  "
      ]
     },
     "execution_count": 3,
     "metadata": {},
     "output_type": "execute_result"
    }
   ],
   "source": [
    "iris_dataframe.sample(10)"
   ]
  },
  {
   "cell_type": "markdown",
   "metadata": {},
   "source": [
    "DataFrame boston_dataframe obsahuje již pár desetiletí neaktuální ceny nemovitostí na předměstích Bostonu. Význam jednotlivých sloupců je následující:  \n",
    "- CRIM: per capita crime rate by town  \n",
    "- ZN: proportion of residential land zoned for lots over 25,000 sq.ft.  \n",
    "- INDUS: proportion of non-retail business acres per town  \n",
    "- CHAS: Charles River dummy variable (= 1 if tract bounds river; 0 otherwise)  \n",
    "- NOX: nitric oxides concentration (parts per 10 million)  \n",
    "- RM: average number of rooms per dwelling  \n",
    "- AGE: proportion of owner-occupied units built prior to 1940  \n",
    "- DIS: weighted distances to five Boston employment centres  \n",
    "- RAD: index of accessibility to radial highways  \n",
    "- TAX: full-value property-tax rate per \\$10,000  \n",
    "- PTRATIO: pupil-teacher ratio by town  \n",
    "- B: 1000(Bk - 0.63)^2 where Bk is the proportion of blacks by town  \n",
    "- LSTAT: \\% lower status of the population  \n",
    "- target: Median value of owner-occupied homes in \\$1000's  \n"
   ]
  },
  {
   "cell_type": "code",
   "execution_count": 4,
   "metadata": {
    "ExecuteTime": {
     "end_time": "2020-10-29T19:43:30.728678Z",
     "start_time": "2020-10-29T19:43:30.596469Z"
    }
   },
   "outputs": [
    {
     "data": {
      "text/html": [
       "<div>\n",
       "<style scoped>\n",
       "    .dataframe tbody tr th:only-of-type {\n",
       "        vertical-align: middle;\n",
       "    }\n",
       "\n",
       "    .dataframe tbody tr th {\n",
       "        vertical-align: top;\n",
       "    }\n",
       "\n",
       "    .dataframe thead th {\n",
       "        text-align: right;\n",
       "    }\n",
       "</style>\n",
       "<table border=\"1\" class=\"dataframe\">\n",
       "  <thead>\n",
       "    <tr style=\"text-align: right;\">\n",
       "      <th></th>\n",
       "      <th>CRIM</th>\n",
       "      <th>ZN</th>\n",
       "      <th>INDUS</th>\n",
       "      <th>CHAS</th>\n",
       "      <th>NOX</th>\n",
       "      <th>RM</th>\n",
       "      <th>AGE</th>\n",
       "      <th>DIS</th>\n",
       "      <th>RAD</th>\n",
       "      <th>TAX</th>\n",
       "      <th>PTRATIO</th>\n",
       "      <th>B</th>\n",
       "      <th>LSTAT</th>\n",
       "      <th>target</th>\n",
       "    </tr>\n",
       "  </thead>\n",
       "  <tbody>\n",
       "    <tr>\n",
       "      <th>227</th>\n",
       "      <td>0.41238</td>\n",
       "      <td>0.0</td>\n",
       "      <td>6.20</td>\n",
       "      <td>0.0</td>\n",
       "      <td>0.504</td>\n",
       "      <td>7.163</td>\n",
       "      <td>79.9</td>\n",
       "      <td>3.2157</td>\n",
       "      <td>8.0</td>\n",
       "      <td>307.0</td>\n",
       "      <td>17.4</td>\n",
       "      <td>372.08</td>\n",
       "      <td>6.36</td>\n",
       "      <td>31.6</td>\n",
       "    </tr>\n",
       "    <tr>\n",
       "      <th>189</th>\n",
       "      <td>0.08370</td>\n",
       "      <td>45.0</td>\n",
       "      <td>3.44</td>\n",
       "      <td>0.0</td>\n",
       "      <td>0.437</td>\n",
       "      <td>7.185</td>\n",
       "      <td>38.9</td>\n",
       "      <td>4.5667</td>\n",
       "      <td>5.0</td>\n",
       "      <td>398.0</td>\n",
       "      <td>15.2</td>\n",
       "      <td>396.90</td>\n",
       "      <td>5.39</td>\n",
       "      <td>34.9</td>\n",
       "    </tr>\n",
       "    <tr>\n",
       "      <th>253</th>\n",
       "      <td>0.36894</td>\n",
       "      <td>22.0</td>\n",
       "      <td>5.86</td>\n",
       "      <td>0.0</td>\n",
       "      <td>0.431</td>\n",
       "      <td>8.259</td>\n",
       "      <td>8.4</td>\n",
       "      <td>8.9067</td>\n",
       "      <td>7.0</td>\n",
       "      <td>330.0</td>\n",
       "      <td>19.1</td>\n",
       "      <td>396.90</td>\n",
       "      <td>3.54</td>\n",
       "      <td>42.8</td>\n",
       "    </tr>\n",
       "    <tr>\n",
       "      <th>430</th>\n",
       "      <td>8.49213</td>\n",
       "      <td>0.0</td>\n",
       "      <td>18.10</td>\n",
       "      <td>0.0</td>\n",
       "      <td>0.584</td>\n",
       "      <td>6.348</td>\n",
       "      <td>86.1</td>\n",
       "      <td>2.0527</td>\n",
       "      <td>24.0</td>\n",
       "      <td>666.0</td>\n",
       "      <td>20.2</td>\n",
       "      <td>83.45</td>\n",
       "      <td>17.64</td>\n",
       "      <td>14.5</td>\n",
       "    </tr>\n",
       "    <tr>\n",
       "      <th>166</th>\n",
       "      <td>2.01019</td>\n",
       "      <td>0.0</td>\n",
       "      <td>19.58</td>\n",
       "      <td>0.0</td>\n",
       "      <td>0.605</td>\n",
       "      <td>7.929</td>\n",
       "      <td>96.2</td>\n",
       "      <td>2.0459</td>\n",
       "      <td>5.0</td>\n",
       "      <td>403.0</td>\n",
       "      <td>14.7</td>\n",
       "      <td>369.30</td>\n",
       "      <td>3.70</td>\n",
       "      <td>50.0</td>\n",
       "    </tr>\n",
       "    <tr>\n",
       "      <th>43</th>\n",
       "      <td>0.15936</td>\n",
       "      <td>0.0</td>\n",
       "      <td>6.91</td>\n",
       "      <td>0.0</td>\n",
       "      <td>0.448</td>\n",
       "      <td>6.211</td>\n",
       "      <td>6.5</td>\n",
       "      <td>5.7209</td>\n",
       "      <td>3.0</td>\n",
       "      <td>233.0</td>\n",
       "      <td>17.9</td>\n",
       "      <td>394.46</td>\n",
       "      <td>7.44</td>\n",
       "      <td>24.7</td>\n",
       "    </tr>\n",
       "    <tr>\n",
       "      <th>108</th>\n",
       "      <td>0.12802</td>\n",
       "      <td>0.0</td>\n",
       "      <td>8.56</td>\n",
       "      <td>0.0</td>\n",
       "      <td>0.520</td>\n",
       "      <td>6.474</td>\n",
       "      <td>97.1</td>\n",
       "      <td>2.4329</td>\n",
       "      <td>5.0</td>\n",
       "      <td>384.0</td>\n",
       "      <td>20.9</td>\n",
       "      <td>395.24</td>\n",
       "      <td>12.27</td>\n",
       "      <td>19.8</td>\n",
       "    </tr>\n",
       "    <tr>\n",
       "      <th>428</th>\n",
       "      <td>7.36711</td>\n",
       "      <td>0.0</td>\n",
       "      <td>18.10</td>\n",
       "      <td>0.0</td>\n",
       "      <td>0.679</td>\n",
       "      <td>6.193</td>\n",
       "      <td>78.1</td>\n",
       "      <td>1.9356</td>\n",
       "      <td>24.0</td>\n",
       "      <td>666.0</td>\n",
       "      <td>20.2</td>\n",
       "      <td>96.73</td>\n",
       "      <td>21.52</td>\n",
       "      <td>11.0</td>\n",
       "    </tr>\n",
       "    <tr>\n",
       "      <th>208</th>\n",
       "      <td>0.13587</td>\n",
       "      <td>0.0</td>\n",
       "      <td>10.59</td>\n",
       "      <td>1.0</td>\n",
       "      <td>0.489</td>\n",
       "      <td>6.064</td>\n",
       "      <td>59.1</td>\n",
       "      <td>4.2392</td>\n",
       "      <td>4.0</td>\n",
       "      <td>277.0</td>\n",
       "      <td>18.6</td>\n",
       "      <td>381.32</td>\n",
       "      <td>14.66</td>\n",
       "      <td>24.4</td>\n",
       "    </tr>\n",
       "    <tr>\n",
       "      <th>504</th>\n",
       "      <td>0.10959</td>\n",
       "      <td>0.0</td>\n",
       "      <td>11.93</td>\n",
       "      <td>0.0</td>\n",
       "      <td>0.573</td>\n",
       "      <td>6.794</td>\n",
       "      <td>89.3</td>\n",
       "      <td>2.3889</td>\n",
       "      <td>1.0</td>\n",
       "      <td>273.0</td>\n",
       "      <td>21.0</td>\n",
       "      <td>393.45</td>\n",
       "      <td>6.48</td>\n",
       "      <td>22.0</td>\n",
       "    </tr>\n",
       "  </tbody>\n",
       "</table>\n",
       "</div>"
      ],
      "text/plain": [
       "        CRIM    ZN  INDUS  CHAS    NOX     RM   AGE     DIS   RAD    TAX  \\\n",
       "227  0.41238   0.0   6.20   0.0  0.504  7.163  79.9  3.2157   8.0  307.0   \n",
       "189  0.08370  45.0   3.44   0.0  0.437  7.185  38.9  4.5667   5.0  398.0   \n",
       "253  0.36894  22.0   5.86   0.0  0.431  8.259   8.4  8.9067   7.0  330.0   \n",
       "430  8.49213   0.0  18.10   0.0  0.584  6.348  86.1  2.0527  24.0  666.0   \n",
       "166  2.01019   0.0  19.58   0.0  0.605  7.929  96.2  2.0459   5.0  403.0   \n",
       "43   0.15936   0.0   6.91   0.0  0.448  6.211   6.5  5.7209   3.0  233.0   \n",
       "108  0.12802   0.0   8.56   0.0  0.520  6.474  97.1  2.4329   5.0  384.0   \n",
       "428  7.36711   0.0  18.10   0.0  0.679  6.193  78.1  1.9356  24.0  666.0   \n",
       "208  0.13587   0.0  10.59   1.0  0.489  6.064  59.1  4.2392   4.0  277.0   \n",
       "504  0.10959   0.0  11.93   0.0  0.573  6.794  89.3  2.3889   1.0  273.0   \n",
       "\n",
       "     PTRATIO       B  LSTAT  target  \n",
       "227     17.4  372.08   6.36    31.6  \n",
       "189     15.2  396.90   5.39    34.9  \n",
       "253     19.1  396.90   3.54    42.8  \n",
       "430     20.2   83.45  17.64    14.5  \n",
       "166     14.7  369.30   3.70    50.0  \n",
       "43      17.9  394.46   7.44    24.7  \n",
       "108     20.9  395.24  12.27    19.8  \n",
       "428     20.2   96.73  21.52    11.0  \n",
       "208     18.6  381.32  14.66    24.4  \n",
       "504     21.0  393.45   6.48    22.0  "
      ]
     },
     "execution_count": 4,
     "metadata": {},
     "output_type": "execute_result"
    }
   ],
   "source": [
    "boston_dataframe.sample(10)"
   ]
  },
  {
   "cell_type": "markdown",
   "metadata": {},
   "source": [
    "## Prvotní seznámení s daty"
   ]
  },
  {
   "cell_type": "markdown",
   "metadata": {},
   "source": [
    "Než budeme s daty jakkoli manipulovat, bylo by dobré si je prohlédnout. Jednak kvůli zjištění jejich kvality (např. jde o počet NULL hodnot), jednak pro to, abychom lépe porozuměli jednotlivým prediktorům. Pro takovéto operace je velmi užitečný balíček [pandas-profiling](https://github.com/pandas-profiling/pandas-profiling). Nicméně raději zde ony kontrolní operace uděláme ručně. Data jsou koneckonců vcelku jednoduchá a hlavně s reportem, které pandas-profiling vyrábí, by velikost notebooku vyrostla více, než by bylo záhodno.  "
   ]
  },
  {
   "cell_type": "markdown",
   "metadata": {},
   "source": [
    "Funkce info nám ukazuje, že ani v jednom datasetu není žádná NULL hodnota. Dokonce zde není ani žádná kategorická veličina uložená jako string, na kterou bychom museli vypustit one-hot encoding (de facto převod stringové hodnoty na integer). Nicméně vzhledem k nutnosti ošetření těchto situací, které u normálních neučesaných dat takřka vždy vzniknou, se těmto problémum budeme zakrátku věnovat na fakeových datech."
   ]
  },
  {
   "cell_type": "code",
   "execution_count": 5,
   "metadata": {
    "ExecuteTime": {
     "end_time": "2020-10-29T19:43:30.866512Z",
     "start_time": "2020-10-29T19:43:30.728678Z"
    }
   },
   "outputs": [
    {
     "name": "stdout",
     "output_type": "stream",
     "text": [
      "<class 'pandas.core.frame.DataFrame'>\n",
      "RangeIndex: 150 entries, 0 to 149\n",
      "Data columns (total 5 columns):\n",
      " #   Column             Non-Null Count  Dtype  \n",
      "---  ------             --------------  -----  \n",
      " 0   sepal length (cm)  150 non-null    float64\n",
      " 1   sepal width (cm)   150 non-null    float64\n",
      " 2   petal length (cm)  150 non-null    float64\n",
      " 3   petal width (cm)   150 non-null    float64\n",
      " 4   target             150 non-null    int32  \n",
      "dtypes: float64(4), int32(1)\n",
      "memory usage: 5.4 KB\n"
     ]
    }
   ],
   "source": [
    "iris_dataframe.info()"
   ]
  },
  {
   "cell_type": "code",
   "execution_count": 6,
   "metadata": {
    "ExecuteTime": {
     "end_time": "2020-10-29T19:43:30.982970Z",
     "start_time": "2020-10-29T19:43:30.866512Z"
    }
   },
   "outputs": [
    {
     "name": "stdout",
     "output_type": "stream",
     "text": [
      "<class 'pandas.core.frame.DataFrame'>\n",
      "RangeIndex: 506 entries, 0 to 505\n",
      "Data columns (total 14 columns):\n",
      " #   Column   Non-Null Count  Dtype  \n",
      "---  ------   --------------  -----  \n",
      " 0   CRIM     506 non-null    float64\n",
      " 1   ZN       506 non-null    float64\n",
      " 2   INDUS    506 non-null    float64\n",
      " 3   CHAS     506 non-null    float64\n",
      " 4   NOX      506 non-null    float64\n",
      " 5   RM       506 non-null    float64\n",
      " 6   AGE      506 non-null    float64\n",
      " 7   DIS      506 non-null    float64\n",
      " 8   RAD      506 non-null    float64\n",
      " 9   TAX      506 non-null    float64\n",
      " 10  PTRATIO  506 non-null    float64\n",
      " 11  B        506 non-null    float64\n",
      " 12  LSTAT    506 non-null    float64\n",
      " 13  target   506 non-null    float64\n",
      "dtypes: float64(14)\n",
      "memory usage: 55.5 KB\n"
     ]
    }
   ],
   "source": [
    "boston_dataframe.info()"
   ]
  },
  {
   "cell_type": "markdown",
   "metadata": {},
   "source": [
    "Interpretace čísel u tabulky kosatců je krystalicky jasná. Nejprve si uděláme shrnující statistiky. Jelikož se nám zde ale dohromady slévá více tříd (více typů kytek), nemá cenu příliš bádat nad průměrnou hodnotou prediktorů. Nicméně užitečné je zkontrolovat, jak si stojí průměr/medián vzhledem k maximu a minimu a ony nejsou ulítlé. To by znamenalo přítomnost outlieru a potřebu s ním nějak pracovat (třeba záznam s ním vyhodit, pakliže byl outlier způsoben překlepem při zápisu parametrů rostliny).  "
   ]
  },
  {
   "cell_type": "code",
   "execution_count": 7,
   "metadata": {
    "ExecuteTime": {
     "end_time": "2020-10-29T19:43:31.146369Z",
     "start_time": "2020-10-29T19:43:30.982970Z"
    }
   },
   "outputs": [
    {
     "data": {
      "text/html": [
       "<div>\n",
       "<style scoped>\n",
       "    .dataframe tbody tr th:only-of-type {\n",
       "        vertical-align: middle;\n",
       "    }\n",
       "\n",
       "    .dataframe tbody tr th {\n",
       "        vertical-align: top;\n",
       "    }\n",
       "\n",
       "    .dataframe thead th {\n",
       "        text-align: right;\n",
       "    }\n",
       "</style>\n",
       "<table border=\"1\" class=\"dataframe\">\n",
       "  <thead>\n",
       "    <tr style=\"text-align: right;\">\n",
       "      <th></th>\n",
       "      <th>sepal length (cm)</th>\n",
       "      <th>sepal width (cm)</th>\n",
       "      <th>petal length (cm)</th>\n",
       "      <th>petal width (cm)</th>\n",
       "      <th>target</th>\n",
       "    </tr>\n",
       "  </thead>\n",
       "  <tbody>\n",
       "    <tr>\n",
       "      <th>count</th>\n",
       "      <td>150.000000</td>\n",
       "      <td>150.000000</td>\n",
       "      <td>150.000000</td>\n",
       "      <td>150.000000</td>\n",
       "      <td>150.000000</td>\n",
       "    </tr>\n",
       "    <tr>\n",
       "      <th>mean</th>\n",
       "      <td>5.843333</td>\n",
       "      <td>3.057333</td>\n",
       "      <td>3.758000</td>\n",
       "      <td>1.199333</td>\n",
       "      <td>1.000000</td>\n",
       "    </tr>\n",
       "    <tr>\n",
       "      <th>std</th>\n",
       "      <td>0.828066</td>\n",
       "      <td>0.435866</td>\n",
       "      <td>1.765298</td>\n",
       "      <td>0.762238</td>\n",
       "      <td>0.819232</td>\n",
       "    </tr>\n",
       "    <tr>\n",
       "      <th>min</th>\n",
       "      <td>4.300000</td>\n",
       "      <td>2.000000</td>\n",
       "      <td>1.000000</td>\n",
       "      <td>0.100000</td>\n",
       "      <td>0.000000</td>\n",
       "    </tr>\n",
       "    <tr>\n",
       "      <th>25%</th>\n",
       "      <td>5.100000</td>\n",
       "      <td>2.800000</td>\n",
       "      <td>1.600000</td>\n",
       "      <td>0.300000</td>\n",
       "      <td>0.000000</td>\n",
       "    </tr>\n",
       "    <tr>\n",
       "      <th>50%</th>\n",
       "      <td>5.800000</td>\n",
       "      <td>3.000000</td>\n",
       "      <td>4.350000</td>\n",
       "      <td>1.300000</td>\n",
       "      <td>1.000000</td>\n",
       "    </tr>\n",
       "    <tr>\n",
       "      <th>75%</th>\n",
       "      <td>6.400000</td>\n",
       "      <td>3.300000</td>\n",
       "      <td>5.100000</td>\n",
       "      <td>1.800000</td>\n",
       "      <td>2.000000</td>\n",
       "    </tr>\n",
       "    <tr>\n",
       "      <th>max</th>\n",
       "      <td>7.900000</td>\n",
       "      <td>4.400000</td>\n",
       "      <td>6.900000</td>\n",
       "      <td>2.500000</td>\n",
       "      <td>2.000000</td>\n",
       "    </tr>\n",
       "  </tbody>\n",
       "</table>\n",
       "</div>"
      ],
      "text/plain": [
       "       sepal length (cm)  sepal width (cm)  petal length (cm)  \\\n",
       "count         150.000000        150.000000         150.000000   \n",
       "mean            5.843333          3.057333           3.758000   \n",
       "std             0.828066          0.435866           1.765298   \n",
       "min             4.300000          2.000000           1.000000   \n",
       "25%             5.100000          2.800000           1.600000   \n",
       "50%             5.800000          3.000000           4.350000   \n",
       "75%             6.400000          3.300000           5.100000   \n",
       "max             7.900000          4.400000           6.900000   \n",
       "\n",
       "       petal width (cm)      target  \n",
       "count        150.000000  150.000000  \n",
       "mean           1.199333    1.000000  \n",
       "std            0.762238    0.819232  \n",
       "min            0.100000    0.000000  \n",
       "25%            0.300000    0.000000  \n",
       "50%            1.300000    1.000000  \n",
       "75%            1.800000    2.000000  \n",
       "max            2.500000    2.000000  "
      ]
     },
     "execution_count": 7,
     "metadata": {},
     "output_type": "execute_result"
    }
   ],
   "source": [
    "iris_dataframe.describe()"
   ]
  },
  {
   "cell_type": "markdown",
   "metadata": {},
   "source": [
    "Užitečné je v tomto kontextu podívat se na statistiky pro jednotlivé třídy. Npříklad z tabulky níže vidíme, že kosatec typu 0 se jasně odlišuje od zbylých dvou, které mají parametry mnohem podobnější."
   ]
  },
  {
   "cell_type": "code",
   "execution_count": 8,
   "metadata": {
    "ExecuteTime": {
     "end_time": "2020-10-29T19:43:31.316188Z",
     "start_time": "2020-10-29T19:43:31.146369Z"
    }
   },
   "outputs": [
    {
     "data": {
      "text/html": [
       "<div>\n",
       "<style scoped>\n",
       "    .dataframe tbody tr th:only-of-type {\n",
       "        vertical-align: middle;\n",
       "    }\n",
       "\n",
       "    .dataframe tbody tr th {\n",
       "        vertical-align: top;\n",
       "    }\n",
       "\n",
       "    .dataframe thead th {\n",
       "        text-align: right;\n",
       "    }\n",
       "</style>\n",
       "<table border=\"1\" class=\"dataframe\">\n",
       "  <thead>\n",
       "    <tr style=\"text-align: right;\">\n",
       "      <th></th>\n",
       "      <th>sepal_length_mean</th>\n",
       "      <th>sepal_length_std</th>\n",
       "      <th>sepal_width_mean</th>\n",
       "      <th>sepal_width_std</th>\n",
       "      <th>petal_length_mean</th>\n",
       "      <th>petal_length_std</th>\n",
       "      <th>petal_width_mean</th>\n",
       "      <th>petal_width_std</th>\n",
       "    </tr>\n",
       "    <tr>\n",
       "      <th>target</th>\n",
       "      <th></th>\n",
       "      <th></th>\n",
       "      <th></th>\n",
       "      <th></th>\n",
       "      <th></th>\n",
       "      <th></th>\n",
       "      <th></th>\n",
       "      <th></th>\n",
       "    </tr>\n",
       "  </thead>\n",
       "  <tbody>\n",
       "    <tr>\n",
       "      <th>0</th>\n",
       "      <td>5.006</td>\n",
       "      <td>0.352490</td>\n",
       "      <td>3.428</td>\n",
       "      <td>0.379064</td>\n",
       "      <td>1.462</td>\n",
       "      <td>0.173664</td>\n",
       "      <td>0.246</td>\n",
       "      <td>0.105386</td>\n",
       "    </tr>\n",
       "    <tr>\n",
       "      <th>1</th>\n",
       "      <td>5.936</td>\n",
       "      <td>0.516171</td>\n",
       "      <td>2.770</td>\n",
       "      <td>0.313798</td>\n",
       "      <td>4.260</td>\n",
       "      <td>0.469911</td>\n",
       "      <td>1.326</td>\n",
       "      <td>0.197753</td>\n",
       "    </tr>\n",
       "    <tr>\n",
       "      <th>2</th>\n",
       "      <td>6.588</td>\n",
       "      <td>0.635880</td>\n",
       "      <td>2.974</td>\n",
       "      <td>0.322497</td>\n",
       "      <td>5.552</td>\n",
       "      <td>0.551895</td>\n",
       "      <td>2.026</td>\n",
       "      <td>0.274650</td>\n",
       "    </tr>\n",
       "  </tbody>\n",
       "</table>\n",
       "</div>"
      ],
      "text/plain": [
       "        sepal_length_mean  sepal_length_std  sepal_width_mean  \\\n",
       "target                                                          \n",
       "0                   5.006          0.352490             3.428   \n",
       "1                   5.936          0.516171             2.770   \n",
       "2                   6.588          0.635880             2.974   \n",
       "\n",
       "        sepal_width_std  petal_length_mean  petal_length_std  \\\n",
       "target                                                         \n",
       "0              0.379064              1.462          0.173664   \n",
       "1              0.313798              4.260          0.469911   \n",
       "2              0.322497              5.552          0.551895   \n",
       "\n",
       "        petal_width_mean  petal_width_std  \n",
       "target                                     \n",
       "0                  0.246         0.105386  \n",
       "1                  1.326         0.197753  \n",
       "2                  2.026         0.274650  "
      ]
     },
     "execution_count": 8,
     "metadata": {},
     "output_type": "execute_result"
    }
   ],
   "source": [
    "iris_dataframe.groupby(\"target\").agg(\n",
    "    sepal_length_mean=(\"sepal length (cm)\", np.mean),\n",
    "    sepal_length_std=(\"sepal length (cm)\", np.std),\n",
    "    sepal_width_mean=(\"sepal width (cm)\", np.mean),\n",
    "    sepal_width_std=(\"sepal width (cm)\", np.std),\n",
    "    petal_length_mean=(\"petal length (cm)\", np.mean),\n",
    "    petal_length_std=(\"petal length (cm)\", np.std),        \n",
    "    petal_width_mean=(\"petal width (cm)\", np.mean),\n",
    "    petal_width_std=(\"petal width (cm)\", np.std),\n",
    ")"
   ]
  },
  {
   "cell_type": "markdown",
   "metadata": {},
   "source": [
    "Nicméně asi lepší bude vizualizace (pro úsporu místa tu ukazuji jen první obrázek ze čtyř)."
   ]
  },
  {
   "cell_type": "code",
   "execution_count": 9,
   "metadata": {
    "ExecuteTime": {
     "end_time": "2020-10-29T19:43:32.119775Z",
     "start_time": "2020-10-29T19:43:31.316188Z"
    }
   },
   "outputs": [
    {
     "data": {
      "text/plain": [
       "<seaborn.axisgrid.FacetGrid at 0x13bafe6cac8>"
      ]
     },
     "execution_count": 9,
     "metadata": {},
     "output_type": "execute_result"
    },
    {
     "data": {
      "image/png": "[encoded data removed]",
      "text/plain": [
       "<Figure size 360x360 with 1 Axes>"
      ]
     },
     "metadata": {
      "needs_background": "light"
     },
     "output_type": "display_data"
    }
   ],
   "source": [
    "sns.catplot(x=\"target\", y=\"sepal length (cm)\", data=iris_dataframe, kind=\"box\")"
   ]
  },
  {
   "cell_type": "markdown",
   "metadata": {},
   "source": [
    "Podívejme se ale nyní na data nemovitostí.  \n",
    "Nejprve se podívejme na základní statistiky. Jelikož se v cílovém sloupci nevyskytují kategorie, ale spojité hodnoty, nemá smysl se pokoušet o grupování."
   ]
  },
  {
   "cell_type": "code",
   "execution_count": 10,
   "metadata": {
    "ExecuteTime": {
     "end_time": "2020-10-29T19:43:32.173023Z",
     "start_time": "2020-10-29T19:43:32.119775Z"
    }
   },
   "outputs": [
    {
     "data": {
      "text/html": [
       "<div>\n",
       "<style scoped>\n",
       "    .dataframe tbody tr th:only-of-type {\n",
       "        vertical-align: middle;\n",
       "    }\n",
       "\n",
       "    .dataframe tbody tr th {\n",
       "        vertical-align: top;\n",
       "    }\n",
       "\n",
       "    .dataframe thead th {\n",
       "        text-align: right;\n",
       "    }\n",
       "</style>\n",
       "<table border=\"1\" class=\"dataframe\">\n",
       "  <thead>\n",
       "    <tr style=\"text-align: right;\">\n",
       "      <th></th>\n",
       "      <th>CRIM</th>\n",
       "      <th>ZN</th>\n",
       "      <th>INDUS</th>\n",
       "      <th>CHAS</th>\n",
       "      <th>NOX</th>\n",
       "      <th>RM</th>\n",
       "      <th>AGE</th>\n",
       "      <th>DIS</th>\n",
       "      <th>RAD</th>\n",
       "      <th>TAX</th>\n",
       "      <th>PTRATIO</th>\n",
       "      <th>B</th>\n",
       "      <th>LSTAT</th>\n",
       "      <th>target</th>\n",
       "    </tr>\n",
       "  </thead>\n",
       "  <tbody>\n",
       "    <tr>\n",
       "      <th>count</th>\n",
       "      <td>506.000000</td>\n",
       "      <td>506.000000</td>\n",
       "      <td>506.000000</td>\n",
       "      <td>506.000000</td>\n",
       "      <td>506.000000</td>\n",
       "      <td>506.000000</td>\n",
       "      <td>506.000000</td>\n",
       "      <td>506.000000</td>\n",
       "      <td>506.000000</td>\n",
       "      <td>506.000000</td>\n",
       "      <td>506.000000</td>\n",
       "      <td>506.000000</td>\n",
       "      <td>506.000000</td>\n",
       "      <td>506.000000</td>\n",
       "    </tr>\n",
       "    <tr>\n",
       "      <th>mean</th>\n",
       "      <td>3.613524</td>\n",
       "      <td>11.363636</td>\n",
       "      <td>11.136779</td>\n",
       "      <td>0.069170</td>\n",
       "      <td>0.554695</td>\n",
       "      <td>6.284634</td>\n",
       "      <td>68.574901</td>\n",
       "      <td>3.795043</td>\n",
       "      <td>9.549407</td>\n",
       "      <td>408.237154</td>\n",
       "      <td>18.455534</td>\n",
       "      <td>356.674032</td>\n",
       "      <td>12.653063</td>\n",
       "      <td>22.532806</td>\n",
       "    </tr>\n",
       "    <tr>\n",
       "      <th>std</th>\n",
       "      <td>8.601545</td>\n",
       "      <td>23.322453</td>\n",
       "      <td>6.860353</td>\n",
       "      <td>0.253994</td>\n",
       "      <td>0.115878</td>\n",
       "      <td>0.702617</td>\n",
       "      <td>28.148861</td>\n",
       "      <td>2.105710</td>\n",
       "      <td>8.707259</td>\n",
       "      <td>168.537116</td>\n",
       "      <td>2.164946</td>\n",
       "      <td>91.294864</td>\n",
       "      <td>7.141062</td>\n",
       "      <td>9.197104</td>\n",
       "    </tr>\n",
       "    <tr>\n",
       "      <th>min</th>\n",
       "      <td>0.006320</td>\n",
       "      <td>0.000000</td>\n",
       "      <td>0.460000</td>\n",
       "      <td>0.000000</td>\n",
       "      <td>0.385000</td>\n",
       "      <td>3.561000</td>\n",
       "      <td>2.900000</td>\n",
       "      <td>1.129600</td>\n",
       "      <td>1.000000</td>\n",
       "      <td>187.000000</td>\n",
       "      <td>12.600000</td>\n",
       "      <td>0.320000</td>\n",
       "      <td>1.730000</td>\n",
       "      <td>5.000000</td>\n",
       "    </tr>\n",
       "    <tr>\n",
       "      <th>25%</th>\n",
       "      <td>0.082045</td>\n",
       "      <td>0.000000</td>\n",
       "      <td>5.190000</td>\n",
       "      <td>0.000000</td>\n",
       "      <td>0.449000</td>\n",
       "      <td>5.885500</td>\n",
       "      <td>45.025000</td>\n",
       "      <td>2.100175</td>\n",
       "      <td>4.000000</td>\n",
       "      <td>279.000000</td>\n",
       "      <td>17.400000</td>\n",
       "      <td>375.377500</td>\n",
       "      <td>6.950000</td>\n",
       "      <td>17.025000</td>\n",
       "    </tr>\n",
       "    <tr>\n",
       "      <th>50%</th>\n",
       "      <td>0.256510</td>\n",
       "      <td>0.000000</td>\n",
       "      <td>9.690000</td>\n",
       "      <td>0.000000</td>\n",
       "      <td>0.538000</td>\n",
       "      <td>6.208500</td>\n",
       "      <td>77.500000</td>\n",
       "      <td>3.207450</td>\n",
       "      <td>5.000000</td>\n",
       "      <td>330.000000</td>\n",
       "      <td>19.050000</td>\n",
       "      <td>391.440000</td>\n",
       "      <td>11.360000</td>\n",
       "      <td>21.200000</td>\n",
       "    </tr>\n",
       "    <tr>\n",
       "      <th>75%</th>\n",
       "      <td>3.677083</td>\n",
       "      <td>12.500000</td>\n",
       "      <td>18.100000</td>\n",
       "      <td>0.000000</td>\n",
       "      <td>0.624000</td>\n",
       "      <td>6.623500</td>\n",
       "      <td>94.075000</td>\n",
       "      <td>5.188425</td>\n",
       "      <td>24.000000</td>\n",
       "      <td>666.000000</td>\n",
       "      <td>20.200000</td>\n",
       "      <td>396.225000</td>\n",
       "      <td>16.955000</td>\n",
       "      <td>25.000000</td>\n",
       "    </tr>\n",
       "    <tr>\n",
       "      <th>max</th>\n",
       "      <td>88.976200</td>\n",
       "      <td>100.000000</td>\n",
       "      <td>27.740000</td>\n",
       "      <td>1.000000</td>\n",
       "      <td>0.871000</td>\n",
       "      <td>8.780000</td>\n",
       "      <td>100.000000</td>\n",
       "      <td>12.126500</td>\n",
       "      <td>24.000000</td>\n",
       "      <td>711.000000</td>\n",
       "      <td>22.000000</td>\n",
       "      <td>396.900000</td>\n",
       "      <td>37.970000</td>\n",
       "      <td>50.000000</td>\n",
       "    </tr>\n",
       "  </tbody>\n",
       "</table>\n",
       "</div>"
      ],
      "text/plain": [
       "             CRIM          ZN       INDUS        CHAS         NOX          RM  \\\n",
       "count  506.000000  506.000000  506.000000  506.000000  506.000000  506.000000   \n",
       "mean     3.613524   11.363636   11.136779    0.069170    0.554695    6.284634   \n",
       "std      8.601545   23.322453    6.860353    0.253994    0.115878    0.702617   \n",
       "min      0.006320    0.000000    0.460000    0.000000    0.385000    3.561000   \n",
       "25%      0.082045    0.000000    5.190000    0.000000    0.449000    5.885500   \n",
       "50%      0.256510    0.000000    9.690000    0.000000    0.538000    6.208500   \n",
       "75%      3.677083   12.500000   18.100000    0.000000    0.624000    6.623500   \n",
       "max     88.976200  100.000000   27.740000    1.000000    0.871000    8.780000   \n",
       "\n",
       "              AGE         DIS         RAD         TAX     PTRATIO           B  \\\n",
       "count  506.000000  506.000000  506.000000  506.000000  506.000000  506.000000   \n",
       "mean    68.574901    3.795043    9.549407  408.237154   18.455534  356.674032   \n",
       "std     28.148861    2.105710    8.707259  168.537116    2.164946   91.294864   \n",
       "min      2.900000    1.129600    1.000000  187.000000   12.600000    0.320000   \n",
       "25%     45.025000    2.100175    4.000000  279.000000   17.400000  375.377500   \n",
       "50%     77.500000    3.207450    5.000000  330.000000   19.050000  391.440000   \n",
       "75%     94.075000    5.188425   24.000000  666.000000   20.200000  396.225000   \n",
       "max    100.000000   12.126500   24.000000  711.000000   22.000000  396.900000   \n",
       "\n",
       "            LSTAT      target  \n",
       "count  506.000000  506.000000  \n",
       "mean    12.653063   22.532806  \n",
       "std      7.141062    9.197104  \n",
       "min      1.730000    5.000000  \n",
       "25%      6.950000   17.025000  \n",
       "50%     11.360000   21.200000  \n",
       "75%     16.955000   25.000000  \n",
       "max     37.970000   50.000000  "
      ]
     },
     "execution_count": 10,
     "metadata": {},
     "output_type": "execute_result"
    }
   ],
   "source": [
    "boston_dataframe.describe()"
   ]
  },
  {
   "cell_type": "markdown",
   "metadata": {},
   "source": [
    "Pro prohlédnutí si závislosti prediktoru na cílové hodnotě bude v tomto případě lepší než boxplot scatterplot. Například u kriminality vidíme, že s jejím růstem se pojí pokles cen. Samozřejmě to může znamenat jak to, že oblasti s kriminalitou nejsou na realitním trhu příliš atraktivní, anebo to, že se do levných lokalit stěhují lidé, kteří mají problémy se zákonem, anebo možná existuje nějaká třetí okolnost, od které jsou odvislé jak kriminalita, tak nízká cena."
   ]
  },
  {
   "cell_type": "code",
   "execution_count": 11,
   "metadata": {
    "ExecuteTime": {
     "end_time": "2020-10-29T19:43:32.489659Z",
     "start_time": "2020-10-29T19:43:32.173023Z"
    }
   },
   "outputs": [
    {
     "data": {
      "text/plain": [
       "<seaborn.axisgrid.FacetGrid at 0x13bafbfe888>"
      ]
     },
     "execution_count": 11,
     "metadata": {},
     "output_type": "execute_result"
    },
    {
     "data": {
      "image/png": "[encoded data removed]",
      "text/plain": [
       "<Figure size 360x360 with 1 Axes>"
      ]
     },
     "metadata": {
      "needs_background": "light"
     },
     "output_type": "display_data"
    }
   ],
   "source": [
    "sns.relplot(x=\"CRIM\", y=\"target\", data=boston_dataframe, kind=\"scatter\")"
   ]
  },
  {
   "cell_type": "markdown",
   "metadata": {},
   "source": [
    "Jinými slovy \"korelace není kauzaliza\". Nicméně když se tu už o korelaci bavíme, bývá užitečné si ji taktéž spočítat. Obecně by bylo ideální, kdyby každý prediktor korelovat s cílovým sloupcem co možná nejvíce, ale jednotlivé prediktory mezi sebou nekorelovaly. V takovém případě totiž některé algoritmy začnou podávat horší výkon. Řešením tohoto problému může být např. PCA neboli přetvoření většího počtu částečně korelovaných prediktorů v menší počet prediktorů nekorelovaných. Nepříjemná však poté bývá skutečnost, že nové prediktory nejsou z businessového hlediska dost dobře interpretovatelné.  \n",
    "Zdůrazněme nakonec, že tu celou dobu budeme mít na mysli korelaci lineární."
   ]
  },
  {
   "cell_type": "code",
   "execution_count": 12,
   "metadata": {
    "ExecuteTime": {
     "end_time": "2020-10-29T19:43:32.520833Z",
     "start_time": "2020-10-29T19:43:32.489659Z"
    }
   },
   "outputs": [
    {
     "data": {
      "text/html": [
       "<div>\n",
       "<style scoped>\n",
       "    .dataframe tbody tr th:only-of-type {\n",
       "        vertical-align: middle;\n",
       "    }\n",
       "\n",
       "    .dataframe tbody tr th {\n",
       "        vertical-align: top;\n",
       "    }\n",
       "\n",
       "    .dataframe thead th {\n",
       "        text-align: right;\n",
       "    }\n",
       "</style>\n",
       "<table border=\"1\" class=\"dataframe\">\n",
       "  <thead>\n",
       "    <tr style=\"text-align: right;\">\n",
       "      <th></th>\n",
       "      <th>CRIM</th>\n",
       "      <th>ZN</th>\n",
       "      <th>INDUS</th>\n",
       "      <th>CHAS</th>\n",
       "      <th>NOX</th>\n",
       "      <th>RM</th>\n",
       "      <th>AGE</th>\n",
       "      <th>DIS</th>\n",
       "      <th>RAD</th>\n",
       "      <th>TAX</th>\n",
       "      <th>PTRATIO</th>\n",
       "      <th>B</th>\n",
       "      <th>LSTAT</th>\n",
       "      <th>target</th>\n",
       "    </tr>\n",
       "  </thead>\n",
       "  <tbody>\n",
       "    <tr>\n",
       "      <th>CRIM</th>\n",
       "      <td>1.000000</td>\n",
       "      <td>-0.200469</td>\n",
       "      <td>0.406583</td>\n",
       "      <td>-0.055892</td>\n",
       "      <td>0.420972</td>\n",
       "      <td>-0.219247</td>\n",
       "      <td>0.352734</td>\n",
       "      <td>-0.379670</td>\n",
       "      <td>0.625505</td>\n",
       "      <td>0.582764</td>\n",
       "      <td>0.289946</td>\n",
       "      <td>-0.385064</td>\n",
       "      <td>0.455621</td>\n",
       "      <td>-0.388305</td>\n",
       "    </tr>\n",
       "    <tr>\n",
       "      <th>ZN</th>\n",
       "      <td>-0.200469</td>\n",
       "      <td>1.000000</td>\n",
       "      <td>-0.533828</td>\n",
       "      <td>-0.042697</td>\n",
       "      <td>-0.516604</td>\n",
       "      <td>0.311991</td>\n",
       "      <td>-0.569537</td>\n",
       "      <td>0.664408</td>\n",
       "      <td>-0.311948</td>\n",
       "      <td>-0.314563</td>\n",
       "      <td>-0.391679</td>\n",
       "      <td>0.175520</td>\n",
       "      <td>-0.412995</td>\n",
       "      <td>0.360445</td>\n",
       "    </tr>\n",
       "    <tr>\n",
       "      <th>INDUS</th>\n",
       "      <td>0.406583</td>\n",
       "      <td>-0.533828</td>\n",
       "      <td>1.000000</td>\n",
       "      <td>0.062938</td>\n",
       "      <td>0.763651</td>\n",
       "      <td>-0.391676</td>\n",
       "      <td>0.644779</td>\n",
       "      <td>-0.708027</td>\n",
       "      <td>0.595129</td>\n",
       "      <td>0.720760</td>\n",
       "      <td>0.383248</td>\n",
       "      <td>-0.356977</td>\n",
       "      <td>0.603800</td>\n",
       "      <td>-0.483725</td>\n",
       "    </tr>\n",
       "    <tr>\n",
       "      <th>CHAS</th>\n",
       "      <td>-0.055892</td>\n",
       "      <td>-0.042697</td>\n",
       "      <td>0.062938</td>\n",
       "      <td>1.000000</td>\n",
       "      <td>0.091203</td>\n",
       "      <td>0.091251</td>\n",
       "      <td>0.086518</td>\n",
       "      <td>-0.099176</td>\n",
       "      <td>-0.007368</td>\n",
       "      <td>-0.035587</td>\n",
       "      <td>-0.121515</td>\n",
       "      <td>0.048788</td>\n",
       "      <td>-0.053929</td>\n",
       "      <td>0.175260</td>\n",
       "    </tr>\n",
       "    <tr>\n",
       "      <th>NOX</th>\n",
       "      <td>0.420972</td>\n",
       "      <td>-0.516604</td>\n",
       "      <td>0.763651</td>\n",
       "      <td>0.091203</td>\n",
       "      <td>1.000000</td>\n",
       "      <td>-0.302188</td>\n",
       "      <td>0.731470</td>\n",
       "      <td>-0.769230</td>\n",
       "      <td>0.611441</td>\n",
       "      <td>0.668023</td>\n",
       "      <td>0.188933</td>\n",
       "      <td>-0.380051</td>\n",
       "      <td>0.590879</td>\n",
       "      <td>-0.427321</td>\n",
       "    </tr>\n",
       "    <tr>\n",
       "      <th>RM</th>\n",
       "      <td>-0.219247</td>\n",
       "      <td>0.311991</td>\n",
       "      <td>-0.391676</td>\n",
       "      <td>0.091251</td>\n",
       "      <td>-0.302188</td>\n",
       "      <td>1.000000</td>\n",
       "      <td>-0.240265</td>\n",
       "      <td>0.205246</td>\n",
       "      <td>-0.209847</td>\n",
       "      <td>-0.292048</td>\n",
       "      <td>-0.355501</td>\n",
       "      <td>0.128069</td>\n",
       "      <td>-0.613808</td>\n",
       "      <td>0.695360</td>\n",
       "    </tr>\n",
       "    <tr>\n",
       "      <th>AGE</th>\n",
       "      <td>0.352734</td>\n",
       "      <td>-0.569537</td>\n",
       "      <td>0.644779</td>\n",
       "      <td>0.086518</td>\n",
       "      <td>0.731470</td>\n",
       "      <td>-0.240265</td>\n",
       "      <td>1.000000</td>\n",
       "      <td>-0.747881</td>\n",
       "      <td>0.456022</td>\n",
       "      <td>0.506456</td>\n",
       "      <td>0.261515</td>\n",
       "      <td>-0.273534</td>\n",
       "      <td>0.602339</td>\n",
       "      <td>-0.376955</td>\n",
       "    </tr>\n",
       "    <tr>\n",
       "      <th>DIS</th>\n",
       "      <td>-0.379670</td>\n",
       "      <td>0.664408</td>\n",
       "      <td>-0.708027</td>\n",
       "      <td>-0.099176</td>\n",
       "      <td>-0.769230</td>\n",
       "      <td>0.205246</td>\n",
       "      <td>-0.747881</td>\n",
       "      <td>1.000000</td>\n",
       "      <td>-0.494588</td>\n",
       "      <td>-0.534432</td>\n",
       "      <td>-0.232471</td>\n",
       "      <td>0.291512</td>\n",
       "      <td>-0.496996</td>\n",
       "      <td>0.249929</td>\n",
       "    </tr>\n",
       "    <tr>\n",
       "      <th>RAD</th>\n",
       "      <td>0.625505</td>\n",
       "      <td>-0.311948</td>\n",
       "      <td>0.595129</td>\n",
       "      <td>-0.007368</td>\n",
       "      <td>0.611441</td>\n",
       "      <td>-0.209847</td>\n",
       "      <td>0.456022</td>\n",
       "      <td>-0.494588</td>\n",
       "      <td>1.000000</td>\n",
       "      <td>0.910228</td>\n",
       "      <td>0.464741</td>\n",
       "      <td>-0.444413</td>\n",
       "      <td>0.488676</td>\n",
       "      <td>-0.381626</td>\n",
       "    </tr>\n",
       "    <tr>\n",
       "      <th>TAX</th>\n",
       "      <td>0.582764</td>\n",
       "      <td>-0.314563</td>\n",
       "      <td>0.720760</td>\n",
       "      <td>-0.035587</td>\n",
       "      <td>0.668023</td>\n",
       "      <td>-0.292048</td>\n",
       "      <td>0.506456</td>\n",
       "      <td>-0.534432</td>\n",
       "      <td>0.910228</td>\n",
       "      <td>1.000000</td>\n",
       "      <td>0.460853</td>\n",
       "      <td>-0.441808</td>\n",
       "      <td>0.543993</td>\n",
       "      <td>-0.468536</td>\n",
       "    </tr>\n",
       "    <tr>\n",
       "      <th>PTRATIO</th>\n",
       "      <td>0.289946</td>\n",
       "      <td>-0.391679</td>\n",
       "      <td>0.383248</td>\n",
       "      <td>-0.121515</td>\n",
       "      <td>0.188933</td>\n",
       "      <td>-0.355501</td>\n",
       "      <td>0.261515</td>\n",
       "      <td>-0.232471</td>\n",
       "      <td>0.464741</td>\n",
       "      <td>0.460853</td>\n",
       "      <td>1.000000</td>\n",
       "      <td>-0.177383</td>\n",
       "      <td>0.374044</td>\n",
       "      <td>-0.507787</td>\n",
       "    </tr>\n",
       "    <tr>\n",
       "      <th>B</th>\n",
       "      <td>-0.385064</td>\n",
       "      <td>0.175520</td>\n",
       "      <td>-0.356977</td>\n",
       "      <td>0.048788</td>\n",
       "      <td>-0.380051</td>\n",
       "      <td>0.128069</td>\n",
       "      <td>-0.273534</td>\n",
       "      <td>0.291512</td>\n",
       "      <td>-0.444413</td>\n",
       "      <td>-0.441808</td>\n",
       "      <td>-0.177383</td>\n",
       "      <td>1.000000</td>\n",
       "      <td>-0.366087</td>\n",
       "      <td>0.333461</td>\n",
       "    </tr>\n",
       "    <tr>\n",
       "      <th>LSTAT</th>\n",
       "      <td>0.455621</td>\n",
       "      <td>-0.412995</td>\n",
       "      <td>0.603800</td>\n",
       "      <td>-0.053929</td>\n",
       "      <td>0.590879</td>\n",
       "      <td>-0.613808</td>\n",
       "      <td>0.602339</td>\n",
       "      <td>-0.496996</td>\n",
       "      <td>0.488676</td>\n",
       "      <td>0.543993</td>\n",
       "      <td>0.374044</td>\n",
       "      <td>-0.366087</td>\n",
       "      <td>1.000000</td>\n",
       "      <td>-0.737663</td>\n",
       "    </tr>\n",
       "    <tr>\n",
       "      <th>target</th>\n",
       "      <td>-0.388305</td>\n",
       "      <td>0.360445</td>\n",
       "      <td>-0.483725</td>\n",
       "      <td>0.175260</td>\n",
       "      <td>-0.427321</td>\n",
       "      <td>0.695360</td>\n",
       "      <td>-0.376955</td>\n",
       "      <td>0.249929</td>\n",
       "      <td>-0.381626</td>\n",
       "      <td>-0.468536</td>\n",
       "      <td>-0.507787</td>\n",
       "      <td>0.333461</td>\n",
       "      <td>-0.737663</td>\n",
       "      <td>1.000000</td>\n",
       "    </tr>\n",
       "  </tbody>\n",
       "</table>\n",
       "</div>"
      ],
      "text/plain": [
       "             CRIM        ZN     INDUS      CHAS       NOX        RM       AGE  \\\n",
       "CRIM     1.000000 -0.200469  0.406583 -0.055892  0.420972 -0.219247  0.352734   \n",
       "ZN      -0.200469  1.000000 -0.533828 -0.042697 -0.516604  0.311991 -0.569537   \n",
       "INDUS    0.406583 -0.533828  1.000000  0.062938  0.763651 -0.391676  0.644779   \n",
       "CHAS    -0.055892 -0.042697  0.062938  1.000000  0.091203  0.091251  0.086518   \n",
       "NOX      0.420972 -0.516604  0.763651  0.091203  1.000000 -0.302188  0.731470   \n",
       "RM      -0.219247  0.311991 -0.391676  0.091251 -0.302188  1.000000 -0.240265   \n",
       "AGE      0.352734 -0.569537  0.644779  0.086518  0.731470 -0.240265  1.000000   \n",
       "DIS     -0.379670  0.664408 -0.708027 -0.099176 -0.769230  0.205246 -0.747881   \n",
       "RAD      0.625505 -0.311948  0.595129 -0.007368  0.611441 -0.209847  0.456022   \n",
       "TAX      0.582764 -0.314563  0.720760 -0.035587  0.668023 -0.292048  0.506456   \n",
       "PTRATIO  0.289946 -0.391679  0.383248 -0.121515  0.188933 -0.355501  0.261515   \n",
       "B       -0.385064  0.175520 -0.356977  0.048788 -0.380051  0.128069 -0.273534   \n",
       "LSTAT    0.455621 -0.412995  0.603800 -0.053929  0.590879 -0.613808  0.602339   \n",
       "target  -0.388305  0.360445 -0.483725  0.175260 -0.427321  0.695360 -0.376955   \n",
       "\n",
       "              DIS       RAD       TAX   PTRATIO         B     LSTAT    target  \n",
       "CRIM    -0.379670  0.625505  0.582764  0.289946 -0.385064  0.455621 -0.388305  \n",
       "ZN       0.664408 -0.311948 -0.314563 -0.391679  0.175520 -0.412995  0.360445  \n",
       "INDUS   -0.708027  0.595129  0.720760  0.383248 -0.356977  0.603800 -0.483725  \n",
       "CHAS    -0.099176 -0.007368 -0.035587 -0.121515  0.048788 -0.053929  0.175260  \n",
       "NOX     -0.769230  0.611441  0.668023  0.188933 -0.380051  0.590879 -0.427321  \n",
       "RM       0.205246 -0.209847 -0.292048 -0.355501  0.128069 -0.613808  0.695360  \n",
       "AGE     -0.747881  0.456022  0.506456  0.261515 -0.273534  0.602339 -0.376955  \n",
       "DIS      1.000000 -0.494588 -0.534432 -0.232471  0.291512 -0.496996  0.249929  \n",
       "RAD     -0.494588  1.000000  0.910228  0.464741 -0.444413  0.488676 -0.381626  \n",
       "TAX     -0.534432  0.910228  1.000000  0.460853 -0.441808  0.543993 -0.468536  \n",
       "PTRATIO -0.232471  0.464741  0.460853  1.000000 -0.177383  0.374044 -0.507787  \n",
       "B        0.291512 -0.444413 -0.441808 -0.177383  1.000000 -0.366087  0.333461  \n",
       "LSTAT   -0.496996  0.488676  0.543993  0.374044 -0.366087  1.000000 -0.737663  \n",
       "target   0.249929 -0.381626 -0.468536 -0.507787  0.333461 -0.737663  1.000000  "
      ]
     },
     "execution_count": 12,
     "metadata": {},
     "output_type": "execute_result"
    }
   ],
   "source": [
    "boston_dataframe.corr()"
   ]
  },
  {
   "cell_type": "markdown",
   "metadata": {},
   "source": [
    "Většina prediktorů vypadá dle popisu lineárně anebo se jedná o prediktory binární (tj. nabývající pouze hodnot 0 a 1). Výjimkou je veličina B, která poněkud netriviálně závisí na populaci afroameričanů v daném předměstí."
   ]
  },
  {
   "cell_type": "code",
   "execution_count": 13,
   "metadata": {
    "ExecuteTime": {
     "end_time": "2020-10-29T19:43:32.752682Z",
     "start_time": "2020-10-29T19:43:32.520833Z"
    }
   },
   "outputs": [
    {
     "data": {
      "image/png": "[encoded data removed]",
      "text/plain": [
       "<Figure size 432x288 with 1 Axes>"
      ]
     },
     "metadata": {
      "needs_background": "light"
     },
     "output_type": "display_data"
    }
   ],
   "source": [
    "x_axis = list(range(0,101))\n",
    "y_axis = [(1000*(x - 0.63)*(x - 0.63)) for x in x_axis]\n",
    "plt.scatter(x_axis, y_axis)\n",
    "plt.xlabel(\"Proportion of black in town\")\n",
    "plt.ylabel(\"Variable B\");"
   ]
  },
  {
   "cell_type": "markdown",
   "metadata": {},
   "source": [
    "## Nahrazování NA hodnot\n",
    "Jak již bylo řečeno, v datech žádné díry (NA/NaN/nully) nemáme. Co bychom ale měli udělat, když by tam byly? Asi nejjednodušším řešením je takové záznamy vyhodit. To si ale můžeme dovolit pouze v případě, kdy je jich velice málo a jsme si jistí, že se jedná o důsledek nějaké nesystematické chyby (např. přepis dat z papírů do počítače).  \n",
    "Vyhazování se realizuje funkcí pandas.dropna. Parametrem axis specifikujeme, zda se budou vyhazovat řádky(0) či sloupce (1) NaN obsahující. Parametr how říká, zda k vyhození stačí jedna v řádku/sloupci absentující hodnota (\"any\") či zda musí absentovat všechny(\"all\")."
   ]
  },
  {
   "cell_type": "code",
   "execution_count": 14,
   "metadata": {
    "ExecuteTime": {
     "end_time": "2020-10-29T19:43:32.774363Z",
     "start_time": "2020-10-29T19:43:32.752682Z"
    }
   },
   "outputs": [
    {
     "data": {
      "text/html": [
       "<div>\n",
       "<style scoped>\n",
       "    .dataframe tbody tr th:only-of-type {\n",
       "        vertical-align: middle;\n",
       "    }\n",
       "\n",
       "    .dataframe tbody tr th {\n",
       "        vertical-align: top;\n",
       "    }\n",
       "\n",
       "    .dataframe thead th {\n",
       "        text-align: right;\n",
       "    }\n",
       "</style>\n",
       "<table border=\"1\" class=\"dataframe\">\n",
       "  <thead>\n",
       "    <tr style=\"text-align: right;\">\n",
       "      <th></th>\n",
       "      <th>A</th>\n",
       "      <th>B</th>\n",
       "      <th>C</th>\n",
       "      <th>D</th>\n",
       "    </tr>\n",
       "  </thead>\n",
       "  <tbody>\n",
       "    <tr>\n",
       "      <th>0</th>\n",
       "      <td>NaN</td>\n",
       "      <td>2.0</td>\n",
       "      <td>NaN</td>\n",
       "      <td>0</td>\n",
       "    </tr>\n",
       "    <tr>\n",
       "      <th>1</th>\n",
       "      <td>3.0</td>\n",
       "      <td>4.0</td>\n",
       "      <td>NaN</td>\n",
       "      <td>1</td>\n",
       "    </tr>\n",
       "    <tr>\n",
       "      <th>2</th>\n",
       "      <td>NaN</td>\n",
       "      <td>NaN</td>\n",
       "      <td>NaN</td>\n",
       "      <td>5</td>\n",
       "    </tr>\n",
       "    <tr>\n",
       "      <th>3</th>\n",
       "      <td>NaN</td>\n",
       "      <td>3.0</td>\n",
       "      <td>NaN</td>\n",
       "      <td>4</td>\n",
       "    </tr>\n",
       "    <tr>\n",
       "      <th>4</th>\n",
       "      <td>1.0</td>\n",
       "      <td>3.0</td>\n",
       "      <td>2.0</td>\n",
       "      <td>4</td>\n",
       "    </tr>\n",
       "  </tbody>\n",
       "</table>\n",
       "</div>"
      ],
      "text/plain": [
       "     A    B    C  D\n",
       "0  NaN  2.0  NaN  0\n",
       "1  3.0  4.0  NaN  1\n",
       "2  NaN  NaN  NaN  5\n",
       "3  NaN  3.0  NaN  4\n",
       "4  1.0  3.0  2.0  4"
      ]
     },
     "execution_count": 14,
     "metadata": {},
     "output_type": "execute_result"
    }
   ],
   "source": [
    "emental_dataframe = pd.DataFrame([\n",
    "                        [np.nan, 2, np.nan, 0],\n",
    "                        [3, 4, np.nan, 1],\n",
    "                        [np.nan, np.nan, np.nan, 5],\n",
    "                        [np.nan, 3, np.nan, 4],\n",
    "                        [1, 3, 2, 4],\n",
    "                        ],\n",
    "                        columns=list('ABCD'))\n",
    "emental_dataframe"
   ]
  },
  {
   "cell_type": "code",
   "execution_count": 15,
   "metadata": {
    "ExecuteTime": {
     "end_time": "2020-10-29T19:43:33.021745Z",
     "start_time": "2020-10-29T19:43:32.774363Z"
    }
   },
   "outputs": [
    {
     "data": {
      "text/html": [
       "<div>\n",
       "<style scoped>\n",
       "    .dataframe tbody tr th:only-of-type {\n",
       "        vertical-align: middle;\n",
       "    }\n",
       "\n",
       "    .dataframe tbody tr th {\n",
       "        vertical-align: top;\n",
       "    }\n",
       "\n",
       "    .dataframe thead th {\n",
       "        text-align: right;\n",
       "    }\n",
       "</style>\n",
       "<table border=\"1\" class=\"dataframe\">\n",
       "  <thead>\n",
       "    <tr style=\"text-align: right;\">\n",
       "      <th></th>\n",
       "      <th>A</th>\n",
       "      <th>B</th>\n",
       "      <th>C</th>\n",
       "      <th>D</th>\n",
       "    </tr>\n",
       "  </thead>\n",
       "  <tbody>\n",
       "    <tr>\n",
       "      <th>4</th>\n",
       "      <td>1.0</td>\n",
       "      <td>3.0</td>\n",
       "      <td>2.0</td>\n",
       "      <td>4</td>\n",
       "    </tr>\n",
       "  </tbody>\n",
       "</table>\n",
       "</div>"
      ],
      "text/plain": [
       "     A    B    C  D\n",
       "4  1.0  3.0  2.0  4"
      ]
     },
     "execution_count": 15,
     "metadata": {},
     "output_type": "execute_result"
    }
   ],
   "source": [
    "emental_dataframe.dropna(axis=0, how=\"any\")"
   ]
  },
  {
   "cell_type": "markdown",
   "metadata": {},
   "source": [
    "V některých případech víme, že Null hodnota businessově znamená číslo nula. Jindy se zase jedná o překlep a tudíž by se na ono míst měla vložit průměrná hodnota sloupce. K tomu slouží funkce pandas.fillna. Ta opět potřebuje specifikovat, yda chceme doplňovat prázdná pole podle sloucpů či řádků (parametr axis) a poté i doplňovanou hodnotu."
   ]
  },
  {
   "cell_type": "code",
   "execution_count": 16,
   "metadata": {
    "ExecuteTime": {
     "end_time": "2020-10-29T19:43:33.152974Z",
     "start_time": "2020-10-29T19:43:33.021745Z"
    }
   },
   "outputs": [
    {
     "data": {
      "text/html": [
       "<div>\n",
       "<style scoped>\n",
       "    .dataframe tbody tr th:only-of-type {\n",
       "        vertical-align: middle;\n",
       "    }\n",
       "\n",
       "    .dataframe tbody tr th {\n",
       "        vertical-align: top;\n",
       "    }\n",
       "\n",
       "    .dataframe thead th {\n",
       "        text-align: right;\n",
       "    }\n",
       "</style>\n",
       "<table border=\"1\" class=\"dataframe\">\n",
       "  <thead>\n",
       "    <tr style=\"text-align: right;\">\n",
       "      <th></th>\n",
       "      <th>A</th>\n",
       "      <th>B</th>\n",
       "      <th>C</th>\n",
       "      <th>D</th>\n",
       "    </tr>\n",
       "  </thead>\n",
       "  <tbody>\n",
       "    <tr>\n",
       "      <th>0</th>\n",
       "      <td>2.0</td>\n",
       "      <td>2.0</td>\n",
       "      <td>NaN</td>\n",
       "      <td>0</td>\n",
       "    </tr>\n",
       "    <tr>\n",
       "      <th>1</th>\n",
       "      <td>3.0</td>\n",
       "      <td>4.0</td>\n",
       "      <td>NaN</td>\n",
       "      <td>1</td>\n",
       "    </tr>\n",
       "    <tr>\n",
       "      <th>2</th>\n",
       "      <td>2.0</td>\n",
       "      <td>NaN</td>\n",
       "      <td>NaN</td>\n",
       "      <td>5</td>\n",
       "    </tr>\n",
       "    <tr>\n",
       "      <th>3</th>\n",
       "      <td>2.0</td>\n",
       "      <td>3.0</td>\n",
       "      <td>NaN</td>\n",
       "      <td>4</td>\n",
       "    </tr>\n",
       "    <tr>\n",
       "      <th>4</th>\n",
       "      <td>1.0</td>\n",
       "      <td>3.0</td>\n",
       "      <td>2.0</td>\n",
       "      <td>4</td>\n",
       "    </tr>\n",
       "  </tbody>\n",
       "</table>\n",
       "</div>"
      ],
      "text/plain": [
       "     A    B    C  D\n",
       "0  2.0  2.0  NaN  0\n",
       "1  3.0  4.0  NaN  1\n",
       "2  2.0  NaN  NaN  5\n",
       "3  2.0  3.0  NaN  4\n",
       "4  1.0  3.0  2.0  4"
      ]
     },
     "execution_count": 16,
     "metadata": {},
     "output_type": "execute_result"
    }
   ],
   "source": [
    "emental_dataframe[\"A\"] = emental_dataframe[[\"A\"]].fillna(\n",
    "    axis=1,\n",
    "    value=np.mean(emental_dataframe[\"A\"])\n",
    ")\n",
    "emental_dataframe"
   ]
  },
  {
   "cell_type": "markdown",
   "metadata": {},
   "source": [
    "## One-hot encoding\n",
    "One-hot encoding budeme demonstrovat na pro ten účel vzniklé kopii kosatcového dataframu. Tu si vytvoříme pomocí metody copy navázaná na zmíněný dataframe. Tímto způsobem získáme hard a ne shallow kopii. To znamená, že opravdu vzniká nový dataframe a nikoli jen nová reference na stejná podkladová data. V následujícím kroku totiž budeme dataframe upravovat a nechceme, aby se změny propsaly do originální tabulky.  \n",
    "Představme si, že by sloupec target nebyl sloupcem cílovým, nýbrž by se jednalo pouze o jeden z řady prediktorů. V takovém případě bychom tento kategorický sloupec musely převést na trojici sloupců říkajících, zda je daný exemplář rostliny typu setosa, versicolor či verginica. Aby byla situace ještě názornější, změníme napřed hodnoty v target sloupci z čísla na odpovídající textový řetězec a to sice s použitím loc.  \n",
    "Zdůrazněme, že u cílového sloupce takováto operace nedává žádný smysl. U něj se očekává, že v něm budou integery zastupujícící všechny třídy. Dokonce by zde ani nevadilo, kdyby třídy byly vyjádřeny stringy - ML algoritmy z sklearnu by se s tím měly popasovat."
   ]
  },
  {
   "cell_type": "code",
   "execution_count": 17,
   "metadata": {
    "ExecuteTime": {
     "end_time": "2020-10-29T19:43:33.290983Z",
     "start_time": "2020-10-29T19:43:33.152974Z"
    }
   },
   "outputs": [
    {
     "data": {
      "text/html": [
       "<div>\n",
       "<style scoped>\n",
       "    .dataframe tbody tr th:only-of-type {\n",
       "        vertical-align: middle;\n",
       "    }\n",
       "\n",
       "    .dataframe tbody tr th {\n",
       "        vertical-align: top;\n",
       "    }\n",
       "\n",
       "    .dataframe thead th {\n",
       "        text-align: right;\n",
       "    }\n",
       "</style>\n",
       "<table border=\"1\" class=\"dataframe\">\n",
       "  <thead>\n",
       "    <tr style=\"text-align: right;\">\n",
       "      <th></th>\n",
       "      <th>sepal length (cm)</th>\n",
       "      <th>sepal width (cm)</th>\n",
       "      <th>petal length (cm)</th>\n",
       "      <th>petal width (cm)</th>\n",
       "      <th>target</th>\n",
       "    </tr>\n",
       "  </thead>\n",
       "  <tbody>\n",
       "    <tr>\n",
       "      <th>109</th>\n",
       "      <td>7.2</td>\n",
       "      <td>3.6</td>\n",
       "      <td>6.1</td>\n",
       "      <td>2.5</td>\n",
       "      <td>iris verginica</td>\n",
       "    </tr>\n",
       "    <tr>\n",
       "      <th>99</th>\n",
       "      <td>5.7</td>\n",
       "      <td>2.8</td>\n",
       "      <td>4.1</td>\n",
       "      <td>1.3</td>\n",
       "      <td>iris versicolor</td>\n",
       "    </tr>\n",
       "    <tr>\n",
       "      <th>6</th>\n",
       "      <td>4.6</td>\n",
       "      <td>3.4</td>\n",
       "      <td>1.4</td>\n",
       "      <td>0.3</td>\n",
       "      <td>iris setosa</td>\n",
       "    </tr>\n",
       "    <tr>\n",
       "      <th>38</th>\n",
       "      <td>4.4</td>\n",
       "      <td>3.0</td>\n",
       "      <td>1.3</td>\n",
       "      <td>0.2</td>\n",
       "      <td>iris setosa</td>\n",
       "    </tr>\n",
       "    <tr>\n",
       "      <th>93</th>\n",
       "      <td>5.0</td>\n",
       "      <td>2.3</td>\n",
       "      <td>3.3</td>\n",
       "      <td>1.0</td>\n",
       "      <td>iris versicolor</td>\n",
       "    </tr>\n",
       "    <tr>\n",
       "      <th>30</th>\n",
       "      <td>4.8</td>\n",
       "      <td>3.1</td>\n",
       "      <td>1.6</td>\n",
       "      <td>0.2</td>\n",
       "      <td>iris setosa</td>\n",
       "    </tr>\n",
       "    <tr>\n",
       "      <th>92</th>\n",
       "      <td>5.8</td>\n",
       "      <td>2.6</td>\n",
       "      <td>4.0</td>\n",
       "      <td>1.2</td>\n",
       "      <td>iris versicolor</td>\n",
       "    </tr>\n",
       "    <tr>\n",
       "      <th>148</th>\n",
       "      <td>6.2</td>\n",
       "      <td>3.4</td>\n",
       "      <td>5.4</td>\n",
       "      <td>2.3</td>\n",
       "      <td>iris verginica</td>\n",
       "    </tr>\n",
       "    <tr>\n",
       "      <th>44</th>\n",
       "      <td>5.1</td>\n",
       "      <td>3.8</td>\n",
       "      <td>1.9</td>\n",
       "      <td>0.4</td>\n",
       "      <td>iris setosa</td>\n",
       "    </tr>\n",
       "    <tr>\n",
       "      <th>15</th>\n",
       "      <td>5.7</td>\n",
       "      <td>4.4</td>\n",
       "      <td>1.5</td>\n",
       "      <td>0.4</td>\n",
       "      <td>iris setosa</td>\n",
       "    </tr>\n",
       "  </tbody>\n",
       "</table>\n",
       "</div>"
      ],
      "text/plain": [
       "     sepal length (cm)  sepal width (cm)  petal length (cm)  petal width (cm)  \\\n",
       "109                7.2               3.6                6.1               2.5   \n",
       "99                 5.7               2.8                4.1               1.3   \n",
       "6                  4.6               3.4                1.4               0.3   \n",
       "38                 4.4               3.0                1.3               0.2   \n",
       "93                 5.0               2.3                3.3               1.0   \n",
       "30                 4.8               3.1                1.6               0.2   \n",
       "92                 5.8               2.6                4.0               1.2   \n",
       "148                6.2               3.4                5.4               2.3   \n",
       "44                 5.1               3.8                1.9               0.4   \n",
       "15                 5.7               4.4                1.5               0.4   \n",
       "\n",
       "              target  \n",
       "109   iris verginica  \n",
       "99   iris versicolor  \n",
       "6        iris setosa  \n",
       "38       iris setosa  \n",
       "93   iris versicolor  \n",
       "30       iris setosa  \n",
       "92   iris versicolor  \n",
       "148   iris verginica  \n",
       "44       iris setosa  \n",
       "15       iris setosa  "
      ]
     },
     "execution_count": 17,
     "metadata": {},
     "output_type": "execute_result"
    }
   ],
   "source": [
    "encoding_iris = iris_dataframe.copy()\n",
    "encoding_iris.loc[encoding_iris[\"target\"]==0, \"target\"] = \"iris setosa\"\n",
    "encoding_iris.loc[encoding_iris[\"target\"]==1, \"target\"] = \"iris versicolor\"\n",
    "encoding_iris.loc[encoding_iris[\"target\"]==2, \"target\"] = \"iris verginica\"\n",
    "encoding_iris.sample(10)"
   ]
  },
  {
   "cell_type": "markdown",
   "metadata": {},
   "source": [
    "Jak tedy převod jednoho sloupce stringového na tři sloupce binární provedeme? Nejprve si vytvoříme one hot encoderovský objekt. U něho posléze zavoláme jeho metodu fit_transform. Té jako parametr předáme sloupec původní tabulky, na němž chceme one-hot encoding provést. Nakonec je třeba tabulku původní a nové sloupce na sebe nalepit. To provedeme pomocí funkce pandas.concat. Ta zde pravda vypadá trochu strašidelně. Tato funkce dostává dva parametry - prvním je list na sebe lepených dataframů, druhým je axis říkající, zda se ony dataframy budou lepit jeden pod druhý (tj. přibudou řádky), anebo jeden vedle druhého (tj. přibudou sloupce). My chceme pro stejný počet řádků mít více sloupců, volíme tudíž hodnotu parametru axis rovnou jedné.  \n",
    "Nicméně abychom mohli produkt one-hot encoderu vložit do listu dataframů, musíme z něj dataframe napřed udělat. Výstupem funkce fit_transform je totiž pouze numpy.array. Jeho převod je naštěstí jednoduchý - stačí ho vložit do konstruktoru pandího dataframu. Do tohoto konstruktoru navíc vložíme i jména nových sloupců, které encoder též poskytuje.  "
   ]
  },
  {
   "cell_type": "code",
   "execution_count": 18,
   "metadata": {
    "ExecuteTime": {
     "end_time": "2020-10-29T19:43:33.522731Z",
     "start_time": "2020-10-29T19:43:33.290983Z"
    }
   },
   "outputs": [
    {
     "data": {
      "text/html": [
       "<div>\n",
       "<style scoped>\n",
       "    .dataframe tbody tr th:only-of-type {\n",
       "        vertical-align: middle;\n",
       "    }\n",
       "\n",
       "    .dataframe tbody tr th {\n",
       "        vertical-align: top;\n",
       "    }\n",
       "\n",
       "    .dataframe thead th {\n",
       "        text-align: right;\n",
       "    }\n",
       "</style>\n",
       "<table border=\"1\" class=\"dataframe\">\n",
       "  <thead>\n",
       "    <tr style=\"text-align: right;\">\n",
       "      <th></th>\n",
       "      <th>sepal length (cm)</th>\n",
       "      <th>sepal width (cm)</th>\n",
       "      <th>petal length (cm)</th>\n",
       "      <th>petal width (cm)</th>\n",
       "      <th>target</th>\n",
       "      <th>x0_iris setosa</th>\n",
       "      <th>x0_iris verginica</th>\n",
       "      <th>x0_iris versicolor</th>\n",
       "    </tr>\n",
       "  </thead>\n",
       "  <tbody>\n",
       "    <tr>\n",
       "      <th>89</th>\n",
       "      <td>5.5</td>\n",
       "      <td>2.5</td>\n",
       "      <td>4.0</td>\n",
       "      <td>1.3</td>\n",
       "      <td>iris versicolor</td>\n",
       "      <td>0.0</td>\n",
       "      <td>0.0</td>\n",
       "      <td>1.0</td>\n",
       "    </tr>\n",
       "    <tr>\n",
       "      <th>130</th>\n",
       "      <td>7.4</td>\n",
       "      <td>2.8</td>\n",
       "      <td>6.1</td>\n",
       "      <td>1.9</td>\n",
       "      <td>iris verginica</td>\n",
       "      <td>0.0</td>\n",
       "      <td>1.0</td>\n",
       "      <td>0.0</td>\n",
       "    </tr>\n",
       "    <tr>\n",
       "      <th>68</th>\n",
       "      <td>6.2</td>\n",
       "      <td>2.2</td>\n",
       "      <td>4.5</td>\n",
       "      <td>1.5</td>\n",
       "      <td>iris versicolor</td>\n",
       "      <td>0.0</td>\n",
       "      <td>0.0</td>\n",
       "      <td>1.0</td>\n",
       "    </tr>\n",
       "    <tr>\n",
       "      <th>111</th>\n",
       "      <td>6.4</td>\n",
       "      <td>2.7</td>\n",
       "      <td>5.3</td>\n",
       "      <td>1.9</td>\n",
       "      <td>iris verginica</td>\n",
       "      <td>0.0</td>\n",
       "      <td>1.0</td>\n",
       "      <td>0.0</td>\n",
       "    </tr>\n",
       "    <tr>\n",
       "      <th>117</th>\n",
       "      <td>7.7</td>\n",
       "      <td>3.8</td>\n",
       "      <td>6.7</td>\n",
       "      <td>2.2</td>\n",
       "      <td>iris verginica</td>\n",
       "      <td>0.0</td>\n",
       "      <td>1.0</td>\n",
       "      <td>0.0</td>\n",
       "    </tr>\n",
       "    <tr>\n",
       "      <th>1</th>\n",
       "      <td>4.9</td>\n",
       "      <td>3.0</td>\n",
       "      <td>1.4</td>\n",
       "      <td>0.2</td>\n",
       "      <td>iris setosa</td>\n",
       "      <td>1.0</td>\n",
       "      <td>0.0</td>\n",
       "      <td>0.0</td>\n",
       "    </tr>\n",
       "    <tr>\n",
       "      <th>96</th>\n",
       "      <td>5.7</td>\n",
       "      <td>2.9</td>\n",
       "      <td>4.2</td>\n",
       "      <td>1.3</td>\n",
       "      <td>iris versicolor</td>\n",
       "      <td>0.0</td>\n",
       "      <td>0.0</td>\n",
       "      <td>1.0</td>\n",
       "    </tr>\n",
       "    <tr>\n",
       "      <th>69</th>\n",
       "      <td>5.6</td>\n",
       "      <td>2.5</td>\n",
       "      <td>3.9</td>\n",
       "      <td>1.1</td>\n",
       "      <td>iris versicolor</td>\n",
       "      <td>0.0</td>\n",
       "      <td>0.0</td>\n",
       "      <td>1.0</td>\n",
       "    </tr>\n",
       "    <tr>\n",
       "      <th>124</th>\n",
       "      <td>6.7</td>\n",
       "      <td>3.3</td>\n",
       "      <td>5.7</td>\n",
       "      <td>2.1</td>\n",
       "      <td>iris verginica</td>\n",
       "      <td>0.0</td>\n",
       "      <td>1.0</td>\n",
       "      <td>0.0</td>\n",
       "    </tr>\n",
       "    <tr>\n",
       "      <th>109</th>\n",
       "      <td>7.2</td>\n",
       "      <td>3.6</td>\n",
       "      <td>6.1</td>\n",
       "      <td>2.5</td>\n",
       "      <td>iris verginica</td>\n",
       "      <td>0.0</td>\n",
       "      <td>1.0</td>\n",
       "      <td>0.0</td>\n",
       "    </tr>\n",
       "  </tbody>\n",
       "</table>\n",
       "</div>"
      ],
      "text/plain": [
       "     sepal length (cm)  sepal width (cm)  petal length (cm)  petal width (cm)  \\\n",
       "89                 5.5               2.5                4.0               1.3   \n",
       "130                7.4               2.8                6.1               1.9   \n",
       "68                 6.2               2.2                4.5               1.5   \n",
       "111                6.4               2.7                5.3               1.9   \n",
       "117                7.7               3.8                6.7               2.2   \n",
       "1                  4.9               3.0                1.4               0.2   \n",
       "96                 5.7               2.9                4.2               1.3   \n",
       "69                 5.6               2.5                3.9               1.1   \n",
       "124                6.7               3.3                5.7               2.1   \n",
       "109                7.2               3.6                6.1               2.5   \n",
       "\n",
       "              target  x0_iris setosa  x0_iris verginica  x0_iris versicolor  \n",
       "89   iris versicolor             0.0                0.0                 1.0  \n",
       "130   iris verginica             0.0                1.0                 0.0  \n",
       "68   iris versicolor             0.0                0.0                 1.0  \n",
       "111   iris verginica             0.0                1.0                 0.0  \n",
       "117   iris verginica             0.0                1.0                 0.0  \n",
       "1        iris setosa             1.0                0.0                 0.0  \n",
       "96   iris versicolor             0.0                0.0                 1.0  \n",
       "69   iris versicolor             0.0                0.0                 1.0  \n",
       "124   iris verginica             0.0                1.0                 0.0  \n",
       "109   iris verginica             0.0                1.0                 0.0  "
      ]
     },
     "execution_count": 18,
     "metadata": {},
     "output_type": "execute_result"
    }
   ],
   "source": [
    "normal_encoder = OneHotEncoder()\n",
    "transformed_flower_name = normal_encoder.fit_transform(encoding_iris[[\"target\"]])\n",
    "whole_table = pd.concat(\n",
    "    [\n",
    "        encoding_iris, \n",
    "        pd.DataFrame(\n",
    "            transformed_flower_name.toarray(), \n",
    "            columns=normal_encoder.get_feature_names().tolist()\n",
    "        )\n",
    "    ], \n",
    "    axis=1\n",
    ")\n",
    "whole_table.sample(10)"
   ]
  },
  {
   "cell_type": "markdown",
   "metadata": {},
   "source": [
    "Všimněme si jmen nových sloupců. V jejich druhé části je jméno kategorie, část první se ale skládá z nejasného \"x0\". Co dělat, když chceme \"x0\", \"x1\" atd. nahradit za jména původních encodovaných sloupců? V takovém případě se musí do funkce get_feature_name vložit seznam sloupců encodovaného dataframu:"
   ]
  },
  {
   "cell_type": "code",
   "execution_count": 19,
   "metadata": {
    "ExecuteTime": {
     "end_time": "2020-10-29T19:43:33.623093Z",
     "start_time": "2020-10-29T19:43:33.522731Z"
    }
   },
   "outputs": [
    {
     "data": {
      "text/html": [
       "<div>\n",
       "<style scoped>\n",
       "    .dataframe tbody tr th:only-of-type {\n",
       "        vertical-align: middle;\n",
       "    }\n",
       "\n",
       "    .dataframe tbody tr th {\n",
       "        vertical-align: top;\n",
       "    }\n",
       "\n",
       "    .dataframe thead th {\n",
       "        text-align: right;\n",
       "    }\n",
       "</style>\n",
       "<table border=\"1\" class=\"dataframe\">\n",
       "  <thead>\n",
       "    <tr style=\"text-align: right;\">\n",
       "      <th></th>\n",
       "      <th>sepal length (cm)</th>\n",
       "      <th>sepal width (cm)</th>\n",
       "      <th>petal length (cm)</th>\n",
       "      <th>petal width (cm)</th>\n",
       "      <th>target</th>\n",
       "      <th>target_iris setosa</th>\n",
       "      <th>target_iris verginica</th>\n",
       "      <th>target_iris versicolor</th>\n",
       "    </tr>\n",
       "  </thead>\n",
       "  <tbody>\n",
       "    <tr>\n",
       "      <th>89</th>\n",
       "      <td>5.5</td>\n",
       "      <td>2.5</td>\n",
       "      <td>4.0</td>\n",
       "      <td>1.3</td>\n",
       "      <td>iris versicolor</td>\n",
       "      <td>0.0</td>\n",
       "      <td>0.0</td>\n",
       "      <td>1.0</td>\n",
       "    </tr>\n",
       "    <tr>\n",
       "      <th>76</th>\n",
       "      <td>6.8</td>\n",
       "      <td>2.8</td>\n",
       "      <td>4.8</td>\n",
       "      <td>1.4</td>\n",
       "      <td>iris versicolor</td>\n",
       "      <td>0.0</td>\n",
       "      <td>0.0</td>\n",
       "      <td>1.0</td>\n",
       "    </tr>\n",
       "    <tr>\n",
       "      <th>46</th>\n",
       "      <td>5.1</td>\n",
       "      <td>3.8</td>\n",
       "      <td>1.6</td>\n",
       "      <td>0.2</td>\n",
       "      <td>iris setosa</td>\n",
       "      <td>1.0</td>\n",
       "      <td>0.0</td>\n",
       "      <td>0.0</td>\n",
       "    </tr>\n",
       "    <tr>\n",
       "      <th>117</th>\n",
       "      <td>7.7</td>\n",
       "      <td>3.8</td>\n",
       "      <td>6.7</td>\n",
       "      <td>2.2</td>\n",
       "      <td>iris verginica</td>\n",
       "      <td>0.0</td>\n",
       "      <td>1.0</td>\n",
       "      <td>0.0</td>\n",
       "    </tr>\n",
       "    <tr>\n",
       "      <th>58</th>\n",
       "      <td>6.6</td>\n",
       "      <td>2.9</td>\n",
       "      <td>4.6</td>\n",
       "      <td>1.3</td>\n",
       "      <td>iris versicolor</td>\n",
       "      <td>0.0</td>\n",
       "      <td>0.0</td>\n",
       "      <td>1.0</td>\n",
       "    </tr>\n",
       "    <tr>\n",
       "      <th>52</th>\n",
       "      <td>6.9</td>\n",
       "      <td>3.1</td>\n",
       "      <td>4.9</td>\n",
       "      <td>1.5</td>\n",
       "      <td>iris versicolor</td>\n",
       "      <td>0.0</td>\n",
       "      <td>0.0</td>\n",
       "      <td>1.0</td>\n",
       "    </tr>\n",
       "    <tr>\n",
       "      <th>77</th>\n",
       "      <td>6.7</td>\n",
       "      <td>3.0</td>\n",
       "      <td>5.0</td>\n",
       "      <td>1.7</td>\n",
       "      <td>iris versicolor</td>\n",
       "      <td>0.0</td>\n",
       "      <td>0.0</td>\n",
       "      <td>1.0</td>\n",
       "    </tr>\n",
       "    <tr>\n",
       "      <th>73</th>\n",
       "      <td>6.1</td>\n",
       "      <td>2.8</td>\n",
       "      <td>4.7</td>\n",
       "      <td>1.2</td>\n",
       "      <td>iris versicolor</td>\n",
       "      <td>0.0</td>\n",
       "      <td>0.0</td>\n",
       "      <td>1.0</td>\n",
       "    </tr>\n",
       "    <tr>\n",
       "      <th>145</th>\n",
       "      <td>6.7</td>\n",
       "      <td>3.0</td>\n",
       "      <td>5.2</td>\n",
       "      <td>2.3</td>\n",
       "      <td>iris verginica</td>\n",
       "      <td>0.0</td>\n",
       "      <td>1.0</td>\n",
       "      <td>0.0</td>\n",
       "    </tr>\n",
       "    <tr>\n",
       "      <th>100</th>\n",
       "      <td>6.3</td>\n",
       "      <td>3.3</td>\n",
       "      <td>6.0</td>\n",
       "      <td>2.5</td>\n",
       "      <td>iris verginica</td>\n",
       "      <td>0.0</td>\n",
       "      <td>1.0</td>\n",
       "      <td>0.0</td>\n",
       "    </tr>\n",
       "  </tbody>\n",
       "</table>\n",
       "</div>"
      ],
      "text/plain": [
       "     sepal length (cm)  sepal width (cm)  petal length (cm)  petal width (cm)  \\\n",
       "89                 5.5               2.5                4.0               1.3   \n",
       "76                 6.8               2.8                4.8               1.4   \n",
       "46                 5.1               3.8                1.6               0.2   \n",
       "117                7.7               3.8                6.7               2.2   \n",
       "58                 6.6               2.9                4.6               1.3   \n",
       "52                 6.9               3.1                4.9               1.5   \n",
       "77                 6.7               3.0                5.0               1.7   \n",
       "73                 6.1               2.8                4.7               1.2   \n",
       "145                6.7               3.0                5.2               2.3   \n",
       "100                6.3               3.3                6.0               2.5   \n",
       "\n",
       "              target  target_iris setosa  target_iris verginica  \\\n",
       "89   iris versicolor                 0.0                    0.0   \n",
       "76   iris versicolor                 0.0                    0.0   \n",
       "46       iris setosa                 1.0                    0.0   \n",
       "117   iris verginica                 0.0                    1.0   \n",
       "58   iris versicolor                 0.0                    0.0   \n",
       "52   iris versicolor                 0.0                    0.0   \n",
       "77   iris versicolor                 0.0                    0.0   \n",
       "73   iris versicolor                 0.0                    0.0   \n",
       "145   iris verginica                 0.0                    1.0   \n",
       "100   iris verginica                 0.0                    1.0   \n",
       "\n",
       "     target_iris versicolor  \n",
       "89                      1.0  \n",
       "76                      1.0  \n",
       "46                      0.0  \n",
       "117                     0.0  \n",
       "58                      1.0  \n",
       "52                      1.0  \n",
       "77                      1.0  \n",
       "73                      1.0  \n",
       "145                     0.0  \n",
       "100                     0.0  "
      ]
     },
     "execution_count": 19,
     "metadata": {},
     "output_type": "execute_result"
    }
   ],
   "source": [
    "normal_encoder = OneHotEncoder()\n",
    "transformed_flower_name = normal_encoder.fit_transform(encoding_iris[[\"target\"]])\n",
    "whole_table = pd.concat(\n",
    "    [\n",
    "        encoding_iris, \n",
    "        pd.DataFrame(\n",
    "            transformed_flower_name.toarray(), \n",
    "            columns=normal_encoder.get_feature_names(encoding_iris[[\"target\"]].columns).tolist()\n",
    "        )\n",
    "    ], \n",
    "    axis=1\n",
    ")\n",
    "whole_table.sample(10)"
   ]
  },
  {
   "cell_type": "markdown",
   "metadata": {
    "ExecuteTime": {
     "end_time": "2020-10-12T19:22:11.159875Z",
     "start_time": "2020-10-12T19:22:11.119800Z"
    }
   },
   "source": [
    "Zamysleme se ještě nad výstupem encoderu. Z tabulky vidíme, že tři sloupce s jedničkami a nulami jsou zbytečné. Jamkile totiž známe hodnoty ve dvou sloupcích, snadnou úvahou dojdeme i k hodnotám ve sloupci třetím. Ještě markantnější to je v případě, kdy byl původní encodovaný sloupec binární. Zdůrazněme, že toto není pouze problém estetický, ale i praktický - některé algoritmy, například lineární regrese bez regularizace, by s takovýmito daty měli problém.  \n",
    "Jak takovouto situaci ošetřit? Do konstruktoru encoderu vložíme parametr drop s hodnotou buďto first anebo if_binary. \"first\" vyhodí první kategorii (a to i pokud je ve sloupci jen jedna kategorie), \"if_binary\" proveden takovéto vyhazování pouze pokud jsou ve zdrojovém sloupci dvě kategorie."
   ]
  },
  {
   "cell_type": "code",
   "execution_count": 20,
   "metadata": {
    "ExecuteTime": {
     "end_time": "2020-10-29T19:43:33.776855Z",
     "start_time": "2020-10-29T19:43:33.623093Z"
    }
   },
   "outputs": [
    {
     "data": {
      "text/html": [
       "<div>\n",
       "<style scoped>\n",
       "    .dataframe tbody tr th:only-of-type {\n",
       "        vertical-align: middle;\n",
       "    }\n",
       "\n",
       "    .dataframe tbody tr th {\n",
       "        vertical-align: top;\n",
       "    }\n",
       "\n",
       "    .dataframe thead th {\n",
       "        text-align: right;\n",
       "    }\n",
       "</style>\n",
       "<table border=\"1\" class=\"dataframe\">\n",
       "  <thead>\n",
       "    <tr style=\"text-align: right;\">\n",
       "      <th></th>\n",
       "      <th>sepal length (cm)</th>\n",
       "      <th>sepal width (cm)</th>\n",
       "      <th>petal length (cm)</th>\n",
       "      <th>petal width (cm)</th>\n",
       "      <th>target</th>\n",
       "      <th>x0_iris verginica</th>\n",
       "      <th>x0_iris versicolor</th>\n",
       "    </tr>\n",
       "  </thead>\n",
       "  <tbody>\n",
       "    <tr>\n",
       "      <th>53</th>\n",
       "      <td>5.5</td>\n",
       "      <td>2.3</td>\n",
       "      <td>4.0</td>\n",
       "      <td>1.3</td>\n",
       "      <td>iris versicolor</td>\n",
       "      <td>0.0</td>\n",
       "      <td>1.0</td>\n",
       "    </tr>\n",
       "    <tr>\n",
       "      <th>110</th>\n",
       "      <td>6.5</td>\n",
       "      <td>3.2</td>\n",
       "      <td>5.1</td>\n",
       "      <td>2.0</td>\n",
       "      <td>iris verginica</td>\n",
       "      <td>1.0</td>\n",
       "      <td>0.0</td>\n",
       "    </tr>\n",
       "    <tr>\n",
       "      <th>148</th>\n",
       "      <td>6.2</td>\n",
       "      <td>3.4</td>\n",
       "      <td>5.4</td>\n",
       "      <td>2.3</td>\n",
       "      <td>iris verginica</td>\n",
       "      <td>1.0</td>\n",
       "      <td>0.0</td>\n",
       "    </tr>\n",
       "    <tr>\n",
       "      <th>124</th>\n",
       "      <td>6.7</td>\n",
       "      <td>3.3</td>\n",
       "      <td>5.7</td>\n",
       "      <td>2.1</td>\n",
       "      <td>iris verginica</td>\n",
       "      <td>1.0</td>\n",
       "      <td>0.0</td>\n",
       "    </tr>\n",
       "    <tr>\n",
       "      <th>105</th>\n",
       "      <td>7.6</td>\n",
       "      <td>3.0</td>\n",
       "      <td>6.6</td>\n",
       "      <td>2.1</td>\n",
       "      <td>iris verginica</td>\n",
       "      <td>1.0</td>\n",
       "      <td>0.0</td>\n",
       "    </tr>\n",
       "    <tr>\n",
       "      <th>82</th>\n",
       "      <td>5.8</td>\n",
       "      <td>2.7</td>\n",
       "      <td>3.9</td>\n",
       "      <td>1.2</td>\n",
       "      <td>iris versicolor</td>\n",
       "      <td>0.0</td>\n",
       "      <td>1.0</td>\n",
       "    </tr>\n",
       "    <tr>\n",
       "      <th>77</th>\n",
       "      <td>6.7</td>\n",
       "      <td>3.0</td>\n",
       "      <td>5.0</td>\n",
       "      <td>1.7</td>\n",
       "      <td>iris versicolor</td>\n",
       "      <td>0.0</td>\n",
       "      <td>1.0</td>\n",
       "    </tr>\n",
       "    <tr>\n",
       "      <th>120</th>\n",
       "      <td>6.9</td>\n",
       "      <td>3.2</td>\n",
       "      <td>5.7</td>\n",
       "      <td>2.3</td>\n",
       "      <td>iris verginica</td>\n",
       "      <td>1.0</td>\n",
       "      <td>0.0</td>\n",
       "    </tr>\n",
       "    <tr>\n",
       "      <th>135</th>\n",
       "      <td>7.7</td>\n",
       "      <td>3.0</td>\n",
       "      <td>6.1</td>\n",
       "      <td>2.3</td>\n",
       "      <td>iris verginica</td>\n",
       "      <td>1.0</td>\n",
       "      <td>0.0</td>\n",
       "    </tr>\n",
       "    <tr>\n",
       "      <th>136</th>\n",
       "      <td>6.3</td>\n",
       "      <td>3.4</td>\n",
       "      <td>5.6</td>\n",
       "      <td>2.4</td>\n",
       "      <td>iris verginica</td>\n",
       "      <td>1.0</td>\n",
       "      <td>0.0</td>\n",
       "    </tr>\n",
       "  </tbody>\n",
       "</table>\n",
       "</div>"
      ],
      "text/plain": [
       "     sepal length (cm)  sepal width (cm)  petal length (cm)  petal width (cm)  \\\n",
       "53                 5.5               2.3                4.0               1.3   \n",
       "110                6.5               3.2                5.1               2.0   \n",
       "148                6.2               3.4                5.4               2.3   \n",
       "124                6.7               3.3                5.7               2.1   \n",
       "105                7.6               3.0                6.6               2.1   \n",
       "82                 5.8               2.7                3.9               1.2   \n",
       "77                 6.7               3.0                5.0               1.7   \n",
       "120                6.9               3.2                5.7               2.3   \n",
       "135                7.7               3.0                6.1               2.3   \n",
       "136                6.3               3.4                5.6               2.4   \n",
       "\n",
       "              target  x0_iris verginica  x0_iris versicolor  \n",
       "53   iris versicolor                0.0                 1.0  \n",
       "110   iris verginica                1.0                 0.0  \n",
       "148   iris verginica                1.0                 0.0  \n",
       "124   iris verginica                1.0                 0.0  \n",
       "105   iris verginica                1.0                 0.0  \n",
       "82   iris versicolor                0.0                 1.0  \n",
       "77   iris versicolor                0.0                 1.0  \n",
       "120   iris verginica                1.0                 0.0  \n",
       "135   iris verginica                1.0                 0.0  \n",
       "136   iris verginica                1.0                 0.0  "
      ]
     },
     "execution_count": 20,
     "metadata": {},
     "output_type": "execute_result"
    }
   ],
   "source": [
    "normal_encoder = OneHotEncoder(drop=\"first\")\n",
    "transformed_flower_name = normal_encoder.fit_transform(encoding_iris[[\"target\"]])\n",
    "whole_table = pd.concat(\n",
    "    [\n",
    "        encoding_iris, \n",
    "        pd.DataFrame(\n",
    "            transformed_flower_name.toarray(), \n",
    "            columns=normal_encoder.get_feature_names().tolist()\n",
    "        )\n",
    "    ], \n",
    "    axis=1\n",
    ")\n",
    "whole_table.sample(10)"
   ]
  },
  {
   "cell_type": "markdown",
   "metadata": {},
   "source": [
    "Hodnotami v encodovaném sloupci musí být čísla či stringy, ne však None. Tudíž následující kód by skončil chybou:\n",
    "```python\n",
    "encoding_iris.loc[0,\"target\"] = None\n",
    "\n",
    "normal_encoder = OneHotEncoder()\n",
    "transformed_flower_name = normal_encoder.fit_transform(encoding_iris[[\"target\"]])\n",
    "```"
   ]
  },
  {
   "cell_type": "markdown",
   "metadata": {},
   "source": [
    "Poznámka závěrem - ve starších verzích sklearnu (tuším před verzí 0.20) požadoval OneHotEncoder na vstupu sloupec s integrery. Když měl tak člověk sloupec se stringy, musel je navíc převést na čísla pomocí LabelEncoderu. Nyní už to naštěstí není potřeba, nicméně člověk by na to měl myslet, když musí pracovat se zastaralými verzemi knihoven."
   ]
  },
  {
   "cell_type": "markdown",
   "metadata": {},
   "source": [
    "A nakonec ještě jedna poznámka, snad už opravdu poslední. Na první pohled stejného výsledku by se dalo dosáhnout i pomocí pandasí funkce get_dummies. One-hot encoder má tu výhodu, že přetrvá i po prvním použití a dá se použít na transformaci dalších dat. Uvažme situaci, kdy bychom natrénovali model, od něhož bychom očekávali online predikci, kdy na jeho vstup dorazí jeden záznam za čas. V takovém případě get_dummies nebude vědět, jak má kategorii zpracovat, zatímco encoder si to bude pamatovat z trénování."
   ]
  },
  {
   "cell_type": "markdown",
   "metadata": {},
   "source": [
    "## Train-test splitting a K-folding\n",
    "Dejme tomu, že máme připravený dataframe a chceme na něj vypustit nějaký machine-learningový algoritmus. Abychom mohli posoudit, zda onen alogritmus pracuje správně, vyčleníme z dat několik náhodně vybraných záznamů - obvykle 20% či 10%. O této menší části dat hovoříme jako o testovací množině dat, zatímco zbytek spadá do trénovací množiny. S její pomocí natrénujeme ML model. Posléze vezmeme featury z vyčleněných záznamů, model předpoví targety a ty porovnáme s target sloupcem trénovací množiny. O tom více v sekcích věnovaných alogritmům.  \n",
    "Nyní vyvstává otázka, jak rozdělit data na trénovací a testovací. Nejjednoduššeji to jde s metodou train_test_split. Ta dostává na vstup sekvenci listů či pandích dataframů/sérií. Ty musí mít stejný počet prvků - to v případě kombinace listu a dataframu znamená, že počet prvků listu se musí rovnat počtu řádku dataframu. Další parametr - test_size - udává procentuální zastoupení trénovací množiny. Funkce každý vstupní element rozdělí na dva právě podle tohoto čísla. Zdůrazněme, že datový typ je zachován, tj. z dataframu vzniknou dataframy, ze serie série, z listu listy."
   ]
  },
  {
   "cell_type": "code",
   "execution_count": 21,
   "metadata": {
    "ExecuteTime": {
     "end_time": "2020-10-29T19:43:33.924434Z",
     "start_time": "2020-10-29T19:43:33.776855Z"
    }
   },
   "outputs": [
    {
     "name": "stdout",
     "output_type": "stream",
     "text": [
      "Shape of original dataframe: (150, 5)\n",
      "Shape of train_features: (120, 4)\n",
      "Shape of test_features: (30, 4)\n",
      "Shape of train_target: (120,)\n",
      "Shape of test_target: (30,)\n"
     ]
    }
   ],
   "source": [
    "train_features, test_features, train_target, test_target = \\\n",
    "    train_test_split(iris_dataframe.drop(\"target\", axis=1), iris_dataframe[\"target\"], test_size=0.2)\n",
    "print(f\"Shape of original dataframe: {iris_dataframe.shape}\")\n",
    "print(f\"Shape of train_features: {train_features.shape}\")\n",
    "print(f\"Shape of test_features: {test_features.shape}\")\n",
    "print(f\"Shape of train_target: {train_target.shape}\")\n",
    "print(f\"Shape of test_target: {test_target.shape}\")"
   ]
  },
  {
   "cell_type": "markdown",
   "metadata": {},
   "source": [
    "Jak je vidno z indexu dataframu, funkce train_test_split provádí náhodné rozdělení defaultně."
   ]
  },
  {
   "cell_type": "code",
   "execution_count": 22,
   "metadata": {
    "ExecuteTime": {
     "end_time": "2020-10-29T19:43:34.024415Z",
     "start_time": "2020-10-29T19:43:33.924434Z"
    }
   },
   "outputs": [
    {
     "data": {
      "text/html": [
       "<div>\n",
       "<style scoped>\n",
       "    .dataframe tbody tr th:only-of-type {\n",
       "        vertical-align: middle;\n",
       "    }\n",
       "\n",
       "    .dataframe tbody tr th {\n",
       "        vertical-align: top;\n",
       "    }\n",
       "\n",
       "    .dataframe thead th {\n",
       "        text-align: right;\n",
       "    }\n",
       "</style>\n",
       "<table border=\"1\" class=\"dataframe\">\n",
       "  <thead>\n",
       "    <tr style=\"text-align: right;\">\n",
       "      <th></th>\n",
       "      <th>sepal length (cm)</th>\n",
       "      <th>sepal width (cm)</th>\n",
       "      <th>petal length (cm)</th>\n",
       "      <th>petal width (cm)</th>\n",
       "    </tr>\n",
       "  </thead>\n",
       "  <tbody>\n",
       "    <tr>\n",
       "      <th>21</th>\n",
       "      <td>5.1</td>\n",
       "      <td>3.7</td>\n",
       "      <td>1.5</td>\n",
       "      <td>0.4</td>\n",
       "    </tr>\n",
       "    <tr>\n",
       "      <th>133</th>\n",
       "      <td>6.3</td>\n",
       "      <td>2.8</td>\n",
       "      <td>5.1</td>\n",
       "      <td>1.5</td>\n",
       "    </tr>\n",
       "    <tr>\n",
       "      <th>118</th>\n",
       "      <td>7.7</td>\n",
       "      <td>2.6</td>\n",
       "      <td>6.9</td>\n",
       "      <td>2.3</td>\n",
       "    </tr>\n",
       "    <tr>\n",
       "      <th>116</th>\n",
       "      <td>6.5</td>\n",
       "      <td>3.0</td>\n",
       "      <td>5.5</td>\n",
       "      <td>1.8</td>\n",
       "    </tr>\n",
       "    <tr>\n",
       "      <th>132</th>\n",
       "      <td>6.4</td>\n",
       "      <td>2.8</td>\n",
       "      <td>5.6</td>\n",
       "      <td>2.2</td>\n",
       "    </tr>\n",
       "  </tbody>\n",
       "</table>\n",
       "</div>"
      ],
      "text/plain": [
       "     sepal length (cm)  sepal width (cm)  petal length (cm)  petal width (cm)\n",
       "21                 5.1               3.7                1.5               0.4\n",
       "133                6.3               2.8                5.1               1.5\n",
       "118                7.7               2.6                6.9               2.3\n",
       "116                6.5               3.0                5.5               1.8\n",
       "132                6.4               2.8                5.6               2.2"
      ]
     },
     "execution_count": 22,
     "metadata": {},
     "output_type": "execute_result"
    }
   ],
   "source": [
    "train_features.head()"
   ]
  },
  {
   "cell_type": "markdown",
   "metadata": {},
   "source": [
    "Občas pouhopouhé rozdělení dat na trénovací a testovací nestačí. U určité algoritmy totiž nemají jen parametry, jejichž hodnoty model určí při trénování, ale i tzv. hyperparametry, které musí být určeny zvnějšku. Typické je to u \"ensamble\" algoritmu, které se skládají z hromady jednoduchých ML argoritmů, které o výsledné predikci pro ten který konkrétní záznam hlasují. Jedním z hyperparametrů takovýchto algoritmů je právě počet hlasujících. Pokud bychom zůstali v train-test modu, ladili bychom ony hyperparametry podle testovací množiny. Tato testovací množina by poté neměla význam pro konečné stanovení přenosti modelu, neboť jsme ji použili při samotném trénování modelu.  \n",
    "Co se tedy musí udělat? Původní data se rozdělí na trénovací a testovací. Trénovací data čeká ale další dělení na \"subtrénovací\" a validační množinu. Měníme hyperparametry, trénujeme model na subtrénovací množině a jeho prediktivní sílu určujeme jeho aplikací na validační množinu. Když jsme spokojeni (myšleno našli jsme optimální hodnotu hyperparametrů), natrénujeme model ještě jednou - tentokrát jsou trénovacími daty opravdu celá trénovací data (tj. subtrénovací i validační množina dohromady). Prediktivní síla získaná použitím modelu na testovací množinu se pak už může porovnávat s modely ostatními.  \n",
    "Problém tohoto postupu je skutečnost, že subtrénovací množina i množina validační jsou poměrně malé. Rosté tak vliv outlierů. Proto natrénování modelu na jedné validační množině nestačí - co kdyby v oné validační množině byl zrovna outlier, který zkazí statistiky optimálního modelu? Řešením je aplikace k-foldingu. Tehdy je prvotní trénovací množina rozdělena na k (nejčastěji k=10 či k=5) stejně velkých částí. Z nichž první až devátá část vytvoří subtrénovací množinu, desátá část validační množinu. Na těhcto datech se natrénuje model a získají se jeho statistiky. Posléze se na sformování subtrénovací množiny vezmou druhá a desátá část, validační množinu tvoří část první. Opět následuje trénování modelu a sběr statistik. Během deseti iterací se části prostřídají, tj. každá jednou funguje jako validační množina. Výsledná statistka pro konkrétní hyperparametr se pak vezme jako průměr deseti statistik z oněch proběhlých deseti iterací.  \n",
    "Jak s k-foldingem prakticky pracovat? Nejprve se musí vytvořit instace KFold objektu. Do konstruktoru se vloží počet částí, na které se vstupní data rozdělí (parametr n_splits), a to, zda chceme, aby byly záznamy do jednotlivých částí vloženy náhodně (shuffle=True) anebo popořadě (shuffle=False).  "
   ]
  },
  {
   "cell_type": "code",
   "execution_count": 23,
   "metadata": {
    "ExecuteTime": {
     "end_time": "2020-10-29T19:43:34.162647Z",
     "start_time": "2020-10-29T19:43:34.024415Z"
    }
   },
   "outputs": [],
   "source": [
    "k_fold = KFold(n_splits=10, shuffle=True)"
   ]
  },
  {
   "cell_type": "markdown",
   "metadata": {},
   "source": [
    "Samotná instance nic moc nedělá. Musí se zavolat funkce split. Ta na základě datframu, který se jí předá jako parrametr, vytvoří posloupnosti indexů pro subtrénovací a validační množinu:"
   ]
  },
  {
   "cell_type": "code",
   "execution_count": 24,
   "metadata": {
    "ExecuteTime": {
     "end_time": "2020-10-29T19:43:34.294339Z",
     "start_time": "2020-10-29T19:43:34.162647Z"
    }
   },
   "outputs": [
    {
     "name": "stdout",
     "output_type": "stream",
     "text": [
      "[  0   1   2   3   4   5   6   7   8   9  10  11  12  13  14  15  16  17\n",
      "  18  19  20  21  22  23  24  25  26  27  28  29  30  31  32  33  34  35\n",
      "  36  37  38  39  40  41  42  43  44  45  46  47  48  49  50  51  52  53\n",
      "  54  55  56  57  59  61  62  63  64  65  66  68  69  70  71  72  73  74\n",
      "  75  76  77  79  80  81  82  83  85  86  87  88  89  90  91  92  93  94\n",
      "  96  97  98  99 100 101 104 105 106 108 109 110 111 113 114 116 117 118\n",
      " 119 120 121 122 123 124 125 126 127 128 129 130 131 133 134 135 136 137\n",
      " 138 139 143 144 145 146 147 148 149] [ 58  60  67  78  84  95 102 103 107 112 115 132 140 141 142]\n",
      "[  0   1   3   4   5   6   7   8   9  10  11  12  13  15  16  18  19  20\n",
      "  21  22  24  25  26  27  28  29  30  31  32  33  34  35  36  37  38  39\n",
      "  40  42  44  46  48  49  50  51  53  54  55  56  57  58  59  60  61  62\n",
      "  63  64  65  66  67  68  69  71  72  73  74  75  76  77  78  79  80  81\n",
      "  82  83  84  85  86  87  88  89  91  92  93  94  95  96  97  99 100 101\n",
      " 102 103 105 106 107 108 109 110 111 112 113 114 115 116 117 118 119 120\n",
      " 121 122 123 124 125 126 128 129 130 131 132 133 134 135 136 137 138 139\n",
      " 140 141 142 144 145 146 147 148 149] [  2  14  17  23  41  43  45  47  52  70  90  98 104 127 143]\n",
      "[  0   1   2   3   4   5   6   8  10  14  17  18  19  20  21  23  24  25\n",
      "  26  27  28  29  30  31  32  33  34  35  36  37  38  40  41  42  43  44\n",
      "  45  46  47  48  49  50  51  52  53  54  55  56  57  58  59  60  61  62\n",
      "  63  64  65  66  67  68  69  70  71  72  73  74  75  76  77  78  79  80\n",
      "  81  82  83  84  85  86  87  88  89  90  92  93  94  95  96  98  99 100\n",
      " 101 102 103 104 105 106 107 109 110 111 112 113 114 115 116 117 118 119\n",
      " 120 121 122 123 124 125 126 127 129 130 131 132 133 135 136 138 139 140\n",
      " 141 142 143 144 145 146 147 148 149] [  7   9  11  12  13  15  16  22  39  91  97 108 128 134 137]\n",
      "[  0   1   2   4   5   7   8   9  10  11  12  13  14  15  16  17  18  19\n",
      "  20  21  22  23  24  25  26  27  29  30  31  32  33  34  35  36  37  38\n",
      "  39  40  41  42  43  44  45  46  47  48  49  50  52  53  54  55  56  57\n",
      "  58  60  61  62  63  64  65  66  67  68  69  70  71  72  73  75  76  77\n",
      "  78  79  80  81  82  83  84  86  87  90  91  92  93  94  95  96  97  98\n",
      "  99 100 101 102 103 104 105 106 107 108 109 111 112 113 114 115 116 117\n",
      " 118 119 120 121 123 124 125 127 128 129 130 131 132 133 134 135 137 139\n",
      " 140 141 142 143 144 145 146 148 149] [  3   6  28  51  59  74  85  88  89 110 122 126 136 138 147]\n",
      "[  0   1   2   3   4   5   6   7   8   9  10  11  12  13  14  15  16  17\n",
      "  18  19  20  21  22  23  24  25  26  27  28  29  30  31  32  33  34  35\n",
      "  36  37  39  40  41  42  43  44  45  46  47  48  49  50  51  52  53  54\n",
      "  56  57  58  59  60  61  62  63  64  65  66  67  69  70  71  73  74  77\n",
      "  78  79  80  81  82  83  84  85  86  88  89  90  91  92  93  94  95  97\n",
      "  98 101 102 103 104 106 107 108 109 110 112 113 114 115 116 118 119 120\n",
      " 121 122 123 125 126 127 128 129 130 131 132 133 134 135 136 137 138 139\n",
      " 140 141 142 143 144 146 147 148 149] [ 38  55  68  72  75  76  87  96  99 100 105 111 117 124 145]\n",
      "[  0   1   2   3   4   5   6   7   8   9  10  11  12  13  14  15  16  17\n",
      "  18  19  21  22  23  24  26  27  28  31  33  34  35  36  37  38  39  40\n",
      "  41  43  44  45  46  47  48  50  51  52  53  54  55  56  57  58  59  60\n",
      "  61  62  63  64  66  67  68  69  70  71  72  73  74  75  76  77  78  79\n",
      "  84  85  86  87  88  89  90  91  92  93  94  95  96  97  98  99 100 101\n",
      " 102 103 104 105 106 107 108 109 110 111 112 114 115 116 117 118 119 120\n",
      " 121 122 124 125 126 127 128 129 130 131 132 133 134 135 136 137 138 139\n",
      " 140 141 142 143 144 145 146 147 148] [ 20  25  29  30  32  42  49  65  80  81  82  83 113 123 149]\n",
      "[  0   1   2   3   4   6   7   8   9  10  11  12  13  14  15  16  17  18\n",
      "  20  21  22  23  24  25  27  28  29  30  31  32  33  34  35  36  38  39\n",
      "  41  42  43  44  45  46  47  48  49  50  51  52  54  55  56  58  59  60\n",
      "  62  63  64  65  66  67  68  69  70  71  72  73  74  75  76  77  78  79\n",
      "  80  81  82  83  84  85  86  87  88  89  90  91  95  96  97  98  99 100\n",
      " 102 103 104 105 106 107 108 109 110 111 112 113 114 115 116 117 118 119\n",
      " 120 121 122 123 124 125 126 127 128 130 131 132 133 134 136 137 138 139\n",
      " 140 141 142 143 145 146 147 148 149] [  5  19  26  37  40  53  57  61  92  93  94 101 129 135 144]\n",
      "[  0   2   3   4   5   6   7   9  11  12  13  14  15  16  17  18  19  20\n",
      "  22  23  24  25  26  27  28  29  30  31  32  33  34  36  37  38  39  40\n",
      "  41  42  43  44  45  46  47  48  49  51  52  53  55  56  57  58  59  60\n",
      "  61  62  63  64  65  67  68  70  72  74  75  76  77  78  79  80  81  82\n",
      "  83  84  85  87  88  89  90  91  92  93  94  95  96  97  98  99 100 101\n",
      " 102 103 104 105 106 107 108 109 110 111 112 113 115 116 117 118 119 120\n",
      " 121 122 123 124 125 126 127 128 129 130 132 133 134 135 136 137 138 139\n",
      " 140 141 142 143 144 145 147 148 149] [  1   8  10  21  35  50  54  66  69  71  73  86 114 131 146]\n",
      "[  0   1   2   3   4   5   6   7   8   9  10  11  12  13  14  15  16  17\n",
      "  19  20  21  22  23  24  25  26  28  29  30  32  33  35  36  37  38  39\n",
      "  40  41  42  43  44  45  47  49  50  51  52  53  54  55  56  57  58  59\n",
      "  60  61  62  63  64  65  66  67  68  69  70  71  72  73  74  75  76  78\n",
      "  80  81  82  83  84  85  86  87  88  89  90  91  92  93  94  95  96  97\n",
      "  98  99 100 101 102 103 104 105 106 107 108 110 111 112 113 114 115 116\n",
      " 117 119 122 123 124 125 126 127 128 129 131 132 133 134 135 136 137 138\n",
      " 140 141 142 143 144 145 146 147 149] [ 18  27  31  34  46  48  77  79 109 118 120 121 130 139 148]\n",
      "[  1   2   3   5   6   7   8   9  10  11  12  13  14  15  16  17  18  19\n",
      "  20  21  22  23  25  26  27  28  29  30  31  32  34  35  37  38  39  40\n",
      "  41  42  43  45  46  47  48  49  50  51  52  53  54  55  57  58  59  60\n",
      "  61  65  66  67  68  69  70  71  72  73  74  75  76  77  78  79  80  81\n",
      "  82  83  84  85  86  87  88  89  90  91  92  93  94  95  96  97  98  99\n",
      " 100 101 102 103 104 105 107 108 109 110 111 112 113 114 115 117 118 120\n",
      " 121 122 123 124 126 127 128 129 130 131 132 134 135 136 137 138 139 140\n",
      " 141 142 143 144 145 146 147 148 149] [  0   4  24  33  36  44  56  62  63  64 106 116 119 125 133]\n"
     ]
    }
   ],
   "source": [
    "for train_indices, test_indices in k_fold.split(iris_dataframe):\n",
    "    print(train_indices, test_indices)"
   ]
  },
  {
   "cell_type": "markdown",
   "metadata": {
    "ExecuteTime": {
     "end_time": "2020-10-13T19:20:18.751754Z",
     "start_time": "2020-10-13T19:20:18.736135Z"
    }
   },
   "source": [
    "Při faktickém použití by se pak tyto indexy v rámci for smyčky použily k vydělení záznamů z train dat vytvořených pomocí train_test_splitu:\n",
    "```python\n",
    "for train_indices, test_indices in k_fold.split(iris_dataframe):\n",
    "    subtrain_train_features = train_features.iloc[train_indices]\n",
    "    subtrain_test_features = train_features.iloc[test_indices]\n",
    "    subtrain_train_target = train_target.iloc[train_indices]\n",
    "    subtrain_test_target = train_target.iloc[test_indices]\n",
    "    #ML algorithm\n",
    "```"
   ]
  },
  {
   "cell_type": "markdown",
   "metadata": {},
   "source": [
    "## Škálování\n",
    "Představme si dataframe, ve kterém jsou dva predikční sloupce. V jednom je váha v kilogramech, v druhém délka v metrech. Existují algoritmy, pro které vstupní data v takovémto formátu nepředstavují problém (zejména se jedná o stromy a lesy). Většina algoritmů (neuronové sítě, K-means, ale třeba i regularizovaná lineární regrese...) s tím ale bude mít problém. Pokud bychom například v prediktorech měli výšku a váhu člověka, jak by mohl chudák počítač vědět, jestli jsi jsou podobnější záznamy o stejné výšce a váze lišící se o 1 kg, anebo záznamy o stejné váze a výšce lišící se o 1 m. A co kdyby výška nebyla v metrech, nýbrž třeba centimetrech? Proto se obvykle data škálují. Tím se myslí, že se hodnoty v jednom sloupci přepočítají tak, aby střední hodnota činila nulu a standardní odchylka byla rovná jedné. Díky tomu už budou hodnoty v sloupcích zastupujících odlišné věci provnatelné.  \n",
    "V některých případech škálování není doporučované. Jde zejména o binární sloupce, tj. sloupce vytvořené pomocí one-hot encodingu a obsahující pouze jedničky a nuly.  \n",
    "Podívejme se nejprve na to, jak vypadají data, na kterých budeme škálování zkoušet."
   ]
  },
  {
   "cell_type": "code",
   "execution_count": 25,
   "metadata": {
    "ExecuteTime": {
     "end_time": "2020-10-29T19:43:34.657550Z",
     "start_time": "2020-10-29T19:43:34.294339Z"
    }
   },
   "outputs": [
    {
     "data": {
      "image/png": "[encoded data removed]",
      "text/plain": [
       "<Figure size 360x360 with 1 Axes>"
      ]
     },
     "metadata": {
      "needs_background": "light"
     },
     "output_type": "display_data"
    }
   ],
   "source": [
    "sns.displot(iris_dataframe[\"petal length (cm)\"]);"
   ]
  },
  {
   "cell_type": "markdown",
   "metadata": {},
   "source": [
    "Použijme nejprve StandardScaler. Vidíme, že data jsou nyní vycentrovaná na nule a i šířka oblasti, ve které je najdeme, je užší."
   ]
  },
  {
   "cell_type": "code",
   "execution_count": 26,
   "metadata": {
    "ExecuteTime": {
     "end_time": "2020-10-29T19:43:35.143143Z",
     "start_time": "2020-10-29T19:43:34.657550Z"
    }
   },
   "outputs": [
    {
     "data": {
      "image/png": "[encoded data removed]",
      "text/plain": [
       "<Figure size 402.375x360 with 1 Axes>"
      ]
     },
     "metadata": {
      "needs_background": "light"
     },
     "output_type": "display_data"
    }
   ],
   "source": [
    "scaler_standard = StandardScaler()\n",
    "pet_len_scaled_standard = scaler_standard.fit_transform(iris_dataframe[[\"petal length (cm)\"]])\n",
    "sns.displot(pet_len_scaled_standard);"
   ]
  },
  {
   "cell_type": "markdown",
   "metadata": {},
   "source": [
    "Všimněte si, že byl vytvořen a nafitován scalovací objekt. Ten (resp. jeho metodu fit) bychom mohli použít na naškálování dalších dat. Toho se využívá při přípravě trénovacích a testovacích dat. Tyto dvě množiny dat totiž nemůžeme škálovat samosttně - v takoví případě by se totiž ztratila souvztažnost mezi daty, která existuje v neupravených hodnotách, ale která by byla vymazaná škálováním. Také není přípustné škálování dat před jejich rozdělením na trénovací a testovací množinu - v takoévm případě by testovací data mohla díky škálování ovlivnit podobu naškálovaných trénovacích dat a tudíž i modelu. Jediny správný postup je vytvořit škálovací objekt na základě trénovacích dat a tento objekt pak použít na naškálování jak trénovacích, tak testovacích záznamů.  \n",
    "Ze škálovacího objektu můžeme dostat parametry původních dat, tj. střední hodnotu a varianci, resp. standardní odchylku:"
   ]
  },
  {
   "cell_type": "code",
   "execution_count": 27,
   "metadata": {
    "ExecuteTime": {
     "end_time": "2020-10-29T19:43:35.158806Z",
     "start_time": "2020-10-29T19:43:35.143143Z"
    }
   },
   "outputs": [
    {
     "name": "stdout",
     "output_type": "stream",
     "text": [
      "Mean: [3.758]\n",
      "Variance: [3.09550267]\n",
      "Standard deviation: [1.75940407]\n"
     ]
    }
   ],
   "source": [
    "print(f\"Mean: {scaler_standard.mean_}\")\n",
    "print(f\"Variance: {scaler_standard.var_}\")\n",
    "print(f\"Standard deviation: {scaler_standard.scale_}\")"
   ]
  },
  {
   "cell_type": "markdown",
   "metadata": {},
   "source": [
    "Díky uložení těchto parametrů je možné provést i inverzní transformaci:"
   ]
  },
  {
   "cell_type": "code",
   "execution_count": 29,
   "metadata": {
    "ExecuteTime": {
     "end_time": "2020-10-29T19:47:40.288352Z",
     "start_time": "2020-10-29T19:47:40.019015Z"
    }
   },
   "outputs": [
    {
     "data": {
      "image/png": "[encoded data removed]",
      "text/plain": [
       "<Figure size 402.375x360 with 1 Axes>"
      ]
     },
     "metadata": {
      "needs_background": "light"
     },
     "output_type": "display_data"
    }
   ],
   "source": [
    "data_after_inverse = scaler_standard.inverse_transform(pet_len_scaled_standard)\n",
    "sns.displot(data_after_inverse);"
   ]
  },
  {
   "cell_type": "markdown",
   "metadata": {},
   "source": [
    "Existují i jiné škalovače neř ten založený na nulové střední hodnotě a jednotkové varianci. Například MinMaxScaler škáluje data tak, aby se při nezměněném tvaru jejich distribuce vešla mezi minimální a maximální hodnoty (defaultně 0 a 1). Škálování RubstScaleru je zase založeno na škálování na 25 a 75 percentil a tudíž je necitlivý na outliery. "
   ]
  },
  {
   "cell_type": "code",
   "execution_count": 31,
   "metadata": {
    "ExecuteTime": {
     "end_time": "2020-10-29T19:47:59.798277Z",
     "start_time": "2020-10-29T19:47:59.535185Z"
    }
   },
   "outputs": [
    {
     "data": {
      "image/png": "[encoded data removed]",
      "text/plain": [
       "<Figure size 402.375x360 with 1 Axes>"
      ]
     },
     "metadata": {
      "needs_background": "light"
     },
     "output_type": "display_data"
    }
   ],
   "source": [
    "scaler_minmax = MinMaxScaler()\n",
    "pet_len_scaled_minmax = scaler_minmax.fit_transform(iris_dataframe[[\"petal length (cm)\"]])\n",
    "sns.displot(pet_len_scaled_minmax);"
   ]
  },
  {
   "cell_type": "code",
   "execution_count": 32,
   "metadata": {
    "ExecuteTime": {
     "end_time": "2020-10-29T19:48:00.067837Z",
     "start_time": "2020-10-29T19:47:59.798277Z"
    }
   },
   "outputs": [
    {
     "data": {
      "image/png": "[encoded data removed]",
      "text/plain": [
       "<Figure size 402.375x360 with 1 Axes>"
      ]
     },
     "metadata": {
      "needs_background": "light"
     },
     "output_type": "display_data"
    }
   ],
   "source": [
    "scaler_robust = RobustScaler()\n",
    "pet_len_scaled_robust = scaler_robust.fit_transform(iris_dataframe[[\"petal length (cm)\"]])\n",
    "sns.displot(pet_len_scaled_robust);"
   ]
  },
  {
   "cell_type": "markdown",
   "metadata": {},
   "source": [
    "Kdy použít které škálování? Popravdě nemám dostatek zkušeností, abych tady mohl vynášet nějaké finální soudy. Ale asi se dá říct, že když jsou data zatížená outliery, má se použít RobustScaler, když mají data normální rozložení, tak StandrdScaler, a v ostatních případech MinMaxScaler."
   ]
  },
  {
   "cell_type": "markdown",
   "metadata": {},
   "source": [
    "Zmiňme ještě krátce normalizaci. Tento termín se občas volně zaměňuje se škálováním. Nicméně Normalizer, který je v rámci sklearnu k dispozici, se svou funkčností odlišuje od škálovacích objektů zmíněných výše. Působí totiž nikoli na sloupce, ale na řádky. Fakticky provádí normalizaci vektorů jednotlivých záznamů viz příklad níže. Využití spočívá asi hlavně s manipulaci s textem, kdy jendotlivé dokumenty budou reprezentvány řádky v dataframu. "
   ]
  },
  {
   "cell_type": "code",
   "execution_count": 33,
   "metadata": {
    "ExecuteTime": {
     "end_time": "2020-10-29T19:48:00.083460Z",
     "start_time": "2020-10-29T19:48:00.067837Z"
    }
   },
   "outputs": [
    {
     "data": {
      "text/html": [
       "<div>\n",
       "<style scoped>\n",
       "    .dataframe tbody tr th:only-of-type {\n",
       "        vertical-align: middle;\n",
       "    }\n",
       "\n",
       "    .dataframe tbody tr th {\n",
       "        vertical-align: top;\n",
       "    }\n",
       "\n",
       "    .dataframe thead th {\n",
       "        text-align: right;\n",
       "    }\n",
       "</style>\n",
       "<table border=\"1\" class=\"dataframe\">\n",
       "  <thead>\n",
       "    <tr style=\"text-align: right;\">\n",
       "      <th></th>\n",
       "      <th>column_1</th>\n",
       "      <th>column_2</th>\n",
       "      <th>column_3</th>\n",
       "    </tr>\n",
       "  </thead>\n",
       "  <tbody>\n",
       "    <tr>\n",
       "      <th>0</th>\n",
       "      <td>1</td>\n",
       "      <td>1</td>\n",
       "      <td>1</td>\n",
       "    </tr>\n",
       "    <tr>\n",
       "      <th>1</th>\n",
       "      <td>2</td>\n",
       "      <td>2</td>\n",
       "      <td>2</td>\n",
       "    </tr>\n",
       "    <tr>\n",
       "      <th>2</th>\n",
       "      <td>1</td>\n",
       "      <td>0</td>\n",
       "      <td>0</td>\n",
       "    </tr>\n",
       "    <tr>\n",
       "      <th>3</th>\n",
       "      <td>0</td>\n",
       "      <td>0</td>\n",
       "      <td>0</td>\n",
       "    </tr>\n",
       "  </tbody>\n",
       "</table>\n",
       "</div>"
      ],
      "text/plain": [
       "   column_1  column_2  column_3\n",
       "0         1         1         1\n",
       "1         2         2         2\n",
       "2         1         0         0\n",
       "3         0         0         0"
      ]
     },
     "execution_count": 33,
     "metadata": {},
     "output_type": "execute_result"
    }
   ],
   "source": [
    "column_1 = [1,2,1,0]\n",
    "column_2 = [1,2,0,0]\n",
    "column_3 = [1,2,0,0]\n",
    "dataframe_for_norm = pd.DataFrame({\n",
    "    \"column_1\": column_1,\n",
    "    \"column_2\": column_2,\n",
    "    \"column_3\": column_3,\n",
    "})\n",
    "dataframe_for_norm"
   ]
  },
  {
   "cell_type": "code",
   "execution_count": 34,
   "metadata": {
    "ExecuteTime": {
     "end_time": "2020-10-29T19:48:00.253188Z",
     "start_time": "2020-10-29T19:48:00.083460Z"
    }
   },
   "outputs": [
    {
     "data": {
      "text/plain": [
       "array([[0.57735027, 0.57735027, 0.57735027],\n",
       "       [0.57735027, 0.57735027, 0.57735027],\n",
       "       [1.        , 0.        , 0.        ],\n",
       "       [0.        , 0.        , 0.        ]])"
      ]
     },
     "execution_count": 34,
     "metadata": {},
     "output_type": "execute_result"
    }
   ],
   "source": [
    "normalizer = Normalizer()\n",
    "normalized_data = normalizer.fit_transform(dataframe_for_norm)\n",
    "normalized_data"
   ]
  },
  {
   "cell_type": "markdown",
   "metadata": {},
   "source": [
    "## Oversampling\n",
    "Představme si situaci, kdy máme v trénovacích datech 990 záznamů třídy 0 a 10 záznamů třídy 1. V takovém případě bude pro ML algoritmus nejsnazší prohlásit o každém testovacím záznamu, že patří taky do třídy 0 - přeci jen se splete jen ve velice malém počtu případů. Problém ale nastává, když je pro nás správné rozpoznání třídy 1 kritické. Řešením je použití oversamplingu. Principielně jde o to, že ML algoritmu při trénování poskytneme více záznamů minortní třídy, než jich v datech je. To se dá realizovat nejsnáze náhodným výběrem z množiny trénovacích dat o minoritní třídě s nahrazením. Existují i jiné, porkočilejší postupy, např. SMOTE. Jeho principem je v kontrastu k opakovanému vytahování stejných záznamů u předchozí metody vytváření umělých nových záznamů. To je ale už za rámec tohoto materiálu.  \n",
    "Pro realizaci onoho jednoduchého náhodného oversamplingu musíme importovat nový balíček - imblearn (=imbalanced learn), resp. jeho třídu RandomOverSampler. na instanci této třídy se zavolá metoda fit_resample obsahující prediktory a targety.  \n",
    "Nejprve si ale připravme nevybalancovaná data."
   ]
  },
  {
   "cell_type": "code",
   "execution_count": 35,
   "metadata": {
    "ExecuteTime": {
     "end_time": "2020-10-29T19:48:00.369143Z",
     "start_time": "2020-10-29T19:48:00.253188Z"
    }
   },
   "outputs": [
    {
     "data": {
      "text/plain": [
       "1    50\n",
       "0    50\n",
       "2     5\n",
       "Name: target, dtype: int64"
      ]
     },
     "execution_count": 35,
     "metadata": {},
     "output_type": "execute_result"
    }
   ],
   "source": [
    "iris_class_0 = iris_dataframe[iris_dataframe[\"target\"]==0]\n",
    "iris_class_1 = iris_dataframe[iris_dataframe[\"target\"]==1]\n",
    "iris_class_2 = iris_dataframe[iris_dataframe[\"target\"]==2].sample(5)\n",
    "iris_before_oversampling = pd.concat(\n",
    "    [iris_class_0, iris_class_1, iris_class_2],\n",
    "    axis=0\n",
    ")\n",
    "iris_before_oversampling[\"target\"].value_counts()"
   ]
  },
  {
   "cell_type": "markdown",
   "metadata": {},
   "source": [
    "Nyní realizujme uversampling."
   ]
  },
  {
   "cell_type": "code",
   "execution_count": 36,
   "metadata": {
    "ExecuteTime": {
     "end_time": "2020-10-29T19:48:03.945659Z",
     "start_time": "2020-10-29T19:48:00.369143Z"
    }
   },
   "outputs": [],
   "source": [
    "from imblearn.over_sampling import RandomOverSampler\n",
    "ros = RandomOverSampler()\n",
    "features_resampled, target_resampled = ros.fit_resample(\n",
    "    iris_before_oversampling.drop(\"target\", axis=1),\n",
    "    iris_before_oversampling[\"target\"]\n",
    ")"
   ]
  },
  {
   "cell_type": "markdown",
   "metadata": {},
   "source": [
    "Když se nyní podíváme na resamplovaná data, vidíme, že záznamů s prediktory i s targety je 150 a všechny třídy jsou zaastoupeny stejně."
   ]
  },
  {
   "cell_type": "code",
   "execution_count": 37,
   "metadata": {
    "ExecuteTime": {
     "end_time": "2020-10-29T19:48:03.967794Z",
     "start_time": "2020-10-29T19:48:03.945659Z"
    }
   },
   "outputs": [
    {
     "name": "stdout",
     "output_type": "stream",
     "text": [
      "Shape of resampled feature table: (150, 4)\n"
     ]
    },
    {
     "data": {
      "text/plain": [
       "Counter({0: 50, 1: 50, 2: 50})"
      ]
     },
     "execution_count": 37,
     "metadata": {},
     "output_type": "execute_result"
    }
   ],
   "source": [
    "import collections \n",
    "print(f\"Shape of resampled feature table: {features_resampled.shape}\")\n",
    "counter = collections.Counter(target_resampled)\n",
    "counter"
   ]
  },
  {
   "cell_type": "markdown",
   "metadata": {},
   "source": [
    "Zmiňme závěrem, že oversampling by se měl vypustit jen a pouze na data trénovací. Data testovací slouží na zjištění, jak se asi model bude chovat na reálných predikovaných záznamech a tudíž tato testovací data musí mít skutečnou distribuci predikovaných tříd."
   ]
  },
  {
   "cell_type": "markdown",
   "metadata": {},
   "source": [
    "# II. Algoritmy"
   ]
  },
  {
   "cell_type": "markdown",
   "metadata": {},
   "source": [
    "### Lineární regrese\n",
    "V případě lineární regrese se snažíme proložit trénovací záznamy alias body v N rozměrném prostoru vhodnou nadrovinou  \n",
    "$f(x)=w_0 + \\sum_{i=1}^{N-1} w_i x_i$  \n",
    "Zde $w_i$ jsou váhy, $x_i$ jednotlivé prediktory záznamu a N-1 počet prediktorů. Pakliže má prostor dimenzi dva, tj. záznamy mají pouze jeden prediktor a cíl, znamená to, že v 2D grafu prokládáme body přímkou. Relativně rozumných přímek/nadrovin bychom ale mohli vyrobit povícero. Jak poznat, která z nich je ta správná? Používá se metodika založená na mnimalizaci kvadrátů reziduí:  \n",
    "$\\sum_{j=1}^n(y_j - f(x_j))^2$    \n",
    "Reziduum je definované jako rozdíl hodnoty cíle a nadroviny po dosazení prediktorů záznamu, tj.  \n",
    "$r_j = y_j - f(x_j)$  \n",
    "Zde index j označuje jednotlivé záznamy alias body v grafu. V ideálním případě, kdy by všechny záznamy ležely na predikované nadrovině, by všechna rezidua byla nulová. Proč se musí minimalizovat suma jejich kvadrátu? Kdybychom minimalizovali sumu nijak neupravených reziduí, navzájem by se požíraly kladná a záporná residua. Tudíž je potřeba od nich odstranit znaménka. To se dá rovést například absolutní hodnotou, nebo právě kvadrátem. U něj bývá užitečné, že zdůrazňuje význam odlehlejších bodů. Samozřejmě to je výhodou pouze v případě, že ona odlehlé body jsou skutečné a nikoli outliery. Pokud nastane druhý případ, je nutné body vyhodit.  \n",
    "Na co si dát korm outlierů pozor?\n",
    "- lineární regrese je lineární. Proto snaha nafitovat dejme tomu parabolu pomocí funkce f(x) = $3x_1$+ $2x_2$ +3 nesknčí dobře. Samozřejmě si můžeme vyrobit další prediktor jako kvadrát původního prediktoru. Nicméně obvykle nevíme, zda/jak přesně nelineární závislost cíle na prediktorech je. Tudíž bychom museli pro každý prediktor i jejich kombinace dělam mocniny i odmocniny všelijakých řádů. Tím by se model zbytečně nafouknul do počtu prediktorů, jeho interpretovatelnost by poklesla a navíc by bylo explicitní přepočítávání prediktorů poněkud únavné.\n",
    "- lineární regrese nemá rádá korelaci prediktorů. Samozřejmě je ideální, pokud všechny prediktory co nejvíce korelují s cílem .Pokud ale korelují mezi sebou navzájem, znamená no, že do modelu přinášejí navíc omezenou novou informaci. Pokud by korelovaly na 100 %, například v případě zkopírovaného prediktoru, byla by nová informace v případě kopie nulová. To by sice vadit nemuselo, meziprediktorová korelace má ale reálně negativní vlvi na model. Výpočet jednotlivých koeficientů nadroviny má totiž tendenci v takovýchto případech selhat.\n",
    "- představme si, že máme 2D data, tj. jeden prediktor a jeden cíl. Hodnoty prediktoru jdou od 10 do 100. Na základě takovýchto dat vytvoříme model. Následně přijdou data k predikování, kde hodnota prediktoru bude kolem 1000. V takovém případě je model zjevně nepoužitelný, neboť se setkává s daty mimo svou oblast působnosti."
   ]
  },
  {
   "cell_type": "markdown",
   "metadata": {},
   "source": [
    "Nicméně jak bychom reálně lineární regresi provedli? Jedná se o regresní, nikoli klasifikační algoritmus, takže ji vypustíme na boston dataset. Data si nejprve naškálujeme. U čisté regrese to není bezpodmínečně nutné (narozdíl od lassa a ridge regrese - viz dále). Nicméně snáze díky tomu budeme moci interpretovat váhu jendotlivých prediktorů. "
   ]
  },
  {
   "cell_type": "code",
   "execution_count": 38,
   "metadata": {
    "ExecuteTime": {
     "end_time": "2020-10-29T19:48:04.115005Z",
     "start_time": "2020-10-29T19:48:03.967794Z"
    }
   },
   "outputs": [],
   "source": [
    "train_feat_boston, test_feat_boston, train_target_boston, test_target_boston = \\\n",
    "    train_test_split(boston_dataframe.drop(\"target\", axis=1), boston_dataframe[\"target\"], test_size=0.2)\n",
    "scaler_boston_minmax = MinMaxScaler()\n",
    "train_scal_feat_boston = pd.DataFrame(\n",
    "    scaler_boston_minmax.fit_transform(train_feat_boston),\n",
    "    columns=train_feat_boston.columns\n",
    ")\n",
    "test_scal_feat_boston = pd.DataFrame(\n",
    "    scaler_boston_minmax.transform(test_feat_boston),\n",
    "    columns=test_feat_boston.columns\n",
    ")"
   ]
  },
  {
   "cell_type": "markdown",
   "metadata": {},
   "source": [
    "Zkontrolujme, jak je to s korelací mezi jednotlivými prediktory. No, žádná sláva to není. Vidíme kupříkladu, že značištění silně kladně koreluje s přítomností průmyslu, stářím budov či zaplacenými daněmi (za to primárně může spíš ten průmysl), silně negativně pak s vzdáleností od \"Boston employment centres\". Za normálních okolností bychom asi některé sloupce vyhodili anebo předtvořily pomocí PCA (Principal Component Analysis). Nyní ale sloupce ponecháme tak, jak jsou."
   ]
  },
  {
   "cell_type": "code",
   "execution_count": 39,
   "metadata": {
    "ExecuteTime": {
     "end_time": "2020-10-29T19:48:04.246484Z",
     "start_time": "2020-10-29T19:48:04.115005Z"
    }
   },
   "outputs": [
    {
     "data": {
      "text/html": [
       "<div>\n",
       "<style scoped>\n",
       "    .dataframe tbody tr th:only-of-type {\n",
       "        vertical-align: middle;\n",
       "    }\n",
       "\n",
       "    .dataframe tbody tr th {\n",
       "        vertical-align: top;\n",
       "    }\n",
       "\n",
       "    .dataframe thead th {\n",
       "        text-align: right;\n",
       "    }\n",
       "</style>\n",
       "<table border=\"1\" class=\"dataframe\">\n",
       "  <thead>\n",
       "    <tr style=\"text-align: right;\">\n",
       "      <th></th>\n",
       "      <th>CRIM</th>\n",
       "      <th>ZN</th>\n",
       "      <th>INDUS</th>\n",
       "      <th>CHAS</th>\n",
       "      <th>NOX</th>\n",
       "      <th>RM</th>\n",
       "      <th>AGE</th>\n",
       "      <th>DIS</th>\n",
       "      <th>RAD</th>\n",
       "      <th>TAX</th>\n",
       "      <th>PTRATIO</th>\n",
       "      <th>B</th>\n",
       "      <th>LSTAT</th>\n",
       "    </tr>\n",
       "  </thead>\n",
       "  <tbody>\n",
       "    <tr>\n",
       "      <th>CRIM</th>\n",
       "      <td>1.000000</td>\n",
       "      <td>-0.201203</td>\n",
       "      <td>0.405451</td>\n",
       "      <td>-0.060890</td>\n",
       "      <td>0.418381</td>\n",
       "      <td>-0.229982</td>\n",
       "      <td>0.349979</td>\n",
       "      <td>-0.387388</td>\n",
       "      <td>0.611908</td>\n",
       "      <td>0.571356</td>\n",
       "      <td>0.301235</td>\n",
       "      <td>-0.397990</td>\n",
       "      <td>0.458297</td>\n",
       "    </tr>\n",
       "    <tr>\n",
       "      <th>ZN</th>\n",
       "      <td>-0.201203</td>\n",
       "      <td>1.000000</td>\n",
       "      <td>-0.536488</td>\n",
       "      <td>-0.085375</td>\n",
       "      <td>-0.518662</td>\n",
       "      <td>0.295949</td>\n",
       "      <td>-0.573038</td>\n",
       "      <td>0.661969</td>\n",
       "      <td>-0.320823</td>\n",
       "      <td>-0.326408</td>\n",
       "      <td>-0.411267</td>\n",
       "      <td>0.172156</td>\n",
       "      <td>-0.408054</td>\n",
       "    </tr>\n",
       "    <tr>\n",
       "      <th>INDUS</th>\n",
       "      <td>0.405451</td>\n",
       "      <td>-0.536488</td>\n",
       "      <td>1.000000</td>\n",
       "      <td>0.103597</td>\n",
       "      <td>0.771936</td>\n",
       "      <td>-0.390192</td>\n",
       "      <td>0.643915</td>\n",
       "      <td>-0.717860</td>\n",
       "      <td>0.611597</td>\n",
       "      <td>0.746186</td>\n",
       "      <td>0.412711</td>\n",
       "      <td>-0.345577</td>\n",
       "      <td>0.603054</td>\n",
       "    </tr>\n",
       "    <tr>\n",
       "      <th>CHAS</th>\n",
       "      <td>-0.060890</td>\n",
       "      <td>-0.085375</td>\n",
       "      <td>0.103597</td>\n",
       "      <td>1.000000</td>\n",
       "      <td>0.131420</td>\n",
       "      <td>0.031175</td>\n",
       "      <td>0.112754</td>\n",
       "      <td>-0.123574</td>\n",
       "      <td>-0.033992</td>\n",
       "      <td>-0.040609</td>\n",
       "      <td>-0.132951</td>\n",
       "      <td>0.033984</td>\n",
       "      <td>0.005906</td>\n",
       "    </tr>\n",
       "    <tr>\n",
       "      <th>NOX</th>\n",
       "      <td>0.418381</td>\n",
       "      <td>-0.518662</td>\n",
       "      <td>0.771936</td>\n",
       "      <td>0.131420</td>\n",
       "      <td>1.000000</td>\n",
       "      <td>-0.286925</td>\n",
       "      <td>0.738222</td>\n",
       "      <td>-0.778873</td>\n",
       "      <td>0.624477</td>\n",
       "      <td>0.683601</td>\n",
       "      <td>0.223713</td>\n",
       "      <td>-0.372430</td>\n",
       "      <td>0.598574</td>\n",
       "    </tr>\n",
       "    <tr>\n",
       "      <th>RM</th>\n",
       "      <td>-0.229982</td>\n",
       "      <td>0.295949</td>\n",
       "      <td>-0.390192</td>\n",
       "      <td>0.031175</td>\n",
       "      <td>-0.286925</td>\n",
       "      <td>1.000000</td>\n",
       "      <td>-0.232511</td>\n",
       "      <td>0.211936</td>\n",
       "      <td>-0.237702</td>\n",
       "      <td>-0.316604</td>\n",
       "      <td>-0.370637</td>\n",
       "      <td>0.143468</td>\n",
       "      <td>-0.621009</td>\n",
       "    </tr>\n",
       "    <tr>\n",
       "      <th>AGE</th>\n",
       "      <td>0.349979</td>\n",
       "      <td>-0.573038</td>\n",
       "      <td>0.643915</td>\n",
       "      <td>0.112754</td>\n",
       "      <td>0.738222</td>\n",
       "      <td>-0.232511</td>\n",
       "      <td>1.000000</td>\n",
       "      <td>-0.753259</td>\n",
       "      <td>0.458388</td>\n",
       "      <td>0.514918</td>\n",
       "      <td>0.291103</td>\n",
       "      <td>-0.264508</td>\n",
       "      <td>0.598604</td>\n",
       "    </tr>\n",
       "    <tr>\n",
       "      <th>DIS</th>\n",
       "      <td>-0.387388</td>\n",
       "      <td>0.661969</td>\n",
       "      <td>-0.717860</td>\n",
       "      <td>-0.123574</td>\n",
       "      <td>-0.778873</td>\n",
       "      <td>0.211936</td>\n",
       "      <td>-0.753259</td>\n",
       "      <td>1.000000</td>\n",
       "      <td>-0.515597</td>\n",
       "      <td>-0.558887</td>\n",
       "      <td>-0.280660</td>\n",
       "      <td>0.289974</td>\n",
       "      <td>-0.506575</td>\n",
       "    </tr>\n",
       "    <tr>\n",
       "      <th>RAD</th>\n",
       "      <td>0.611908</td>\n",
       "      <td>-0.320823</td>\n",
       "      <td>0.611597</td>\n",
       "      <td>-0.033992</td>\n",
       "      <td>0.624477</td>\n",
       "      <td>-0.237702</td>\n",
       "      <td>0.458388</td>\n",
       "      <td>-0.515597</td>\n",
       "      <td>1.000000</td>\n",
       "      <td>0.911201</td>\n",
       "      <td>0.487877</td>\n",
       "      <td>-0.438864</td>\n",
       "      <td>0.512276</td>\n",
       "    </tr>\n",
       "    <tr>\n",
       "      <th>TAX</th>\n",
       "      <td>0.571356</td>\n",
       "      <td>-0.326408</td>\n",
       "      <td>0.746186</td>\n",
       "      <td>-0.040609</td>\n",
       "      <td>0.683601</td>\n",
       "      <td>-0.316604</td>\n",
       "      <td>0.514918</td>\n",
       "      <td>-0.558887</td>\n",
       "      <td>0.911201</td>\n",
       "      <td>1.000000</td>\n",
       "      <td>0.483777</td>\n",
       "      <td>-0.437325</td>\n",
       "      <td>0.571510</td>\n",
       "    </tr>\n",
       "    <tr>\n",
       "      <th>PTRATIO</th>\n",
       "      <td>0.301235</td>\n",
       "      <td>-0.411267</td>\n",
       "      <td>0.412711</td>\n",
       "      <td>-0.132951</td>\n",
       "      <td>0.223713</td>\n",
       "      <td>-0.370637</td>\n",
       "      <td>0.291103</td>\n",
       "      <td>-0.280660</td>\n",
       "      <td>0.487877</td>\n",
       "      <td>0.483777</td>\n",
       "      <td>1.000000</td>\n",
       "      <td>-0.199233</td>\n",
       "      <td>0.405448</td>\n",
       "    </tr>\n",
       "    <tr>\n",
       "      <th>B</th>\n",
       "      <td>-0.397990</td>\n",
       "      <td>0.172156</td>\n",
       "      <td>-0.345577</td>\n",
       "      <td>0.033984</td>\n",
       "      <td>-0.372430</td>\n",
       "      <td>0.143468</td>\n",
       "      <td>-0.264508</td>\n",
       "      <td>0.289974</td>\n",
       "      <td>-0.438864</td>\n",
       "      <td>-0.437325</td>\n",
       "      <td>-0.199233</td>\n",
       "      <td>1.000000</td>\n",
       "      <td>-0.370705</td>\n",
       "    </tr>\n",
       "    <tr>\n",
       "      <th>LSTAT</th>\n",
       "      <td>0.458297</td>\n",
       "      <td>-0.408054</td>\n",
       "      <td>0.603054</td>\n",
       "      <td>0.005906</td>\n",
       "      <td>0.598574</td>\n",
       "      <td>-0.621009</td>\n",
       "      <td>0.598604</td>\n",
       "      <td>-0.506575</td>\n",
       "      <td>0.512276</td>\n",
       "      <td>0.571510</td>\n",
       "      <td>0.405448</td>\n",
       "      <td>-0.370705</td>\n",
       "      <td>1.000000</td>\n",
       "    </tr>\n",
       "  </tbody>\n",
       "</table>\n",
       "</div>"
      ],
      "text/plain": [
       "             CRIM        ZN     INDUS      CHAS       NOX        RM       AGE  \\\n",
       "CRIM     1.000000 -0.201203  0.405451 -0.060890  0.418381 -0.229982  0.349979   \n",
       "ZN      -0.201203  1.000000 -0.536488 -0.085375 -0.518662  0.295949 -0.573038   \n",
       "INDUS    0.405451 -0.536488  1.000000  0.103597  0.771936 -0.390192  0.643915   \n",
       "CHAS    -0.060890 -0.085375  0.103597  1.000000  0.131420  0.031175  0.112754   \n",
       "NOX      0.418381 -0.518662  0.771936  0.131420  1.000000 -0.286925  0.738222   \n",
       "RM      -0.229982  0.295949 -0.390192  0.031175 -0.286925  1.000000 -0.232511   \n",
       "AGE      0.349979 -0.573038  0.643915  0.112754  0.738222 -0.232511  1.000000   \n",
       "DIS     -0.387388  0.661969 -0.717860 -0.123574 -0.778873  0.211936 -0.753259   \n",
       "RAD      0.611908 -0.320823  0.611597 -0.033992  0.624477 -0.237702  0.458388   \n",
       "TAX      0.571356 -0.326408  0.746186 -0.040609  0.683601 -0.316604  0.514918   \n",
       "PTRATIO  0.301235 -0.411267  0.412711 -0.132951  0.223713 -0.370637  0.291103   \n",
       "B       -0.397990  0.172156 -0.345577  0.033984 -0.372430  0.143468 -0.264508   \n",
       "LSTAT    0.458297 -0.408054  0.603054  0.005906  0.598574 -0.621009  0.598604   \n",
       "\n",
       "              DIS       RAD       TAX   PTRATIO         B     LSTAT  \n",
       "CRIM    -0.387388  0.611908  0.571356  0.301235 -0.397990  0.458297  \n",
       "ZN       0.661969 -0.320823 -0.326408 -0.411267  0.172156 -0.408054  \n",
       "INDUS   -0.717860  0.611597  0.746186  0.412711 -0.345577  0.603054  \n",
       "CHAS    -0.123574 -0.033992 -0.040609 -0.132951  0.033984  0.005906  \n",
       "NOX     -0.778873  0.624477  0.683601  0.223713 -0.372430  0.598574  \n",
       "RM       0.211936 -0.237702 -0.316604 -0.370637  0.143468 -0.621009  \n",
       "AGE     -0.753259  0.458388  0.514918  0.291103 -0.264508  0.598604  \n",
       "DIS      1.000000 -0.515597 -0.558887 -0.280660  0.289974 -0.506575  \n",
       "RAD     -0.515597  1.000000  0.911201  0.487877 -0.438864  0.512276  \n",
       "TAX     -0.558887  0.911201  1.000000  0.483777 -0.437325  0.571510  \n",
       "PTRATIO -0.280660  0.487877  0.483777  1.000000 -0.199233  0.405448  \n",
       "B        0.289974 -0.438864 -0.437325 -0.199233  1.000000 -0.370705  \n",
       "LSTAT   -0.506575  0.512276  0.571510  0.405448 -0.370705  1.000000  "
      ]
     },
     "execution_count": 39,
     "metadata": {},
     "output_type": "execute_result"
    }
   ],
   "source": [
    "train_scal_feat_boston.corr()"
   ]
  },
  {
   "cell_type": "markdown",
   "metadata": {},
   "source": [
    "Realizujme nyní samotné fitování modelu. Konstruktor pro lineární regresi narozdíl od modelů zmíněných dále moc parametrů neobsahuje. Je mezi nimi sice možnost automaticky prediktory naškálovat, ale dokumentace stejně doporučuje provést škálování separátně. Samotné učení se modelu se realizuje pomocí metody fit, která dostává jako parametry jednak sadu prediktorů, jednak cíl."
   ]
  },
  {
   "cell_type": "code",
   "execution_count": 41,
   "metadata": {
    "ExecuteTime": {
     "end_time": "2020-10-29T19:48:25.307322Z",
     "start_time": "2020-10-29T19:48:25.291702Z"
    }
   },
   "outputs": [
    {
     "data": {
      "text/plain": [
       "LinearRegression()"
      ]
     },
     "execution_count": 41,
     "metadata": {},
     "output_type": "execute_result"
    }
   ],
   "source": [
    "from sklearn.linear_model import LinearRegression\n",
    "\n",
    "lin_reg_model = LinearRegression()\n",
    "lin_reg_model.fit(train_scal_feat_boston, train_target_boston)"
   ]
  },
  {
   "cell_type": "markdown",
   "metadata": {},
   "source": [
    "Jakmile je model nafitován, můžeme se podívat jednak na koeficienty alias váhy jendotlivých prediktorů, jednak na intercept. Intercept je v 2D případě průsečík přímky s osou y; jeho význam je de facto hodnota targetuu, když by byly všechny prediktory nulové."
   ]
  },
  {
   "cell_type": "code",
   "execution_count": 42,
   "metadata": {
    "ExecuteTime": {
     "end_time": "2020-10-29T19:48:28.535628Z",
     "start_time": "2020-10-29T19:48:28.520007Z"
    }
   },
   "outputs": [
    {
     "name": "stdout",
     "output_type": "stream",
     "text": [
      "Intercept: 28.827909467279213\n",
      "Coeficients:\n",
      "[ -9.79697957   3.90268748   1.46611136   0.91044394 -10.19842598\n",
      "  18.16536421   1.62400122 -16.57890184   7.67463529  -7.50986374\n",
      "  -9.28089749   2.85448866 -20.007964  ]\n"
     ]
    }
   ],
   "source": [
    "print(f\"Intercept: {lin_reg_model.intercept_}\")\n",
    "print(\"Coeficients:\")\n",
    "print(lin_reg_model.coef_)"
   ]
  },
  {
   "cell_type": "markdown",
   "metadata": {},
   "source": [
    "Jelikož si asi nepamatujeme, který prediktor byl první a který poslední:"
   ]
  },
  {
   "cell_type": "code",
   "execution_count": 43,
   "metadata": {
    "ExecuteTime": {
     "end_time": "2020-10-29T19:48:30.426963Z",
     "start_time": "2020-10-29T19:48:30.411304Z"
    }
   },
   "outputs": [
    {
     "name": "stdout",
     "output_type": "stream",
     "text": [
      "CRIM: -9.796979572249189\n",
      "ZN: 3.902687482159366\n",
      "INDUS: 1.4661113556275924\n",
      "CHAS: 0.910443936823339\n",
      "NOX: -10.198425984002533\n",
      "RM: 18.165364212034298\n",
      "AGE: 1.6240012162653534\n",
      "DIS: -16.578901842150266\n",
      "RAD: 7.674635285830896\n",
      "TAX: -7.509863737836942\n",
      "PTRATIO: -9.280897486598468\n",
      "B: 2.8544886636533966\n",
      "LSTAT: -20.00796400060063\n"
     ]
    }
   ],
   "source": [
    "for feature_name, coef_value in zip(train_scal_feat_boston.columns, lin_reg_model.coef_):\n",
    "    print(f\"{feature_name}: {coef_value}\")"
   ]
  },
  {
   "cell_type": "markdown",
   "metadata": {},
   "source": [
    "Vidíme tedy, že na cenu nemovitosti měl nevyšší kladný vliv počet místností. Naopak největší záporný vliv měla chudoba sousedství.  \n",
    "Když chceme model aplikovat na nová data, použijeme metodu predict:"
   ]
  },
  {
   "cell_type": "code",
   "execution_count": 44,
   "metadata": {
    "ExecuteTime": {
     "end_time": "2020-10-29T19:48:38.532477Z",
     "start_time": "2020-10-29T19:48:38.510265Z"
    }
   },
   "outputs": [],
   "source": [
    "lin_reg_model_prediction = lin_reg_model.predict(test_scal_feat_boston)"
   ]
  },
  {
   "cell_type": "markdown",
   "metadata": {},
   "source": [
    "Abychom mohli jednotlivé modely porovnávat, musíme mít způsob, jak nějak jejich výkon kvantifikovat. Sklearnovské modely pro sebe mají zadefinovanou metodu score, která využívá jednu z několika možných mechanik. V případě lineární regrese se jedná o tzv. $R^2$ definované jako  \n",
    "$R^2 = 1-\\frac{\\sum_{j=1}^{N}(y_j^{real}-y_j^{pred})^2}{(y_j^{real}-y_j^{avgReal})^2}$  \n",
    "\n",
    "Čitatel zlomku se týka rozdílu predikce a reality, zatímco jmenovatel v sobě obsahuje informaci o o tom, jak moc se skutečné hodnoty liší od svého průměru. V případě naprosté shody reality a predikce má $R^2$ hodnotu jedna, hodnota minimální ale není nijak ohraničená, může být i záporná. Tato metrika de facto říká, jak velká část variability hodnoty predikované veličiny může být vysvětlena modelem.    \n",
    "Skore můžeme aplikovat na trénovací i testovací data, pro zhodnocení výkonu modelu je samozřejmě relevantní druhý případ. Pokud je trénovací skore mnohem vyšší než to trénovací, zřejmě došlo k overfitu. To znamená, že se model naučil strukturu trénovacích dat, což mu sice tato data umožňuje lehce uhádnout, ale jeho obecnost a tudíž schopnost predikovat data testovací tím znatelně trpí."
   ]
  },
  {
   "cell_type": "code",
   "execution_count": 45,
   "metadata": {
    "ExecuteTime": {
     "end_time": "2020-10-29T19:48:38.780194Z",
     "start_time": "2020-10-29T19:48:38.532477Z"
    }
   },
   "outputs": [
    {
     "name": "stdout",
     "output_type": "stream",
     "text": [
      "Training R2 score: 0.7419611000489277\n",
      "Testing R2 score: 0.7136093341350002\n"
     ]
    }
   ],
   "source": [
    "training_score = lin_reg_model.score(train_scal_feat_boston, train_target_boston)\n",
    "testing_score = lin_reg_model.score(test_scal_feat_boston, test_target_boston)\n",
    "print(f\"Training R2 score: {training_score}\")\n",
    "print(f\"Testing R2 score: {testing_score}\")"
   ]
  },
  {
   "cell_type": "markdown",
   "metadata": {},
   "source": [
    "Co ale dělat, když bychom chtěli použít jiné metriky? A jaké metriky máme vlastně v případě regrese k dispozici? Metriky jsou dostupné v sklearn.metrics. Je mezi nimi napříkald i ve score metodě použité $R^2$. Implementace z sklearn.metric očekává, že jako první parametr dostane skutečné hodnoty cíle že druhým parametrem bude predikce:"
   ]
  },
  {
   "cell_type": "code",
   "execution_count": 46,
   "metadata": {
    "ExecuteTime": {
     "end_time": "2020-10-29T19:48:38.912007Z",
     "start_time": "2020-10-29T19:48:38.780194Z"
    }
   },
   "outputs": [
    {
     "name": "stdout",
     "output_type": "stream",
     "text": [
      "Training R2 score: 0.7419611000489277\n",
      "Testing R2 score: 0.7136093341350002\n"
     ]
    }
   ],
   "source": [
    "from sklearn.metrics import r2_score\n",
    "\n",
    "training_score = r2_score(\n",
    "    train_target_boston,\n",
    "    lin_reg_model.predict(train_scal_feat_boston)\n",
    ")\n",
    "testing_score = r2_score(\n",
    "    test_target_boston,\n",
    "    lin_reg_model.predict(test_scal_feat_boston)\n",
    ")\n",
    "print(f\"Training R2 score: {training_score}\")\n",
    "print(f\"Testing R2 score: {testing_score}\")"
   ]
  },
  {
   "cell_type": "markdown",
   "metadata": {},
   "source": [
    "Podle očekávání je výsledek stejný jako u score moetody modelu.  \n",
    "Další metrikou může být například mean squared error počítající průměrný kvadrát odchylky mezi predikovanou a reálnou hodnotou:\n",
    "$MSE(y^{real}, y^{pred}) = \\frac{1}{n_{samples}}\\sum_{j=0}^{n_{samples}-1}(y_j^{real} - y_j^{pred})^2$  \n",
    "Očividně ideál je nula a čím je MSE větší, tím je výkon modelu horší. Číslo, které získáme odmocněním MSE, je de facto průměrná chyba predikce na jednom záznamu."
   ]
  },
  {
   "cell_type": "code",
   "execution_count": 47,
   "metadata": {
    "ExecuteTime": {
     "end_time": "2020-10-29T19:48:39.034751Z",
     "start_time": "2020-10-29T19:48:38.912007Z"
    }
   },
   "outputs": [
    {
     "name": "stdout",
     "output_type": "stream",
     "text": [
      "Training MSE score: 20.865105810530938\n",
      "Testing MSE score: 28.119838712722085\n"
     ]
    }
   ],
   "source": [
    "from sklearn.metrics import mean_squared_error\n",
    "\n",
    "training_score = mean_squared_error(\n",
    "    train_target_boston,\n",
    "    lin_reg_model.predict(train_scal_feat_boston)\n",
    ")\n",
    "testing_score = mean_squared_error(\n",
    "    test_target_boston,\n",
    "    lin_reg_model.predict(test_scal_feat_boston)\n",
    ")\n",
    "print(f\"Training MSE score: {training_score}\")\n",
    "print(f\"Testing MSE score: {testing_score}\")"
   ]
  },
  {
   "cell_type": "markdown",
   "metadata": {},
   "source": [
    "### Ridge a lasso regrese\n",
    "Lineární regrese se snaží o co nejvěrnější lineární aproximaci cíle s pomocí všech prediktorů. To ale nemusí být optimální. Cílová hodnoty jsou vždy zatíženy šumem a ne každý prediktor má vypovídací hodnotu. To ve svém výsledku vede k tomu, že se počítač snaží nafitovat šum s pomocí nedůležitých prediktorů. Navíc tu máme již zmíněný problém s korelací. Naštěstí existuje řešení v podobě regularizace.  \n",
    "Myšlenka za regularizací tkví v tom, že se nesnažíme minimalizovat sumu kvadrátů reziduí, nýbrž sumu kvadrátů reziduí, ke které je přičten penalizační člen. V případě ridge regrese minimalizujeme  \n",
    "$\\sum_{j=1}^n(y_j - f(x_j))^2 + \\sum_{i=1}^m\\alpha w_i^2$  \n",
    "V případě lasso regularizace hledáme minimum u  \n",
    "$\\sum_{j=1}^n(y_j - f(x_j))^2 + \\sum_{i=1}^m\\alpha |w_i|$  \n",
    "V obou případech jde první suma s indexem j přes všechny záznamy, zatímco druhá suma s indexem i přes všechny váhy napojené na jednotlivé prediktory. Konstanta $\\alpha$ (shrinkage coefficient) není určema modelem, musíme ji určit. Čím je větší, tím má penalizační člen větší váhu. Kvůli tomu musí být druhá část součinu, váhy menší. No a model si tak může dovolit velké váhy jenom u opravdu důležitých prediktorů.  \n",
    "Jak se projeví podoba penalizačního členu na modelu, tj. jak se liší ridge a lasso regularizace? Ridge velice efektivně zmenšuje jednoltivé váhy, nicméně nikdy je nestlačí na nulu. Naproti tomu lassu s nulováním problém nemá a tak de facto automaticky vyhodí zbytečné prediktory. Proč tedy vůbec ridge zmiňujeme, když se lasso tváří, že zvládne dvě věci naráz? Pokud bychom měli relativně slabý, ale pořád užitečný prediktor, lasso by ho mohlo vyhodit. Tudíž by pak byl lasso model méně přesný než ridge model.  \n",
    "Existuje ještě tzv. elastic-net. Jedná se de facto o to, že v minimalizovaném výrazu vystupuje jak ridge, tak lasso člen\n",
    "$\\sum_{j=1}^n(y_j - f(x_j))^2 + \\sum_{i=1}^m\\alpha \\rho |w_i| + \\sum_{i=1}^m\\frac{\\alpha(1-\\rho)}{2} w_i^2$  \n",
    "Zde $\\rho$ značí člen vyjadřující, ja má být ta která regularizace proporcielně silná.  \n",
    "Před implementací regularizace v sklearnu zmiňme ještě jednu věc. U čisté lineární regrese nebylo škálování nutné. V případě regularizací by nenaškálovaná data vedla k tomu, že i váhy by byly nesouměřitelné. To ale není kompatibilní s celou myšlenkou stojící za penalizačním členem.  "
   ]
  },
  {
   "cell_type": "code",
   "execution_count": 48,
   "metadata": {
    "ExecuteTime": {
     "end_time": "2020-10-29T19:48:39.167148Z",
     "start_time": "2020-10-29T19:48:39.034751Z"
    }
   },
   "outputs": [
    {
     "name": "stdout",
     "output_type": "stream",
     "text": [
      "Training ridge score: 0.7373621924347293\n",
      "Testing ridge score: 0.714900254475084\n",
      "Training lasso score: 0.240824510514413\n",
      "Testing lasso score: 0.1955459882493874\n",
      "Training elasticnet score: 0.16550700612705171\n",
      "Testing elasticnet score: 0.1315749874222314\n"
     ]
    }
   ],
   "source": [
    "from sklearn.linear_model import Ridge\n",
    "from sklearn.linear_model import Lasso\n",
    "from sklearn.linear_model import ElasticNet\n",
    "\n",
    "ridge_model = Ridge()\n",
    "ridge_model.fit(train_scal_feat_boston, train_target_boston)\n",
    "\n",
    "lasso_model = Lasso()\n",
    "lasso_model.fit(train_scal_feat_boston, train_target_boston)\n",
    "\n",
    "elasticnet_model = ElasticNet()\n",
    "elasticnet_model.fit(train_scal_feat_boston, train_target_boston)\n",
    "\n",
    "training_ridge_score = ridge_model.score(train_scal_feat_boston, train_target_boston)\n",
    "testing_ridge_score = ridge_model.score(test_scal_feat_boston, test_target_boston)\n",
    "print(f\"Training ridge score: {training_ridge_score}\")\n",
    "print(f\"Testing ridge score: {testing_ridge_score}\")\n",
    "\n",
    "training_lasso_score = lasso_model.score(train_scal_feat_boston, train_target_boston)\n",
    "testing_lasso_score = lasso_model.score(test_scal_feat_boston, test_target_boston)\n",
    "print(f\"Training lasso score: {training_lasso_score}\")\n",
    "print(f\"Testing lasso score: {testing_lasso_score}\")\n",
    "\n",
    "training_elasticnet_score = elasticnet_model.score(train_scal_feat_boston, train_target_boston)\n",
    "testing_elasticnet_score = elasticnet_model.score(test_scal_feat_boston, test_target_boston)\n",
    "print(f\"Training elasticnet score: {training_elasticnet_score}\")\n",
    "print(f\"Testing elasticnet score: {testing_elasticnet_score}\")"
   ]
  },
  {
   "cell_type": "markdown",
   "metadata": {},
   "source": [
    "### Křížová validace (cross-validation) a GridSearch\n",
    "Viděli jsme, že testovací skore pro ridge (0.71) bylo lepší než pro čistou regresi (0.63). Naproti tomu skore pro lasso a elatic-net byly tragické. To mohlo být mimo jiné dáno pro danou úlohu nevhodnou defaultní hodnotou hyperparametrů $\\alpha$ a $\\rho$. Jak jsme si již řekli, není vhodné nyní ladit hodnotu těchto parametrů podle testovacího skore. Měli bychom si z trénovacích dat oddělit validační množinu a s její pomocí hyperparametry určit. Nicméně využívání indexů z k-foldingu je relativně pracné a člověk při tom může udělat chybu. Naštěstí existuje jednodušší varianta - GridSearchCV.  \n",
    "Jak GridSearchCV funguje? Data, která jsou mu předána v rámci metody fit, rozdělí na trénovací a validační množiny. Automaticky provádí K-folding, přičemž defaultní počet foldů je 5. Na každém foldu se provede validace pro každou kombinaci parametrů, které jsou spolu se samotným ML modelem GridSearchCV předány v konstruktoru."
   ]
  },
  {
   "cell_type": "code",
   "execution_count": 49,
   "metadata": {
    "ExecuteTime": {
     "end_time": "2020-10-29T19:48:39.436975Z",
     "start_time": "2020-10-29T19:48:39.167148Z"
    }
   },
   "outputs": [
    {
     "data": {
      "text/plain": [
       "GridSearchCV(estimator=Ridge(),\n",
       "             param_grid={'alpha': [0.001, 0.01, 0.1, 1, 10, 100, 1000]})"
      ]
     },
     "execution_count": 49,
     "metadata": {},
     "output_type": "execute_result"
    }
   ],
   "source": [
    "from sklearn.model_selection import GridSearchCV\n",
    "\n",
    "ridge_params = {\n",
    "    \"alpha\":[0.001, 0.01, 0.1, 1, 10, 100, 1000],\n",
    "}\n",
    "gridseach_ridge = GridSearchCV(ridge_model, ridge_params)\n",
    "gridseach_ridge.fit(train_scal_feat_boston, train_target_boston)"
   ]
  },
  {
   "cell_type": "markdown",
   "metadata": {},
   "source": [
    "Pakliže se chceme podívat na nejlepší model, zeptáme se na atribut best_estimator_."
   ]
  },
  {
   "cell_type": "code",
   "execution_count": 50,
   "metadata": {
    "ExecuteTime": {
     "end_time": "2020-10-29T19:48:39.452588Z",
     "start_time": "2020-10-29T19:48:39.436975Z"
    }
   },
   "outputs": [
    {
     "data": {
      "text/plain": [
       "Ridge(alpha=0.1)"
      ]
     },
     "execution_count": 50,
     "metadata": {},
     "output_type": "execute_result"
    }
   ],
   "source": [
    "gridseach_ridge.best_estimator_"
   ]
  },
  {
   "cell_type": "markdown",
   "metadata": {},
   "source": [
    "Pokud chceme vidět podrobnosti výpočtu, například hodnoty metriky pro jednotlivé foldy, případně průměrnou metriku pro daný parametr/kombinaci parametrů přes všechny foldy, zeptáme se na atribut cv_results_."
   ]
  },
  {
   "cell_type": "code",
   "execution_count": 51,
   "metadata": {
    "ExecuteTime": {
     "end_time": "2020-10-29T19:48:39.584093Z",
     "start_time": "2020-10-29T19:48:39.452588Z"
    }
   },
   "outputs": [
    {
     "data": {
      "text/plain": [
       "{'mean_fit_time': array([0.        , 0.00312438, 0.00130134, 0.0031251 , 0.00312409,\n",
       "        0.        , 0.00312443]),\n",
       " 'std_fit_time': array([0.        , 0.00624876, 0.00260267, 0.00625019, 0.00624819,\n",
       "        0.        , 0.00624886]),\n",
       " 'mean_score_time': array([0.00301113, 0.00312424, 0.00312433, 0.        , 0.00312452,\n",
       "        0.00312419, 0.        ]),\n",
       " 'std_score_time': array([0.00602226, 0.00624847, 0.00624866, 0.        , 0.00624905,\n",
       "        0.00624838, 0.        ]),\n",
       " 'param_alpha': masked_array(data=[0.001, 0.01, 0.1, 1, 10, 100, 1000],\n",
       "              mask=[False, False, False, False, False, False, False],\n",
       "        fill_value='?',\n",
       "             dtype=object),\n",
       " 'params': [{'alpha': 0.001},\n",
       "  {'alpha': 0.01},\n",
       "  {'alpha': 0.1},\n",
       "  {'alpha': 1},\n",
       "  {'alpha': 10},\n",
       "  {'alpha': 100},\n",
       "  {'alpha': 1000}],\n",
       " 'split0_test_score': array([0.69042251, 0.6908054 , 0.6943257 , 0.71204972, 0.65450533,\n",
       "        0.35838117, 0.08915054]),\n",
       " 'split1_test_score': array([0.66104122, 0.66105566, 0.66114602, 0.65880951, 0.58008057,\n",
       "        0.32826938, 0.06286661]),\n",
       " 'split2_test_score': array([0.70704915, 0.70689982, 0.70527367, 0.68256525, 0.50584116,\n",
       "        0.23138138, 0.04287733]),\n",
       " 'split3_test_score': array([0.76291143, 0.76291483, 0.76287545, 0.75814476, 0.6628305 ,\n",
       "        0.35167821, 0.04887855]),\n",
       " 'split4_test_score': array([0.74330724, 0.74329316, 0.74308395, 0.73721938, 0.64361543,\n",
       "        0.3402034 , 0.03535107]),\n",
       " 'mean_test_score': array([0.71294631, 0.71299377, 0.71334096, 0.70975772, 0.6093746 ,\n",
       "        0.32198271, 0.05582482]),\n",
       " 'std_test_score': array([0.0364816 , 0.03643403, 0.03602578, 0.03587716, 0.05940381,\n",
       "        0.04644736, 0.01894863]),\n",
       " 'rank_test_score': array([3, 2, 1, 4, 5, 6, 7])}"
      ]
     },
     "execution_count": 51,
     "metadata": {},
     "output_type": "execute_result"
    }
   ],
   "source": [
    "gridseach_ridge.cv_results_"
   ]
  },
  {
   "cell_type": "markdown",
   "metadata": {},
   "source": [
    "Není ani potřeba takto určené parametry přepisovat do normálního modelu. Když na gridsearch objekt zavoláme funkci predict, použije se pro určení honodty cíle nejoptimálnější model."
   ]
  },
  {
   "cell_type": "code",
   "execution_count": 52,
   "metadata": {
    "ExecuteTime": {
     "end_time": "2020-10-29T19:48:39.737801Z",
     "start_time": "2020-10-29T19:48:39.584093Z"
    }
   },
   "outputs": [
    {
     "name": "stdout",
     "output_type": "stream",
     "text": [
      "Training ridge R2 score: 0.7418910448777067\n",
      "Testing ridge R2 score: 0.7143363329466875\n"
     ]
    }
   ],
   "source": [
    "training_ridge_score = r2_score(\n",
    "    train_target_boston,\n",
    "    gridseach_ridge.predict(train_scal_feat_boston)\n",
    ")\n",
    "testing_ridge_score = r2_score(\n",
    "    test_target_boston,\n",
    "    gridseach_ridge.predict(test_scal_feat_boston)\n",
    ")\n",
    "print(f\"Training ridge R2 score: {training_ridge_score}\")\n",
    "print(f\"Testing ridge R2 score: {testing_ridge_score}\")"
   ]
  },
  {
   "cell_type": "markdown",
   "metadata": {},
   "source": [
    "Užitečnost jednotlivých parametrů se porovnává podle defaultní metriky ML modelu. Co ale máme dělat, když chceme metriku jinou? Použije se parametr scoring konstruktoru GridSearchCV. Nicméně je zde drobná zrada - nemůže se sem psát jméno funkce metriku počítající, např. mean_squared_error. Musí se zde uvést tzv scorer objekt. Ten vytvoříme s pomocí funkce make_scorer, kterému už funkci metriky předat můžeme.  "
   ]
  },
  {
   "cell_type": "code",
   "execution_count": 53,
   "metadata": {
    "ExecuteTime": {
     "end_time": "2020-10-29T19:48:40.016279Z",
     "start_time": "2020-10-29T19:48:39.737801Z"
    }
   },
   "outputs": [
    {
     "data": {
      "text/plain": [
       "array([22.67992648, 22.67814742, 22.67003249, 23.11871416, 31.64172267,\n",
       "       54.3955819 , 75.08929395])"
      ]
     },
     "execution_count": 53,
     "metadata": {},
     "output_type": "execute_result"
    }
   ],
   "source": [
    "from sklearn.metrics import make_scorer, mean_squared_error\n",
    "\n",
    "ridge_params = {\n",
    "    \"alpha\":[0.001, 0.01, 0.1, 1, 10, 100, 1000],\n",
    "}\n",
    "gridseach_ridge_mse = GridSearchCV(ridge_model, ridge_params, scoring=make_scorer(mean_squared_error))\n",
    "gridseach_ridge_mse.fit(train_scal_feat_boston, train_target_boston)\n",
    "gridseach_ridge_mse.cv_results_[\"mean_test_score\"]"
   ]
  },
  {
   "cell_type": "markdown",
   "metadata": {},
   "source": [
    "Viděli jsme, že pro ridge regresi nám GridSearchCV nepomohl - zjevn byl defaultní parametr optimální. Ovšem to už neplatí pro lasso regresi:"
   ]
  },
  {
   "cell_type": "code",
   "execution_count": 54,
   "metadata": {
    "ExecuteTime": {
     "end_time": "2020-10-29T19:48:40.185021Z",
     "start_time": "2020-10-29T19:48:40.016279Z"
    }
   },
   "outputs": [
    {
     "name": "stdout",
     "output_type": "stream",
     "text": [
      "Lasso(alpha=0.001)\n",
      "Training lasso R2 score: 0.7419468511068543\n",
      "Testing lasso R2 score: 0.7139739716609717\n"
     ]
    }
   ],
   "source": [
    "lasso_params = {\n",
    "    \"alpha\":[0.001, 0.01, 0.1, 1, 10, 100, 1000],\n",
    "}\n",
    "gridseach_lasso = GridSearchCV(lasso_model, lasso_params)\n",
    "gridseach_lasso.fit(train_scal_feat_boston, train_target_boston)\n",
    "\n",
    "print(gridseach_lasso.best_estimator_)\n",
    "\n",
    "training_lasso_score = r2_score(\n",
    "    train_target_boston,\n",
    "    gridseach_lasso.predict(train_scal_feat_boston)\n",
    ")\n",
    "testing_lasso_score = r2_score(\n",
    "    test_target_boston,\n",
    "    gridseach_lasso.predict(test_scal_feat_boston)\n",
    ")\n",
    "print(f\"Training lasso R2 score: {training_lasso_score}\")\n",
    "print(f\"Testing lasso R2 score: {testing_lasso_score}\")"
   ]
  },
  {
   "cell_type": "markdown",
   "metadata": {},
   "source": [
    "Stejnou věc bchom mohli říci i o elastic-netu. Zde je mimo jiné ukázáno, jak má vypadat zápis potenciálních hyperparametrů, když chceme najednou optimalizovat několik z nich."
   ]
  },
  {
   "cell_type": "code",
   "execution_count": 55,
   "metadata": {
    "ExecuteTime": {
     "end_time": "2020-10-29T19:48:41.144531Z",
     "start_time": "2020-10-29T19:48:40.185021Z"
    }
   },
   "outputs": [
    {
     "name": "stdout",
     "output_type": "stream",
     "text": [
      "ElasticNet(alpha=0.001, l1_ratio=0.3)\n",
      "Training elastic-net R2 score: 0.7414129965636005\n",
      "Testing elastic-net R2 score: 0.7152664329165389\n"
     ]
    }
   ],
   "source": [
    "elasticnet_params = {\n",
    "    \"alpha\":[0.001, 0.01, 0.1, 1, 10, 100, 1000],\n",
    "    \"l1_ratio\":[0.05, 0.1, 0.3, 0.5, 0.7, 1]\n",
    "}\n",
    "gridseach_elasticnet = GridSearchCV(elasticnet_model, elasticnet_params)\n",
    "gridseach_elasticnet.fit(train_scal_feat_boston, train_target_boston)\n",
    "\n",
    "print(gridseach_elasticnet.best_estimator_)\n",
    "\n",
    "training_elasticnet_score = r2_score(\n",
    "    train_target_boston,\n",
    "    gridseach_elasticnet.predict(train_scal_feat_boston)\n",
    ")\n",
    "testing_elasticnet_score = r2_score(\n",
    "    test_target_boston,\n",
    "    gridseach_elasticnet.predict(test_scal_feat_boston)\n",
    ")\n",
    "print(f\"Training elastic-net R2 score: {training_elasticnet_score}\")\n",
    "print(f\"Testing elastic-net R2 score: {testing_elasticnet_score}\")"
   ]
  },
  {
   "cell_type": "markdown",
   "metadata": {},
   "source": [
    "# III. Pipeliny"
   ]
  },
  {
   "cell_type": "markdown",
   "metadata": {},
   "source": [
    "## IV. Interpretovatelnost"
   ]
  },
  {
   "cell_type": "code",
   "execution_count": null,
   "metadata": {},
   "outputs": [],
   "source": []
  }
 ],
 "metadata": {
  "kernelspec": {
   "display_name": "Python 3",
   "language": "python",
   "name": "python3"
  },
  "language_info": {
   "codemirror_mode": {
    "name": "ipython",
    "version": 3
   },
   "file_extension": ".py",
   "mimetype": "text/x-python",
   "name": "python",
   "nbconvert_exporter": "python",
   "pygments_lexer": "ipython3",
   "version": "3.7.4"
  },
  "varInspector": {
   "cols": {
    "lenName": 16,
    "lenType": 16,
    "lenVar": 40
   },
   "kernels_config": {
    "python": {
     "delete_cmd_postfix": "",
     "delete_cmd_prefix": "del ",
     "library": "var_list.py",
     "varRefreshCmd": "print(var_dic_list())"
    },
    "r": {
     "delete_cmd_postfix": ") ",
     "delete_cmd_prefix": "rm(",
     "library": "var_list.r",
     "varRefreshCmd": "cat(var_dic_list()) "
    }
   },
   "types_to_exclude": [
    "module",
    "function",
    "builtin_function_or_method",
    "instance",
    "_Feature"
   ],
   "window_display": false
  }
 },
 "nbformat": 4,
 "nbformat_minor": 4
}
