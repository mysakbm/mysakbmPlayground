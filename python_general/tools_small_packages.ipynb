{
 "cells": [
  {
   "cell_type": "markdown",
   "id": "8d2d7dfe",
   "metadata": {},
   "source": [
    "## Slovo úvodem\n",
    "Narozdíl od jiných notebooků v této části repozitáře tento notebook nevznikl jako podklad pro nějaký workshop či přednášku. Cílem spíše bylo mít někde ucelený soubor poznámek, který by byl vždy po ruce. Samozřejmě i tak se snažím, aby byl níže uvedený text čitelný a nebylo v něm příliš mnoho chyb. Přes to ale bude vzhledem ke svému účelu méně koherentní než texty jiné."
   ]
  },
  {
   "cell_type": "markdown",
   "id": "aaf389b4",
   "metadata": {},
   "source": [
    "## Wheely"
   ]
  },
  {
   "cell_type": "markdown",
   "id": "1864193a",
   "metadata": {},
   "source": [
    "Při instalaci balíčku pomocí **pip install jmeno_balicku** se pip podívá na pypi.org a zkusí pro chtěný balíček nalézt wheel. Pokud se to nepovede, pokusí se pip stáhnout zdrojový kód. Co to ale vlastně ten wheel je a proč ho pip upřednostňuje před zdrojovým kódem?  \n",
    "Wheel je fakticky zip archiv obsahující soubory nutné k instalaci balíčku. Důležitá je skutečnost, že pokud balíček využívá Cčková rozšíření, má ve wheelu už odpovídající kód zkompilovaný pro příslušnou verzi Pythonu, operační systém a HW architekturu. Díky tomu nemusí mít u sebe uživatel nainstalovaný kompilátor, resp. při absenci kompilátoru smutně koukat na chybovou hlášku. Její příklad se nalézá níže pro balíček majka, který má na pypi.org pouze zdroják. \n",
    "```\n",
    "(environment) C:\\vs\\programovani\\python\\drobne_knihovny>pip install majka\n",
    "Collecting majka\n",
    "  Using cached https://files.pythonhosted.org/packages/6c/0c/92a788a342a880a676a9cf66b91ec6ec09fbabe5f87decc2cc7d1642b583/majka-0.8.tar.gz\n",
    "Installing collected packages: majka\n",
    "  Running setup.py install for majka ... error\n",
    "    Complete output from command c:\\vs\\programovani\\python\\drobne_knihovny\\environment\\scripts\\python.exe -u -c \"import setuptools, tokenize;__file__='C:\\\\Users\\\\NEWNOT~1\\\\AppData\\\\Local\\\\Temp\\\\pip-install-jq2cz80k\\\\majka\\\\setup.py';f=getattr(tokenize, 'open', open)(__file__);code=f.read().replace('\\r\\n', '\\n');f.close();exec(compile(code, __file__, 'exec'))\" install --record C:\\Users\\NEWNOT~1\\AppData\\Local\\Temp\\pip-record-jb0sqhcm\\install-record.txt --single-version-externally-managed --compile --install-headers c:\\vs\\programovani\\python\\drobne_knihovny\\environment\\include\\site\\python3.7\\majka:\n",
    "    running install\n",
    "    running build\n",
    "    running build_ext\n",
    "    building 'majka' extension\n",
    "    error: Microsoft Visual C++ 14.0 is required. Get it with \"Microsoft Visual C++ Build Tools\": https://visualstudio.microsoft.com/downloads/\n",
    "\n",
    "    ----------------------------------------\n",
    "Command \"c:\\vs\\programovani\\python\\drobne_knihovny\\environment\\scripts\\python.exe -u -c \"import setuptools, tokenize;__file__='C:\\\\Users\\\\NEWNOT~1\\\\AppData\\\\Local\\\\Temp\\\\pip-install-jq2cz80k\\\\majka\\\\setup.py';f=getattr(tokenize, 'open', open)(__file__);code=f.read().replace('\\r\\n', '\\n');f.close();exec(compile(code, __file__, 'exec'))\" install --record C:\\Users\\NEWNOT~1\\AppData\\Local\\Temp\\pip-record-jb0sqhcm\\install-record.txt --single-version-externally-managed --compile --install-headers c:\\vs\\programovani\\python\\drobne_knihovny\\environment\\include\\site\\python3.7\\majka\" failed with error code 1 in C:\\Users\\NEWNOT~1\\AppData\\Local\\Temp\\pip-install-jq2cz80k\\majka\\\n",
    "```\n",
    "S wheelem je instalace mnohem jednodušší.\n",
    "```\n",
    "(environment) C:\\vs\\programovani\\python\\drobne_knihovny>pip install numpy\n",
    "Collecting numpy\n",
    "  Downloading https://files.pythonhosted.org/packages/eb/a9/1e4215043cac5ffc6a5ab1f2e0e58a680fc8fd19e28eb28c01e90aeace3e/numpy-1.21.1-cp37-cp37m-win_amd64.whl (14.0MB)\n",
    "    100% |████████████████████████████████| 14.0MB 3.2MB/s\n",
    "Installing collected packages: numpy\n",
    "Successfully installed numpy-1.21.1\n",
    "```"
   ]
  },
  {
   "cell_type": "markdown",
   "id": "cce66018",
   "metadata": {},
   "source": [
    "Podívejme se, co se vlastně ve wheelu nachází. Jak bylo uvedeno výše, wheel je archiv, nikoli binární soubor. Pro \"čistý\" balíček, který nepoužívá Cčko, se tak ve wheelu nachází zdrojový kód v normální pro člověka čitelné podobě."
   ]
  },
  {
   "cell_type": "markdown",
   "id": "35f2e558",
   "metadata": {},
   "source": [
    "Wheely mají častokrát dosti divoké názvy. Jak je rozklíčovat? Šablona názvu má tvar {distribution}-{version}(-{build tag})?-{python tag}-{abi tag}-{platform tag}.whl, přičemž jako konkrétní příklad použijme dejme tomu numpy-1.21.1-cp37-cp37m-win_amd64.whl. \n",
    "- distribution značí jméno balíčku (numpy) a version jeho verzi (1.21.1)  \n",
    "- build tag je nepovinný - proto se v šabloně nalézá otazník. Používá se v případě, kdy by měly dva wheely všechny ostatní identifikátory (vč. verze balíčku) identické. U výše zmíněného numpy balíčku build tag přítomný není a hádám, že se s ním člověk při stahování souborů z pypi.org asi moc nesetká.  \n",
    "- python tag udává verzi Pythonu, pro který je wheel určen. Pokud bude balíček fungovat jak pro Python 2, tak pro Python 3, objeví se zde py2.py3. Pokud je ale určen pouze pro jednu z těchto možností, objeví se py2, nebo py3. Velice často ale dochází k tomu, že balíček funguje jen pro konkrétní minoritní verzi Pythonu. Tehdy se v názvu wheelu objeví např. py37. Nám se u numpy ale objevilo cp37. Písmeno c udává implementaci, konkrétně CPython. Balíček fungující na jakékoli implementaci Python má výše zmíněné py, například Jython by měl jy - více zkratek viz [zde](https://www.python.org/dev/peps/pep-0425/#python-tag), povídání k implementacím [tady](https://wiki.python.org/moin/PythonImplementations).  \n",
    "- ABI je zkratka pro Application Binary Interface. Jestli jsem vše správně pochopil, jedná se o interface, skrze který komunikuje program s DDLkama poskytovanýma Pythoní instalací nebo třeba operačním systémem (viz [toto](https://stackoverflow.com/questions/2171177/what-is-an-application-binary-interface-abi) a [toto](https://www.python.org/dev/peps/pep-0384/)). V našem konkrétním příkladě zde máme cp37m - první čtyři znaky se vztahují ke minor verzi Pythonu, písmeno m se týka [\"pymalloc alocatoru\"](https://stackoverflow.com/questions/54097033/what-does-the-m-in-a-python-abi-tag-mean).  \n",
    "- jako poslední je tag s operačním systémem a architekturou."
   ]
  },
  {
   "cell_type": "markdown",
   "id": "69461601",
   "metadata": {},
   "source": [
    "Co ale dělat, když člověk u sebe potřebuje wheel vytvořit? Postup si ukážeme na balíčku majka, jehož zdrojáky v podobě archivu stáhneme [zde](https://pypi.org/project/majka/#files) a do pracovního adrsáře si rozbalíme majka-0.8. Dále si nainstalujeme pomocný balíček určený právě na vytváření wheelů (pip install wheel).  \n",
    "Defaultní postup by bylo vlézt do adresáře balíčku (majka-0.8) a v něm spustit \n",
    "```\n",
    "python setup.py bdist_wheel\n",
    "```\n",
    "To ale spadne na chybové hlášce \"error: invalid command 'bdist_wheel'\". Řešení spočívá v editaci souboru majka-0.8\\setup.py - před řádek \"from distutils.core import setup, Extension\" se musí umístit \"import setuptools\". Pořadí je zde důležité - pokud bychom importění setuptools umístili až na distutils.core, dostali bychom po spuštění wheel vytvářejícího příkazu chybu \"error: each element of 'ext_modules' option must be an Extension instance or 2-tuple\". Paklíiže se wheel úspěšně vytvořil, nalezneme ho v adresáři majka-0.8\\dist\\majka-0.8-cp37-cp37m-win_amd64.whl.  \n",
    "Podle dokumentace pro vytvoření wheelu u čistých balíčků nevyužívajících Cčko stačí do setup.cfg vložit\n",
    "```\n",
    "[bdist_wheel]\n",
    "universal = 1\n",
    "```\n",
    "Když ale to samé napíšeme u majky, ktrá Cčko potřebuje, je výsledný wheel úplně stejný jako předtím.\n",
    " "
   ]
  },
  {
   "cell_type": "code",
   "execution_count": null,
   "id": "369a4ff4",
   "metadata": {},
   "outputs": [],
   "source": []
  }
 ],
 "metadata": {
  "kernelspec": {
   "display_name": "Python 3 (ipykernel)",
   "language": "python",
   "name": "python3"
  },
  "language_info": {
   "codemirror_mode": {
    "name": "ipython",
    "version": 3
   },
   "file_extension": ".py",
   "mimetype": "text/x-python",
   "name": "python",
   "nbconvert_exporter": "python",
   "pygments_lexer": "ipython3",
   "version": "3.7.4"
  },
  "varInspector": {
   "cols": {
    "lenName": 16,
    "lenType": 16,
    "lenVar": 40
   },
   "kernels_config": {
    "python": {
     "delete_cmd_postfix": "",
     "delete_cmd_prefix": "del ",
     "library": "var_list.py",
     "varRefreshCmd": "print(var_dic_list())"
    },
    "r": {
     "delete_cmd_postfix": ") ",
     "delete_cmd_prefix": "rm(",
     "library": "var_list.r",
     "varRefreshCmd": "cat(var_dic_list()) "
    }
   },
   "types_to_exclude": [
    "module",
    "function",
    "builtin_function_or_method",
    "instance",
    "_Feature"
   ],
   "window_display": false
  }
 },
 "nbformat": 4,
 "nbformat_minor": 5
}
