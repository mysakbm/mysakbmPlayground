{
 "cells": [
  {
   "cell_type": "markdown",
   "id": "6467d486",
   "metadata": {},
   "source": [
    "## Slovo úvodem\n",
    "Narozdíl od jiných notebooků v této části repozitáře tento notebook nevznikl jako podklad pro nějaký workshop či přednášku. Cílem spíše bylo mít někde ucelený soubor poznámek, který by byl vždy po ruce. Samozřejmě i tak se snažím, aby byl níže uvedený text čitelný a nebylo v něm příliš mnoho chyb. Přes to ale bude vzhledem ke svému účelu méně koherentní než texty jiné."
   ]
  },
  {
   "cell_type": "markdown",
   "id": "c64ec18a",
   "metadata": {},
   "source": [
    "## Wheely"
   ]
  },
  {
   "cell_type": "markdown",
   "id": "af021b0b",
   "metadata": {},
   "source": [
    "Při instalaci balíčku pomocí **pip install jmeno_balicku** se pip podívá na pypi.org a zkusí pro chtěný balíček nalézt wheel. Pokud se to nepovede, pokusí se pip stáhnout zdrojový kód. Co to ale vlastně ten wheel je a proč ho pip upřednostňuje před zdrojovým kódem?  \n",
    "Wheel je fakticky zip archiv obsahující soubory nutné k instalaci balíčku. Důležitá je skutečnost, že pokud balíček využívá Cčková rozšíření, má ve wheelu už odpovídající kód zkompilovaný pro příslušnou verzi Pythonu, operační systém a HW architekturu. Díky tomu nemusí mít u sebe uživatel nainstalovaný kompilátor, resp. při absenci kompilátoru smutně koukat na chybovou hlášku. Její příklad se nalézá níže pro balíček majka, který má na pypi.org pouze zdroják. \n",
    "```\n",
    "(environment) C:\\vs\\programovani\\python\\drobne_knihovny>pip install majka\n",
    "Collecting majka\n",
    "  Using cached https://files.pythonhosted.org/packages/6c/0c/92a788a342a880a676a9cf66b91ec6ec09fbabe5f87decc2cc7d1642b583/majka-0.8.tar.gz\n",
    "Installing collected packages: majka\n",
    "  Running setup.py install for majka ... error\n",
    "    Complete output from command c:\\vs\\programovani\\python\\drobne_knihovny\\environment\\scripts\\python.exe -u -c \"import setuptools, tokenize;__file__='C:\\\\Users\\\\NEWNOT~1\\\\AppData\\\\Local\\\\Temp\\\\pip-install-jq2cz80k\\\\majka\\\\setup.py';f=getattr(tokenize, 'open', open)(__file__);code=f.read().replace('\\r\\n', '\\n');f.close();exec(compile(code, __file__, 'exec'))\" install --record C:\\Users\\NEWNOT~1\\AppData\\Local\\Temp\\pip-record-jb0sqhcm\\install-record.txt --single-version-externally-managed --compile --install-headers c:\\vs\\programovani\\python\\drobne_knihovny\\environment\\include\\site\\python3.7\\majka:\n",
    "    running install\n",
    "    running build\n",
    "    running build_ext\n",
    "    building 'majka' extension\n",
    "    error: Microsoft Visual C++ 14.0 is required. Get it with \"Microsoft Visual C++ Build Tools\": https://visualstudio.microsoft.com/downloads/\n",
    "\n",
    "    ----------------------------------------\n",
    "Command \"c:\\vs\\programovani\\python\\drobne_knihovny\\environment\\scripts\\python.exe -u -c \"import setuptools, tokenize;__file__='C:\\\\Users\\\\NEWNOT~1\\\\AppData\\\\Local\\\\Temp\\\\pip-install-jq2cz80k\\\\majka\\\\setup.py';f=getattr(tokenize, 'open', open)(__file__);code=f.read().replace('\\r\\n', '\\n');f.close();exec(compile(code, __file__, 'exec'))\" install --record C:\\Users\\NEWNOT~1\\AppData\\Local\\Temp\\pip-record-jb0sqhcm\\install-record.txt --single-version-externally-managed --compile --install-headers c:\\vs\\programovani\\python\\drobne_knihovny\\environment\\include\\site\\python3.7\\majka\" failed with error code 1 in C:\\Users\\NEWNOT~1\\AppData\\Local\\Temp\\pip-install-jq2cz80k\\majka\\\n",
    "```\n",
    "S wheelem je instalace mnohem jednodušší.\n",
    "```\n",
    "(environment) C:\\vs\\programovani\\python\\drobne_knihovny>pip install numpy\n",
    "Collecting numpy\n",
    "  Downloading https://files.pythonhosted.org/packages/eb/a9/1e4215043cac5ffc6a5ab1f2e0e58a680fc8fd19e28eb28c01e90aeace3e/numpy-1.21.1-cp37-cp37m-win_amd64.whl (14.0MB)\n",
    "    100% |████████████████████████████████| 14.0MB 3.2MB/s\n",
    "Installing collected packages: numpy\n",
    "Successfully installed numpy-1.21.1\n",
    "```"
   ]
  },
  {
   "cell_type": "markdown",
   "id": "1683f8f3",
   "metadata": {},
   "source": [
    "Podívejme se, co se vlastně ve wheelu nachází. Jak bylo uvedeno výše, wheel je archiv, nikoli binární soubor. Pro \"čistý\" balíček, který nepoužívá Cčko, se tak ve wheelu nachází zdrojový kód v normální pro člověka čitelné podobě."
   ]
  },
  {
   "cell_type": "markdown",
   "id": "bddb79cd",
   "metadata": {},
   "source": [
    "Wheely mají častokrát dosti divoké názvy. Jak je rozklíčovat? Šablona názvu má tvar {distribution}-{version}(-{build tag})?-{python tag}-{abi tag}-{platform tag}.whl, přičemž jako konkrétní příklad použijme dejme tomu numpy-1.21.1-cp37-cp37m-win_amd64.whl. \n",
    "- distribution značí jméno balíčku (numpy) a version jeho verzi (1.21.1)  \n",
    "- build tag je nepovinný - proto se v šabloně nalézá otazník. Používá se v případě, kdy by měly dva wheely všechny ostatní identifikátory (vč. verze balíčku) identické. U výše zmíněného numpy balíčku build tag přítomný není a hádám, že se s ním člověk při stahování souborů z pypi.org asi moc nesetká.  \n",
    "- python tag udává verzi Pythonu, pro který je wheel určen. Pokud bude balíček fungovat jak pro Python 2, tak pro Python 3, objeví se zde py2.py3. Pokud je ale určen pouze pro jednu z těchto možností, objeví se py2, nebo py3. Velice často ale dochází k tomu, že balíček funguje jen pro konkrétní minoritní verzi Pythonu. Tehdy se v názvu wheelu objeví např. py37. Nám se u numpy ale objevilo cp37. Písmeno c udává implementaci, konkrétně CPython. Balíček fungující na jakékoli implementaci Python má výše zmíněné py, například Jython by měl jy - více zkratek viz [zde](https://www.python.org/dev/peps/pep-0425/#python-tag), povídání k implementacím [tady](https://wiki.python.org/moin/PythonImplementations).  \n",
    "- ABI je zkratka pro Application Binary Interface. Jestli jsem vše správně pochopil, jedná se o interface, skrze který komunikuje program s DDLkama poskytovanýma Pythoní instalací nebo třeba operačním systémem (viz [toto](https://stackoverflow.com/questions/2171177/what-is-an-application-binary-interface-abi) a [toto](https://www.python.org/dev/peps/pep-0384/)). V našem konkrétním příkladě zde máme cp37m - první čtyři znaky se vztahují ke minor verzi Pythonu, písmeno m se týka [\"pymalloc alocatoru\"](https://stackoverflow.com/questions/54097033/what-does-the-m-in-a-python-abi-tag-mean).  \n",
    "- jako poslední je tag s operačním systémem a architekturou."
   ]
  },
  {
   "cell_type": "markdown",
   "id": "15b82d2b",
   "metadata": {},
   "source": [
    "Co ale dělat, když člověk u sebe potřebuje wheel vytvořit? Postup si ukážeme na balíčku majka, jehož zdrojáky v podobě archivu stáhneme [zde](https://pypi.org/project/majka/#files) a do pracovního adrsáře si rozbalíme majka-0.8. Dále si nainstalujeme pomocný balíček určený právě na vytváření wheelů (pip install wheel).  \n",
    "Defaultní postup by bylo vlézt do adresáře balíčku (majka-0.8) a v něm spustit \n",
    "```\n",
    "python setup.py bdist_wheel\n",
    "```\n",
    "To ale spadne na chybové hlášce \"error: invalid command 'bdist_wheel'\". Řešení spočívá v editaci souboru majka-0.8\\setup.py - před řádek \"from distutils.core import setup, Extension\" se musí umístit \"import setuptools\". Pořadí je zde důležité - pokud bychom importění setuptools umístili až na distutils.core, dostali bychom po spuštění wheel vytvářejícího příkazu chybu \"error: each element of 'ext_modules' option must be an Extension instance or 2-tuple\". Paklíiže se wheel úspěšně vytvořil, nalezneme ho v adresáři majka-0.8\\dist\\majka-0.8-cp37-cp37m-win_amd64.whl.  \n",
    "Podle dokumentace pro vytvoření wheelu u čistých balíčků nevyužívajících Cčko stačí do setup.cfg vložit\n",
    "```\n",
    "[bdist_wheel]\n",
    "universal = 1\n",
    "```\n",
    "Když ale to samé napíšeme u majky, ktrá Cčko potřebuje, je výsledný wheel úplně stejný jako předtím.\n",
    " "
   ]
  },
  {
   "cell_type": "markdown",
   "id": "b22cdf7e",
   "metadata": {},
   "source": [
    "## Request"
   ]
  },
  {
   "cell_type": "code",
   "execution_count": 1,
   "id": "600f3005",
   "metadata": {
    "ExecuteTime": {
     "end_time": "2021-08-08T18:42:29.025019Z",
     "start_time": "2021-08-08T18:42:23.614548Z"
    }
   },
   "outputs": [],
   "source": [
    "import requests"
   ]
  },
  {
   "cell_type": "markdown",
   "id": "f2313aba",
   "metadata": {},
   "source": [
    "Pokud chceme provolat pomocí GETu nějakou stránku, napíšeme"
   ]
  },
  {
   "cell_type": "code",
   "execution_count": 5,
   "id": "2ba581c8",
   "metadata": {
    "ExecuteTime": {
     "end_time": "2021-08-07T11:53:09.005804Z",
     "start_time": "2021-08-07T11:53:06.291159Z"
    }
   },
   "outputs": [
    {
     "data": {
      "text/plain": [
       "<Response [200]>"
      ]
     },
     "execution_count": 5,
     "metadata": {},
     "output_type": "execute_result"
    }
   ],
   "source": [
    "requests.get(\"https://seznam.cz\")"
   ]
  },
  {
   "cell_type": "markdown",
   "id": "b2f1ee82",
   "metadata": {},
   "source": [
    "Zdůrazněme, že https:// je potřeba - jinak se objeví chyba \n",
    "```\n",
    "MissingSchema: Invalid URL 'seznam.cz': No schema supplied. Perhaps you meant http://seznam.cz?\n",
    "```"
   ]
  },
  {
   "cell_type": "markdown",
   "id": "408bf7ae",
   "metadata": {},
   "source": [
    "Navrátový kód je sice pěkný, ale obvykle chceme GETem získat i nějaké nemetadatové informace. Návratový objekt si tak uložíme do proměnné:"
   ]
  },
  {
   "cell_type": "code",
   "execution_count": 6,
   "id": "5c7d8c7d",
   "metadata": {
    "ExecuteTime": {
     "end_time": "2021-08-07T11:54:35.366310Z",
     "start_time": "2021-08-07T11:54:35.088650Z"
    }
   },
   "outputs": [],
   "source": [
    "response = requests.get(\"https://seznam.cz\")"
   ]
  },
  {
   "cell_type": "markdown",
   "id": "035975f2",
   "metadata": {},
   "source": [
    "Printění tohoto objektu dává informaci o návratovém kódu."
   ]
  },
  {
   "cell_type": "code",
   "execution_count": 9,
   "id": "43368548",
   "metadata": {
    "ExecuteTime": {
     "end_time": "2021-08-07T11:55:38.763488Z",
     "start_time": "2021-08-07T11:55:38.746424Z"
    }
   },
   "outputs": [
    {
     "name": "stdout",
     "output_type": "stream",
     "text": [
      "<Response [200]>\n"
     ]
    }
   ],
   "source": [
    "print(response)"
   ]
  },
  {
   "cell_type": "markdown",
   "id": "a060a4e5",
   "metadata": {},
   "source": [
    "Nicméně pokud ccheme tento kód získat jako integer a ne jako nějakou responsi, musíme šáhnout na atribut *status_code* response objektu."
   ]
  },
  {
   "cell_type": "code",
   "execution_count": 10,
   "id": "18679e8a",
   "metadata": {
    "ExecuteTime": {
     "end_time": "2021-08-07T11:56:56.709692Z",
     "start_time": "2021-08-07T11:56:56.693535Z"
    }
   },
   "outputs": [
    {
     "data": {
      "text/plain": [
       "200"
      ]
     },
     "execution_count": 10,
     "metadata": {},
     "output_type": "execute_result"
    }
   ],
   "source": [
    "response.status_code"
   ]
  },
  {
   "cell_type": "markdown",
   "id": "f20e4519",
   "metadata": {},
   "source": [
    "Pokud bychom chtěli získat samotný obsah návratové zrpávy, zavolali bychom\n",
    "```python\n",
    "response.content\n",
    "```\n",
    "případně\n",
    "```python\n",
    "response.text\n",
    "```\n",
    "Nicméně tyto zprávy by v případě seznamácké stránky byly příliš velké a tak i nepřehledné. Proto se pokusíme provolat Elasticsearch bydlící na lokálu na portu 9200."
   ]
  },
  {
   "cell_type": "code",
   "execution_count": 12,
   "id": "5d005e09",
   "metadata": {
    "ExecuteTime": {
     "end_time": "2021-08-07T12:21:02.182661Z",
     "start_time": "2021-08-07T12:21:02.161718Z"
    }
   },
   "outputs": [],
   "source": [
    "response = requests.get(\"http://localhost:9200\")"
   ]
  },
  {
   "cell_type": "code",
   "execution_count": 14,
   "id": "69811fba",
   "metadata": {
    "ExecuteTime": {
     "end_time": "2021-08-07T12:21:15.007470Z",
     "start_time": "2021-08-07T12:21:14.997498Z"
    }
   },
   "outputs": [
    {
     "data": {
      "text/plain": [
       "200"
      ]
     },
     "execution_count": 14,
     "metadata": {},
     "output_type": "execute_result"
    }
   ],
   "source": [
    "response.status_code"
   ]
  },
  {
   "cell_type": "markdown",
   "id": "f2d9f3af",
   "metadata": {},
   "source": [
    "Vidíme, že content obsahuje binární objekt."
   ]
  },
  {
   "cell_type": "code",
   "execution_count": 13,
   "id": "7e331403",
   "metadata": {
    "ExecuteTime": {
     "end_time": "2021-08-07T12:21:03.717909Z",
     "start_time": "2021-08-07T12:21:03.698960Z"
    }
   },
   "outputs": [
    {
     "data": {
      "text/plain": [
       "b'{\\n  \"name\" : \"LAPTOP-T8SH3TQ4\",\\n  \"cluster_name\" : \"elasticsearch\",\\n  \"cluster_uuid\" : \"EZ6I1dsWS-WFN0A1spvfXQ\",\\n  \"version\" : {\\n    \"number\" : \"7.13.3\",\\n    \"build_flavor\" : \"default\",\\n    \"build_type\" : \"zip\",\\n    \"build_hash\" : \"5d21bea28db1e89ecc1f66311ebdec9dc3aa7d64\",\\n    \"build_date\" : \"2021-07-02T12:06:10.804015202Z\",\\n    \"build_snapshot\" : false,\\n    \"lucene_version\" : \"8.8.2\",\\n    \"minimum_wire_compatibility_version\" : \"6.8.0\",\\n    \"minimum_index_compatibility_version\" : \"6.0.0-beta1\"\\n  },\\n  \"tagline\" : \"You Know, for Search\"\\n}\\n'"
      ]
     },
     "execution_count": 13,
     "metadata": {},
     "output_type": "execute_result"
    }
   ],
   "source": [
    "response.content"
   ]
  },
  {
   "cell_type": "markdown",
   "id": "d9520c65",
   "metadata": {
    "ExecuteTime": {
     "end_time": "2021-08-07T12:22:31.950174Z",
     "start_time": "2021-08-07T12:22:31.938167Z"
    }
   },
   "source": [
    "Text je obyčejný string, i když jeho vnitřní struktura vypadá jako json. Jak z něj ale rozumně onen json dostat?"
   ]
  },
  {
   "cell_type": "code",
   "execution_count": 18,
   "id": "fd8971be",
   "metadata": {
    "ExecuteTime": {
     "end_time": "2021-08-07T12:22:01.280107Z",
     "start_time": "2021-08-07T12:22:01.271095Z"
    }
   },
   "outputs": [
    {
     "data": {
      "text/plain": [
       "str"
      ]
     },
     "execution_count": 18,
     "metadata": {},
     "output_type": "execute_result"
    }
   ],
   "source": [
    "type(response.text)"
   ]
  },
  {
   "cell_type": "code",
   "execution_count": 17,
   "id": "7ffd6805",
   "metadata": {
    "ExecuteTime": {
     "end_time": "2021-08-07T12:21:38.986871Z",
     "start_time": "2021-08-07T12:21:38.969882Z"
    }
   },
   "outputs": [
    {
     "data": {
      "text/plain": [
       "'{\\n  \"name\" : \"LAPTOP-T8SH3TQ4\",\\n  \"cluster_name\" : \"elasticsearch\",\\n  \"cluster_uuid\" : \"EZ6I1dsWS-WFN0A1spvfXQ\",\\n  \"version\" : {\\n    \"number\" : \"7.13.3\",\\n    \"build_flavor\" : \"default\",\\n    \"build_type\" : \"zip\",\\n    \"build_hash\" : \"5d21bea28db1e89ecc1f66311ebdec9dc3aa7d64\",\\n    \"build_date\" : \"2021-07-02T12:06:10.804015202Z\",\\n    \"build_snapshot\" : false,\\n    \"lucene_version\" : \"8.8.2\",\\n    \"minimum_wire_compatibility_version\" : \"6.8.0\",\\n    \"minimum_index_compatibility_version\" : \"6.0.0-beta1\"\\n  },\\n  \"tagline\" : \"You Know, for Search\"\\n}\\n'"
      ]
     },
     "execution_count": 17,
     "metadata": {},
     "output_type": "execute_result"
    }
   ],
   "source": [
    "response.text"
   ]
  },
  {
   "cell_type": "markdown",
   "id": "d50b4d6a",
   "metadata": {},
   "source": [
    "Stačí použít metodu (opravdu metodu, nikoli atribut) *json*."
   ]
  },
  {
   "cell_type": "code",
   "execution_count": 20,
   "id": "bd329dd0",
   "metadata": {
    "ExecuteTime": {
     "end_time": "2021-08-07T12:22:46.731411Z",
     "start_time": "2021-08-07T12:22:46.712460Z"
    },
    "scrolled": true
   },
   "outputs": [
    {
     "data": {
      "text/plain": [
       "{'name': 'LAPTOP-T8SH3TQ4',\n",
       " 'cluster_name': 'elasticsearch',\n",
       " 'cluster_uuid': 'EZ6I1dsWS-WFN0A1spvfXQ',\n",
       " 'version': {'number': '7.13.3',\n",
       "  'build_flavor': 'default',\n",
       "  'build_type': 'zip',\n",
       "  'build_hash': '5d21bea28db1e89ecc1f66311ebdec9dc3aa7d64',\n",
       "  'build_date': '2021-07-02T12:06:10.804015202Z',\n",
       "  'build_snapshot': False,\n",
       "  'lucene_version': '8.8.2',\n",
       "  'minimum_wire_compatibility_version': '6.8.0',\n",
       "  'minimum_index_compatibility_version': '6.0.0-beta1'},\n",
       " 'tagline': 'You Know, for Search'}"
      ]
     },
     "execution_count": 20,
     "metadata": {},
     "output_type": "execute_result"
    }
   ],
   "source": [
    "response.json()"
   ]
  },
  {
   "cell_type": "markdown",
   "id": "394ef59e",
   "metadata": {},
   "source": [
    "Občas se též hodí mít informace o hlavičce (např. aby člověk věděl, jaký je vlastně typ toho, co ze serveru dostává - v našem případě je to json, viz content-type)."
   ]
  },
  {
   "cell_type": "code",
   "execution_count": 21,
   "id": "c2928aca",
   "metadata": {
    "ExecuteTime": {
     "end_time": "2021-08-07T12:25:32.385034Z",
     "start_time": "2021-08-07T12:25:32.374064Z"
    }
   },
   "outputs": [
    {
     "data": {
      "text/plain": [
       "{'Warning': '299 Elasticsearch-7.13.3-5d21bea28db1e89ecc1f66311ebdec9dc3aa7d64 \"Elasticsearch built-in security features are not enabled. Without authentication, your cluster could be accessible to anyone. See https://www.elastic.co/guide/en/elasticsearch/reference/7.13/security-minimal-setup.html to enable security.\"', 'content-type': 'application/json; charset=UTF-8', 'content-encoding': 'gzip', 'content-length': '339'}"
      ]
     },
     "execution_count": 21,
     "metadata": {},
     "output_type": "execute_result"
    }
   ],
   "source": [
    "response.headers"
   ]
  },
  {
   "cell_type": "markdown",
   "id": "bd319250",
   "metadata": {},
   "source": [
    "V rámci elasticu budeme onomu search enginu předkládat dotazy, nejen ho provolávat s cílem zjitit, jestli žije. Url bude pořád stejná, není důvod přecházet na url Kibany. \n",
    "Pokud chceme zjisti obsah určitého dokumentu, což bychom v Kibaně realizovali pomocí\n",
    "```\n",
    "GET news_headlines/_doc/7Rmlz3oBnJR_Eb7VMUY_\n",
    "```\n",
    "použijeme i nyní requests.get. Pouze url rozšíříme o odpovídající parametry."
   ]
  },
  {
   "cell_type": "code",
   "execution_count": 28,
   "id": "bfd7f1e4",
   "metadata": {
    "ExecuteTime": {
     "end_time": "2021-08-07T12:41:18.772759Z",
     "start_time": "2021-08-07T12:41:18.741804Z"
    }
   },
   "outputs": [
    {
     "data": {
      "text/plain": [
       "{'_index': 'news_headlines',\n",
       " '_type': '_doc',\n",
       " '_id': '7Rmlz3oBnJR_Eb7VMUY_',\n",
       " '_version': 1,\n",
       " '_seq_no': 7790,\n",
       " '_primary_term': 1,\n",
       " 'found': True,\n",
       " '_source': {'date': '2018-01-11',\n",
       "  'short_description': 'French police recovered the merchandise stolen in an armed robbery on Wednesday.',\n",
       "  '@timestamp': '2018-01-11T00:00:00.000+01:00',\n",
       "  'link': 'https://www.huffingtonpost.com/entry/paris-hotel-robbery-jewels-recovered_us_5a57e499e4b0720dc4c592af',\n",
       "  'category': 'WORLD NEWS',\n",
       "  'headline': '$5.4 Million In Jewels Recovered From Paris Hotel Heist',\n",
       "  'authors': 'Emmnauel Jarry, Reuters'}}"
      ]
     },
     "execution_count": 28,
     "metadata": {},
     "output_type": "execute_result"
    }
   ],
   "source": [
    "elasticsearch_url = \"http://localhost:9200\"\n",
    "index_name = \"news_headlines\"\n",
    "document_id = \"7Rmlz3oBnJR_Eb7VMUY_\"\n",
    "whole_url = elasticsearch_url + \"/\" + index_name + \"/_doc/\" + document_id\n",
    "response = requests.get(whole_url)\n",
    "response.json()"
   ]
  },
  {
   "cell_type": "markdown",
   "id": "68403189",
   "metadata": {},
   "source": [
    "Pokud bychom chtěli zíksat nějakou informaci s pomocí getu, na který nalepíme parametry (tj. výsledná url má tvar typu https://www.google.com/search?q=kakadu), můžeme použít i parametr params a to sice následujícím způsobem."
   ]
  },
  {
   "cell_type": "code",
   "execution_count": 8,
   "id": "dd33ea66",
   "metadata": {
    "ExecuteTime": {
     "end_time": "2021-08-08T18:51:49.217672Z",
     "start_time": "2021-08-08T18:51:48.748758Z"
    }
   },
   "outputs": [],
   "source": [
    "google_url = \"https://www.google.com/search\"\n",
    "response = requests.get(\n",
    "    google_url,\n",
    "    params={\"q\": \"kakadu\"}\n",
    ")"
   ]
  },
  {
   "cell_type": "markdown",
   "id": "e4255c21",
   "metadata": {},
   "source": [
    "Běžnější ale bude posílat data pomocí postu. Obvykle by se data posílala s pomocí parametru data. jelikžož zde ale posíláme json, jmenuje se tak i použitý parametr. Výhodou je, že informace o tom, že posíláme právě json, se dostane i do hlavičky requestu."
   ]
  },
  {
   "cell_type": "code",
   "execution_count": 19,
   "id": "15157570",
   "metadata": {
    "ExecuteTime": {
     "end_time": "2021-08-08T19:04:39.378747Z",
     "start_time": "2021-08-08T19:04:38.929395Z"
    }
   },
   "outputs": [],
   "source": [
    "elasticsearch_url = \"http://localhost:9200\"\n",
    "index_name = \"animals\"\n",
    "whole_url = elasticsearch_url + \"/\" + index_name + \"/_doc\"\n",
    "animals_dict = {\"animal_name\": \"parrot\", \"animal_type\": \"bird\"}\n",
    "response = requests.post(\n",
    "    whole_url,\n",
    "    json=animals_dict\n",
    ")"
   ]
  },
  {
   "cell_type": "code",
   "execution_count": 22,
   "id": "320bb165",
   "metadata": {
    "ExecuteTime": {
     "end_time": "2021-08-08T19:05:40.115660Z",
     "start_time": "2021-08-08T19:05:40.099993Z"
    }
   },
   "outputs": [
    {
     "data": {
      "text/plain": [
       "{'_index': 'animals',\n",
       " '_type': '_doc',\n",
       " '_id': 'cjYnJ3sBVWSKN75mGWMR',\n",
       " '_version': 1,\n",
       " 'result': 'created',\n",
       " '_shards': {'total': 2, 'successful': 1, 'failed': 0},\n",
       " '_seq_no': 0,\n",
       " '_primary_term': 1}"
      ]
     },
     "execution_count": 22,
     "metadata": {},
     "output_type": "execute_result"
    }
   ],
   "source": [
    "response.json()"
   ]
  }
 ],
 "metadata": {
  "kernelspec": {
   "display_name": "Python 3 (ipykernel)",
   "language": "python",
   "name": "python3"
  },
  "language_info": {
   "codemirror_mode": {
    "name": "ipython",
    "version": 3
   },
   "file_extension": ".py",
   "mimetype": "text/x-python",
   "name": "python",
   "nbconvert_exporter": "python",
   "pygments_lexer": "ipython3",
   "version": "3.7.4"
  },
  "varInspector": {
   "cols": {
    "lenName": 16,
    "lenType": 16,
    "lenVar": 40
   },
   "kernels_config": {
    "python": {
     "delete_cmd_postfix": "",
     "delete_cmd_prefix": "del ",
     "library": "var_list.py",
     "varRefreshCmd": "print(var_dic_list())"
    },
    "r": {
     "delete_cmd_postfix": ") ",
     "delete_cmd_prefix": "rm(",
     "library": "var_list.r",
     "varRefreshCmd": "cat(var_dic_list()) "
    }
   },
   "types_to_exclude": [
    "module",
    "function",
    "builtin_function_or_method",
    "instance",
    "_Feature"
   ],
   "window_display": false
  }
 },
 "nbformat": 4,
 "nbformat_minor": 5
}
